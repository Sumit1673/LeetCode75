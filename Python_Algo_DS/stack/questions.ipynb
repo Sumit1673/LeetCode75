{
 "cells": [
  {
   "cell_type": "markdown",
   "metadata": {},
   "source": [
    "### MAX STACK\n",
    "\n",
    "Design a max stack that supports push, pop, top, peekMax and popMax.\n",
    "\n",
    "    push(x) -- Push element x onto stack.\n",
    "    pop() -- Remove the element on top of the stack and return it.\n",
    "    top() -- Get the element on the top.\n",
    "    peekMax() -- Retrieve the maximum element in the stack.\n",
    "    popMax() -- Retrieve the maximum element in the stack, and remove it. If you find more than one maximum elements, only remove the top-most one.\n"
   ]
  },
  {
   "cell_type": "code",
   "execution_count": null,
   "metadata": {},
   "outputs": [],
   "source": [
    "class MaxStack:\n",
    "    # Priority Queue is also known as MaxStack\n",
    "    def __init__(self) -> None:\n",
    "        self.stack = []\n",
    "        self.max_stack = []\n",
    "        \n",
    "    def push(self, val):\n",
    "        self.stack.append(val)\n",
    "        self.max_stack.append(\n",
    "            max(val, self.max_stack[-1]) if self.max_stack else val\n",
    "            )\n",
    "\n",
    "        \n",
    "    def top(self):\n",
    "        ## Get the top element\n",
    "        \n",
    "        return self.stack[-1] if self.stack else None\n",
    "    \n",
    "    def pop(self):\n",
    "        # Remove the element on top of the stack and return it.\n",
    "        if len(self.stack) != 0:\n",
    "            self.max_stack.pop(-1)\n",
    "            return self.stack.pop(-1)\n",
    "            \n",
    "    def peekMax(self):\n",
    "        return  self.max_stack[-1]\n",
    "    \n",
    "    def popMax(self):\n",
    "        val = self.peekMax()\n",
    "        buff = []\n",
    "        while self.top() != val:\n",
    "            # re-use pop(), ops on both max_stack and stack\n",
    "            buff.append(self.pop())\n",
    "        self.pop()\n",
    "        while len(buff) != 0:\n",
    "            # re-use push(), no need to save buffer for max-stack\n",
    "            self.push(buff.pop(-1))\n",
    "        return val\n",
    "         \n",
    "    "
   ]
  },
  {
   "cell_type": "code",
   "execution_count": 17,
   "metadata": {},
   "outputs": [
    {
     "name": "stdout",
     "output_type": "stream",
     "text": [
      "[-2, -2, -3]\n"
     ]
    },
    {
     "data": {
      "text/plain": [
       "-2"
      ]
     },
     "execution_count": 17,
     "metadata": {},
     "output_type": "execute_result"
    }
   ],
   "source": [
    "class MinStack:\n",
    "\n",
    "    def __init__(self):\n",
    "        self.stack = []\n",
    "        self.min_stack = []\n",
    "\n",
    "    def push(self, val: int) -> None:\n",
    "        self.stack.append(val)\n",
    "        self.min_stack.append(min(self.min_stack[-1], val) if len(self.min_stack)>0 else val)\n",
    "\n",
    "    def pop(self) -> None:\n",
    "        if len(self.stack) != 0:\n",
    "            self.min_stack.pop()\n",
    "            return self.stack.pop()\n",
    "\n",
    "    def top(self) -> int:\n",
    "        if self.stack:\n",
    "            return self.stack[-1]\n",
    "\n",
    "    def getMin(self) -> int:\n",
    "        return self.min_stack[-1]\n",
    "\n",
    "\n",
    "# \"push\",\"push\",\"push\",\"getMin\",\"pop\",\"top\",\"getMin\"]\n",
    "# obj = MinStack()\n",
    "# obj.push(val)\n",
    "# obj.pop()\n",
    "# param_3 = obj.top()\n",
    "# param_4 = obj.getMin()\n",
    "minstack = MinStack()\n",
    "minstack.push(-2)\n",
    "minstack.push(0)\n",
    "minstack.push(-3)\n",
    "print(minstack.min_stack)\n",
    "minstack.getMin()\n",
    "minstack.pop()\n",
    "minstack.top()\n",
    "minstack.getMin()"
   ]
  },
  {
   "cell_type": "code",
   "execution_count": 7,
   "metadata": {},
   "outputs": [
    {
     "data": {
      "text/plain": [
       "False"
      ]
     },
     "execution_count": 7,
     "metadata": {},
     "output_type": "execute_result"
    }
   ],
   "source": [
    "def isValid(s: str) -> bool:\n",
    "    stack = []\n",
    "    mapping = {'(': ')', '{':'}', '[': ']'}\n",
    "    for i in s:\n",
    "        if i in '({[':\n",
    "            stack.append(i)\n",
    "        elif stack and i == mapping[stack[-1]]:\n",
    "            stack.pop()\n",
    "        else:\n",
    "            return False\n",
    "    return len(stack) == 0\n",
    "isValid(\"(]\")"
   ]
  },
  {
   "cell_type": "code",
   "execution_count": 40,
   "metadata": {},
   "outputs": [
    {
     "data": {
      "text/plain": [
       "9"
      ]
     },
     "execution_count": 40,
     "metadata": {},
     "output_type": "execute_result"
    }
   ],
   "source": [
    "def evalRPN(tokens) -> int:\n",
    "    stack = []\n",
    "    # hmap = {\"/\": div }\n",
    "    res = None\n",
    "    for i in tokens:\n",
    "        if i not in [\"/\", \"+\", \"-\", \"*\"]: \n",
    "            stack.append(int(i))\n",
    "        else:\n",
    "            one = stack.pop()\n",
    "            if res is not None:\n",
    "                two = res\n",
    "            elif len(stack)>=1:\n",
    "                two = stack.pop()       \n",
    "            \n",
    "            if i == \"/\":\n",
    "                res = int(one/two)\n",
    "            if i == \"*\":\n",
    "                res = two * one\n",
    "            if i == \"+\":\n",
    "                res = two + one\n",
    "            if i == \"-\":\n",
    "                res = one - two\n",
    "    return res\n",
    "\n",
    "tokens = [\"2\",\"1\",\"+\",\"3\",\"*\"]\n",
    "evalRPN(tokens)\n"
   ]
  },
  {
   "cell_type": "code",
   "execution_count": null,
   "metadata": {},
   "outputs": [
    {
     "data": {
      "text/plain": [
       "0"
      ]
     },
     "execution_count": 25,
     "metadata": {},
     "output_type": "execute_result"
    }
   ],
   "source": [
    "6//-132\n"
   ]
  },
  {
   "cell_type": "code",
   "execution_count": null,
   "metadata": {},
   "outputs": [],
   "source": []
  }
 ],
 "metadata": {
  "kernelspec": {
   "display_name": "base",
   "language": "python",
   "name": "python3"
  },
  "language_info": {
   "codemirror_mode": {
    "name": "ipython",
    "version": 3
   },
   "file_extension": ".py",
   "mimetype": "text/x-python",
   "name": "python",
   "nbconvert_exporter": "python",
   "pygments_lexer": "ipython3",
   "version": "3.11.4"
  }
 },
 "nbformat": 4,
 "nbformat_minor": 2
}

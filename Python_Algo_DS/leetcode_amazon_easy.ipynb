{
  "cells": [
    {
      "cell_type": "code",
      "execution_count": 1,
      "metadata": {
        "id": "-gErPTh0B8bs"
      },
      "outputs": [],
      "source": [
        "import pandas as pd\n"
      ]
    },
    {
      "cell_type": "code",
      "execution_count": null,
      "metadata": {
        "colab": {
          "base_uri": "https://localhost:8080/"
        },
        "id": "jHaHEC7rCQCH",
        "outputId": "471be22c-cc13-4705-b013-f4cc125d1cfe"
      },
      "outputs": [
        {
          "name": "stdout",
          "output_type": "stream",
          "text": [
            "ltcdscmmntyfrcdrs\n"
          ]
        }
      ],
      "source": [
        "## EASY\n",
        "## 1119. Remove Vowels from a String\n",
        "# Given a string S, remove the vowels 'a', 'e', 'i', 'o', and 'u' from it, and return the new string.\n",
        "\n",
        "\n",
        "\n",
        "# Example 1:\n",
        "\n",
        "Input=\"leetcodeisacommunityforcoders\"\n",
        "Output=\"ltcdscmmntyfrcdrs\"\n",
        "# Example 2:\n",
        "\n",
        "# Input= \"aeiou\"\n",
        "# Output: \"\"\n",
        "\n",
        "res = \"\".join(list(map(lambda x: x if x not in \"aeiou\" else \"\", Input)))\n",
        "print(res)\n",
        "assert res == Output\n",
        "# print(res, ())\n",
        "# method 2:\n",
        "# \"\".join([x for x in Input if x not in \"aeiou\"])\n"
      ]
    },
    {
      "cell_type": "markdown",
      "metadata": {
        "id": "3rUWDbn0Sd8o"
      },
      "source": [
        "807. [Max Increase to Keep City Skyline\n",
        "](https://leetcode.com/problems/max-increase-to-keep-city-skyline/description/)\n"
      ]
    },
    {
      "cell_type": "code",
      "execution_count": null,
      "metadata": {
        "colab": {
          "base_uri": "https://localhost:8080/"
        },
        "id": "nc3MKG88ERBl",
        "outputId": "37248300-f791-4647-92f7-115cedb54bd4"
      },
      "outputs": [
        {
          "name": "stdout",
          "output_type": "stream",
          "text": [
            "35\n"
          ]
        }
      ],
      "source": [
        "def maxIncreaseKeepingSkyline(grid):\n",
        "    \"\"\"\n",
        "    :type grid: List[List[int]]\n",
        "    :rtype: int\n",
        "    \"\"\"\n",
        "    n = len(grid)\n",
        "    row_max = [max(row) for row in grid]\n",
        "    col_max = [max(c) for c in zip(*grid)] # prints array column wise\n",
        "    total_increase = 0\n",
        "    for i in range(n):\n",
        "        for j in range(n):\n",
        "            total_increase += min(row_max[i], col_max[j]) - grid[i][j]\n",
        "    return total_increase\n",
        "\n",
        "# Example usage\n",
        "grid = [[3,0,8,4],[2,4,5,7],[9,2,6,3],[0,3,1,0]]\n",
        "result = maxIncreaseKeepingSkyline(grid)\n",
        "print(result)  # Output: 35\n"
      ]
    },
    {
      "cell_type": "code",
      "execution_count": null,
      "metadata": {
        "id": "5QW2dizOWLxI"
      },
      "outputs": [],
      "source": [
        "# prompt: whats the space and time complexity of the code in above cell\n",
        "\n",
        "# Space Complexity:\n",
        "# - The space used by `row_max` and `col_max` is O(n), where n is the number of rows (or columns) in the grid.\n",
        "# - The space used by the input `grid` is O(n^2).\n",
        "# - Overall, the\n",
        "\n",
        "# Time Complexity:\n",
        "# - Finding `row_max` takes O(n^2) time.\n",
        "# - Finding `col_max` takes O(n^2) time.\n",
        "# - Iterating through the grid to calculate the total increase takes O(n^2) time.\n",
        "# - Therefore, the overall time complexity is O(n^2).\n"
      ]
    },
    {
      "cell_type": "code",
      "execution_count": null,
      "metadata": {
        "colab": {
          "base_uri": "https://localhost:8080/"
        },
        "id": "4UfmpuMsfjca",
        "outputId": "e3028bc6-a4d9-42c7-8e94-d6579ff942e4"
      },
      "outputs": [
        {
          "name": "stdout",
          "output_type": "stream",
          "text": [
            "4,1,None, 2,None, 3,None, None, 6,5,None, None, 7,None, 8,None, None\n"
          ]
        }
      ],
      "source": [
        "\n",
        "tree = [4, 1, 6, 0, 2, 5, 7, None, None, None, 3, None, None, None, 8]\n",
        "\n",
        "class TreeNode:\n",
        "    def __init__(self, val=None):\n",
        "        self.val = val\n",
        "        self.left = None\n",
        "        self.right = None\n",
        "\n",
        "class BinaryTree:\n",
        "    def __init__(self):\n",
        "        self.root = None\n",
        "        self._num_of_elements = 0\n",
        "\n",
        "    def __repr__(self):\n",
        "        return self._print_recursive(self.root)\n",
        "\n",
        "    def _print_recursive(self, node):\n",
        "      # pre-order traversal will print value of a node first and all its\n",
        "      # left nodes and then its all right node of a node\n",
        "        if node is None:\n",
        "            return \"None\"\n",
        "        else:\n",
        "            return f\"{node.val},{self._print_recursive(node.left)}, {self._print_recursive(node.right)}\"\n",
        "    def insert(self, val):\n",
        "        if val:\n",
        "            self.root = self._insert_recursive(self.root, val)\n",
        "\n",
        "    def _insert_recursive(self, node, val):\n",
        "        if node is None:\n",
        "            self._num_of_elements += 1\n",
        "            return TreeNode(val)\n",
        "        if val <= node.val:\n",
        "            node.left = self._insert_recursive(node.left, val)\n",
        "        else:\n",
        "            node.right = self._insert_recursive(node.right, val)\n",
        "        return node\n",
        "t = BinaryTree()\n",
        "for i in tree:\n",
        "    t.insert(i)\n",
        "print(t)\n"
      ]
    },
    {
      "cell_type": "markdown",
      "metadata": {
        "id": "LjxryQQkuccV"
      },
      "source": [
        "[1038](https://leetcode.com/problems/binary-search-tree-to-greater-sum-tree/description/)"
      ]
    },
    {
      "cell_type": "code",
      "execution_count": null,
      "metadata": {
        "id": "xHZg_6BQllQT"
      },
      "outputs": [],
      "source": [
        "root = [4, 1, 6, 0, 2, 5, 7, None, None, None, 3, None, None, None, 8]\n",
        "# res = [30,36,21,36,35,26,15,null,null,null,33,null,null,null,8]\n",
        "t=BinaryTree()\n",
        "for i in root:\n",
        "    t.insert(i)"
      ]
    },
    {
      "cell_type": "code",
      "execution_count": null,
      "metadata": {
        "colab": {
          "base_uri": "https://localhost:8080/"
        },
        "id": "u5WF2iPR1YSC",
        "outputId": "e9c8e5ce-b106-42a3-a624-4f26a9c69924"
      },
      "outputs": [
        {
          "name": "stdout",
          "output_type": "stream",
          "text": [
            "<__main__.TreeNode object at 0x7ba5b26377f0>\n"
          ]
        }
      ],
      "source": [
        "class Solution:\n",
        "  # Reverse in order traversal -> right -> root -> left\n",
        "    def bstToGst(self, root: TreeNode) -> TreeNode:\n",
        "        self.val = 0 # this is to keep the track of previous sums\n",
        "\n",
        "        def dfs(node):\n",
        "            if not node:\n",
        "                return\n",
        "\n",
        "            dfs(node.right)\n",
        "            self.val += node.val # c\n",
        "            node.val = self.val # updating the node value\n",
        "            dfs(node.left)\n",
        "\n",
        "        dfs(root)\n",
        "        return root\n",
        "\n",
        "gt = Solution().bstToGst(t.root)\n",
        "print(gt)"
      ]
    },
    {
      "cell_type": "code",
      "execution_count": null,
      "metadata": {
        "id": "p0J5-4wz1gpZ"
      },
      "outputs": [],
      "source": [
        "root3 = [10,5,15,3,7,None,18]\n",
        "# res = [30,36,21,36,35,26,15,null,null,null,33,null,null,null,8]\n",
        "t=BinaryTree()\n",
        "for i in root3:\n",
        "    t.insert(i)"
      ]
    },
    {
      "cell_type": "code",
      "execution_count": null,
      "metadata": {
        "colab": {
          "base_uri": "https://localhost:8080/"
        },
        "id": "9Rk0Qsj85qV9",
        "outputId": "91c16a46-a346-47c6-a42a-6e1ff289c1ad"
      },
      "outputs": [
        {
          "data": {
            "text/plain": [
              "32"
            ]
          },
          "execution_count": 12,
          "metadata": {},
          "output_type": "execute_result"
        }
      ],
      "source": [
        "def rangeSumBST2(root, low: int, high: int) -> int:\n",
        "\n",
        "        if not root:\n",
        "            return\n",
        "\n",
        "        def dfs(node, res):\n",
        "            if not node:\n",
        "                return res\n",
        "            print(node.val)\n",
        "            if node.val in range(low, high+1):\n",
        "                res += node.val\n",
        "                print(\"Res = \", res)\n",
        "            res = dfs(node.left, res)\n",
        "            res = dfs(node.right, res)\n",
        "            return res\n",
        "        res = dfs(root, 0)\n",
        "        return res\n",
        "\n",
        "def rangeSumBST(root, low: int, high: int) -> int:\n",
        "  if not root:\n",
        "    return 0\n",
        "  if low <= root.val <= high:\n",
        "      return rangeSumBST(root.left, low, high) + root.val + rangeSumBST(root.right, low, high)\n",
        "  if low <= root.val:\n",
        "      return rangeSumBST(root.left, low, high)\n",
        "  return rangeSumBST(root.right, low, high)\n",
        "rangeSumBST(t.root, 7, 15)"
      ]
    },
    {
      "cell_type": "markdown",
      "metadata": {
        "id": "4ps8BR4kAB8_"
      },
      "source": [
        "1134. Armstrong Number\n",
        "The k-digit number N is an Armstrong number if and only if the k-th power of each digit sums to N.\n",
        "\n",
        "Given a positive integer N, return true if and only if it is an Armstrong number.\n",
        "\n",
        "\n",
        "\n",
        "Example 1:\n",
        "\n",
        "Input: 153\n",
        "Output: true\n",
        "Explanation:\n",
        "153 is a 3-digit number, and 153 = 1^3 + 5^3 + 3^3."
      ]
    },
    {
      "cell_type": "code",
      "execution_count": null,
      "metadata": {
        "colab": {
          "base_uri": "https://localhost:8080/"
        },
        "id": "fUNm1yoE67vV",
        "outputId": "474d5f81-812f-403f-ab2c-33c6843227c4"
      },
      "outputs": [
        {
          "data": {
            "text/plain": [
              "True"
            ]
          },
          "execution_count": 14,
          "metadata": {},
          "output_type": "execute_result"
        }
      ],
      "source": [
        "def armstrong_number(n):\n",
        "  k = len(str(n))\n",
        "  s, x = 0, n\n",
        "  while x:\n",
        "      s += (x % 10) ** k\n",
        "      x //= 10\n",
        "  return s == n\n",
        "armstrong_number(153)"
      ]
    },
    {
      "cell_type": "code",
      "execution_count": null,
      "metadata": {
        "colab": {
          "base_uri": "https://localhost:8080/",
          "height": 35
        },
        "id": "w1d48guGAhoM",
        "outputId": "04192e9b-10ab-4d26-a11d-96c512575695"
      },
      "outputs": [
        {
          "data": {
            "application/vnd.google.colaboratory.intrinsic+json": {
              "type": "string"
            },
            "text/plain": [
              "'Two Sum (/problems/two-sum)'"
            ]
          },
          "execution_count": 21,
          "metadata": {},
          "output_type": "execute_result"
        }
      ],
      "source": [
        "df_leetcode[df_leetcode[\"level\"]==\"Easy\"][\"problem\"][0]"
      ]
    },
    {
      "cell_type": "code",
      "execution_count": null,
      "metadata": {
        "id": "gdR6XHf7Bflv"
      },
      "outputs": [],
      "source": [
        "\n",
        "def twoSum(nums, target: int) :\n",
        "    hashmap = {} # diff val: index\n",
        "    for i,val in enumerate(nums):\n",
        "        diff = target - val\n",
        "\n",
        "        if diff in hashmap:\n",
        "            return [hashmap[diff], i]\n",
        "        hashmap[val] = i\n",
        "    return\n"
      ]
    },
    {
      "cell_type": "code",
      "execution_count": null,
      "metadata": {
        "colab": {
          "base_uri": "https://localhost:8080/",
          "height": 35
        },
        "id": "pmqFCgf9KMk3",
        "outputId": "606160d2-8802-47f5-92c6-701c21f9af0a"
      },
      "outputs": [
        {
          "data": {
            "application/vnd.google.colaboratory.intrinsic+json": {
              "type": "string"
            },
            "text/plain": [
              "'High Five (/problems/high-five)'"
            ]
          },
          "execution_count": 34,
          "metadata": {},
          "output_type": "execute_result"
        }
      ],
      "source": [
        "df_leetcode.loc[df_leetcode[\"level\"]==\"Easy\"][\"problem\"].iloc[7]"
      ]
    },
    {
      "cell_type": "markdown",
      "metadata": {
        "id": "GNE6Hd2lMG82"
      },
      "source": [
        "1085. Sum of Digits in the Minimum Number\n",
        "Description\n",
        "Given an integer array nums, return 0 if the sum of the digits of the minimum integer in nums is odd, or 1 otherwise.\n",
        "\n",
        "\n",
        "\n",
        "Example 1:\n",
        "\n",
        "Input: nums = [34,23,1,24,75,33,54,8]\n",
        "Output: 0\n",
        "Explanation: The minimal element is 1, and the sum of those digits is 1 which is odd, so the answer is 0"
      ]
    },
    {
      "cell_type": "code",
      "execution_count": null,
      "metadata": {
        "colab": {
          "base_uri": "https://localhost:8080/"
        },
        "id": "RxvzlbRYKNy-",
        "outputId": "f70c7644-a292-4ab3-edec-932fe70a84bf"
      },
      "outputs": [
        {
          "data": {
            "text/plain": [
              "1"
            ]
          },
          "execution_count": 40,
          "metadata": {},
          "output_type": "execute_result"
        }
      ],
      "source": [
        "def sum_of_digits(nums):\n",
        "  min_num = min(nums)\n",
        "\n",
        "  if len(str(min_num)) == 1:\n",
        "    return 1 if min_num % 2 == 0 else 0\n",
        "  else:\n",
        "    res = 0\n",
        "    for i in range(len(str(min_num))):\n",
        "      res += min_num % 10\n",
        "      min_num = min_num // 10\n",
        "    return 1 if res % 2 == 0 else 0\n",
        "sum_of_digits([99,77,33,66,55])"
      ]
    },
    {
      "cell_type": "code",
      "execution_count": null,
      "metadata": {
        "id": "on4bE61VNmGD"
      },
      "outputs": [],
      "source": [
        "# prompt: ou are given an integer array nums with no duplicates. A maximum binary tree can be built recursively from nums using the following algorithm:\n",
        "# Create a root node whose value is the maximum value in nums.\n",
        "# Recursively build the left subtree on the subarray prefix to the left of the maximum value.\n",
        "# Recursively build the right subtree on the subarray suffix to the right of the maximum value.\n",
        "# Return th\n",
        "\n",
        "# Definition for a binary tree node.\n",
        "class TreeNode:\n",
        "    def __init__(self, val=0, left=None, right=None):\n",
        "        self.val = val\n",
        "        self.left = left\n",
        "        self.right = right\n",
        "\n",
        "def constructMaximumBinaryTree(nums):\n",
        "    def build(left, right):\n",
        "        if left > right:\n",
        "            return None\n",
        "\n",
        "        # Find index of maximum value in current subarray\n",
        "        max_index = left\n",
        "        for i in range(left + 1, right + 1):\n",
        "            if nums[i] > nums[max_index]:\n",
        "                max_index = i\n",
        "\n",
        "        # Create root node with maximum value\n",
        "        root = TreeNode(nums[max_index])\n",
        "\n",
        "        # Recursively build left and right subtrees\n",
        "        root.left = build(left, max_index - 1)\n",
        "        root.right = build(max_index + 1, right)\n",
        "\n",
        "        return root\n",
        "\n",
        "    return build(0, len(nums) - 1)\n"
      ]
    },
    {
      "cell_type": "markdown",
      "metadata": {
        "id": "lCQuoeyEPKe_"
      },
      "source": [
        "[Partition Strings](https://leetcode.com/problems/partition-labels/)"
      ]
    },
    {
      "cell_type": "code",
      "execution_count": null,
      "metadata": {
        "colab": {
          "base_uri": "https://localhost:8080/"
        },
        "id": "be9Ji3aWPC8N",
        "outputId": "b8a26f05-ccb1-4584-a2f2-cf8582a1601e"
      },
      "outputs": [
        {
          "data": {
            "text/plain": [
              "[9, 7, 8]"
            ]
          },
          "execution_count": 3,
          "metadata": {},
          "output_type": "execute_result"
        }
      ],
      "source": [
        "# Input: s = \"ababcbacadefegdehijhklij\"\n",
        "# Output: [9,7,8]\n",
        "# Explanation:\n",
        "# The partition is \"ababcbaca\", \"defegde\", \"hijhklij\".\n",
        "# This is a partition so that each letter appears in at most one part.\n",
        "# A partition like \"ababcbacadefegde\", \"hijhklij\" is incorrect, because it splits s into less parts.\n",
        "\n",
        "def partitionLabels(s: str):\n",
        "  last_occ = {c:idx for idx, c in enumerate(s)}\n",
        "  ans = []\n",
        "  start, end = 0, 0\n",
        "  for curr_idx, c in enumerate(s):\n",
        "    # find the last index of the current char\n",
        "    end = max(end, last_occ[c])\n",
        "    if curr_idx == end:\n",
        "      ans.append(end - start + 1)\n",
        "      start = end + 1\n",
        "  return ans\n",
        "partitionLabels(\"ababcbacadefegdehijhklij\")"
      ]
    },
    {
      "cell_type": "code",
      "execution_count": null,
      "metadata": {
        "colab": {
          "base_uri": "https://localhost:8080/"
        },
        "id": "tmRaJb_euRSY",
        "outputId": "1a6c40a8-f5b5-4892-a227-0afe258844c2"
      },
      "outputs": [
        {
          "name": "stdout",
          "output_type": "stream",
          "text": [
            "[[1, 3], [2, 6], [8, 10], [15, 18]]\n"
          ]
        },
        {
          "data": {
            "text/plain": [
              "[[1, 3], [15, 18], [2, 10]]"
            ]
          },
          "execution_count": 7,
          "metadata": {},
          "output_type": "execute_result"
        }
      ],
      "source": [
        "# Example 1:\n",
        "\n",
        "# Input:\n",
        "intervals = [[1,3],[2,6],[8,10],[15,18]]\n",
        "# Output: [[1,6],[8,10],[15,18]]\n",
        "# Explanation: Since intervals [1,3] and [2,6] overlap, merge them into [1,6].\n",
        "def merge_intervals(intervals):\n",
        "  intervals.sort()\n",
        "  print(intervals)\n",
        "  res = [intervals[0]]\n",
        "  l=0\n",
        "  r = 1\n",
        "  while l<len(intervals):\n",
        "      if intervals[l][0] <= intervals[r][1]:\n",
        "        res.append([intervals[l-1][0], max(intervals[l-1][1], intervals[l][1])])\n",
        "        r+=2\n",
        "        l+=2\n",
        "      else:\n",
        "        res.append(intervals[l])\n",
        "        l+=1\n",
        "        r+=1\n",
        "  return res\n",
        "\n",
        "\n",
        "\n",
        "\n",
        "\n",
        "merge_intervals(intervals)"
      ]
    },
    {
      "cell_type": "code",
      "execution_count": null,
      "metadata": {
        "colab": {
          "base_uri": "https://localhost:8080/"
        },
        "id": "xQm4m3mI5Vds",
        "outputId": "460263f9-b96a-403a-ced7-3f1fe77574c2"
      },
      "outputs": [
        {
          "data": {
            "text/plain": [
              "['mee', 'aqq']"
            ]
          },
          "execution_count": 8,
          "metadata": {},
          "output_type": "execute_result"
        }
      ],
      "source": [
        "\n",
        "def findAndReplacePattern(words, pattern: str):\n",
        "    return [word for word in words\n",
        "\n",
        "            if len(word) == len(pattern) and\n",
        "            len(set(word)) == len(set(pattern)) and\n",
        "            len(set(zip(word, pattern))) == len(set(word))]\n",
        "\n",
        "\n",
        "findAndReplacePattern([\"abc\",\"deq\",\"mee\",\"aqq\",\"dkd\",\"ccc\"], \"abb\")"
      ]
    },
    {
      "cell_type": "code",
      "execution_count": null,
      "metadata": {
        "id": "tGsD09uMjY1V"
      },
      "outputs": [],
      "source": []
    }
  ],
  "metadata": {
    "colab": {
      "provenance": []
    },
    "kernelspec": {
      "display_name": "Python 3",
      "name": "python3"
    },
    "language_info": {
      "codemirror_mode": {
        "name": "ipython",
        "version": 3
      },
      "file_extension": ".py",
      "mimetype": "text/x-python",
      "name": "python",
      "nbconvert_exporter": "python",
      "pygments_lexer": "ipython3",
      "version": "3.10.14"
    }
  },
  "nbformat": 4,
  "nbformat_minor": 0
}

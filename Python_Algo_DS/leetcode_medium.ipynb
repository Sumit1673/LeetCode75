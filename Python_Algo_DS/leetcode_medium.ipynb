{
 "cells": [
  {
   "cell_type": "code",
   "execution_count": 2,
   "metadata": {},
   "outputs": [],
   "source": [
    "from typing import *"
   ]
  },
  {
   "cell_type": "code",
   "execution_count": 3,
   "metadata": {},
   "outputs": [],
   "source": [
    "\n",
    "# Difficulty = MEDIUM\n",
    "def combinationSum4(nums: List[int], target: int) -> int:\n",
    "    dp = {0: 1}\n",
    "    \n",
    "    for total in range(1, target + 1):\n",
    "        dp[total] = 0\n",
    "        for n in nums:\n",
    "            dp[total] += dp.get(total -n, 0)\n",
    "            \n",
    "    return dp[target]"
   ]
  },
  {
   "cell_type": "markdown",
   "metadata": {},
   "source": [
    "* Merge sort: O(n log n)\n",
    "* Quick sort: O(n log n) on average, O(n^2) in the worst case\n",
    "* Heap sort: O(n log n)\n",
    "* Bubble sort: O(n^2)\n",
    "* Insertion sort: O(n^2)\n",
    "* Selection sort: O(n^2)"
   ]
  },
  {
   "cell_type": "code",
   "execution_count": 2,
   "metadata": {},
   "outputs": [
    {
     "data": {
      "text/plain": [
       "'9534330'"
      ]
     },
     "execution_count": 2,
     "metadata": {},
     "output_type": "execute_result"
    }
   ],
   "source": [
    "class LargerNumKey(str):\n",
    "    def __lt__(x, y):\n",
    "        # Compare x+y with y+x in reverse order to get descending order\n",
    "        return x+y > y+x\n",
    "\n",
    "def largestNumber(nums: List[int]) -> str:\n",
    "    # Convert the list of numbers to list of strings\n",
    "    nums = [str(num) for num in nums]\n",
    "    \n",
    "    # Sort the list of strings using our custom sorting function\n",
    "    nums.sort(key=LargerNumKey)\n",
    "    \n",
    "    # Join the sorted list of strings to form the final result\n",
    "    largest_num = ''.join(nums)\n",
    "    \n",
    "    # If the largest number is 0, return \"0\"\n",
    "    # Otherwise, return the largest number\n",
    "    return \"0\" if largest_num[0] == \"0\" else largest_num\n",
    "\n",
    "largestNumber([3,30,34,5,9])\n"
   ]
  },
  {
   "cell_type": "code",
   "execution_count": null,
   "metadata": {},
   "outputs": [],
   "source": [
    "import heapq\n",
    "def topKFrequent(self, nums: List[int], k: int) -> List[int]:\n",
    "    # freq_counter = Counter(nums)\n",
    "    # return sorted(freq_counter, key=freq_counter.get, reverse=True)[:k]\n",
    "    \n",
    "\n",
    "\n",
    "    # Count frequencies\n",
    "    freq = {}\n",
    "    for num in nums: # O(n)\n",
    "        freq[num] = freq.get(num, 0) + 1\n",
    "\n",
    "    # Create a max heap using frequency as the key\n",
    "    heap = []\n",
    "    for num, freq in freq.items(): #O(n)\n",
    "        heapq.heappush(heap, (-freq, num)) # -ve in freq changes a min heap to max heap, default heap is minHeap\n",
    "\n",
    "    # Extract top k elements\n",
    "    result = []\n",
    "    for _ in range(k): #O(klogn)\n",
    "        _, num = heapq.heappop(heap)\n",
    "        result.append(num)\n",
    "    \n",
    "    # overall O(n) + O(n) + O(klogn) = O(n + klogn) bettern than O(nlogn) because k is always less than n\n",
    "    return result\n"
   ]
  },
  {
   "cell_type": "markdown",
   "metadata": {},
   "source": [
    "## [215](https://leetcode.com/problems/kth-largest-element-in-an-array/description/)\n",
    "Solve it without sorting"
   ]
  },
  {
   "cell_type": "code",
   "execution_count": 12,
   "metadata": {},
   "outputs": [
    {
     "data": {
      "text/plain": [
       "4"
      ]
     },
     "execution_count": 12,
     "metadata": {},
     "output_type": "execute_result"
    }
   ],
   "source": [
    "import heapq\n",
    "def findKthLargest(nums: List[int], k: int) -> int:\n",
    "    # by sorting its very easy.\n",
    "    # Either use sorted or heapsort --> TC O(nlogn)\n",
    "    # h = []\n",
    "    # for val in nums:\n",
    "    #     heapq.heappush(h, -val)\n",
    "    # for i in range(len(h)):\n",
    "    #     if i == k-1:\n",
    "    #         return -heapq.heappop(h)\n",
    "    #     else:\n",
    "    #         heapq.heappop(h)\n",
    "    # heap is used to maintain the order of elements in a\n",
    "    # a specific order. Its not sorting \n",
    "    heap = nums[:k]\n",
    "    # The reason only k elements are heapified in the solution\n",
    "    # to find the kth largest element is to optimize\n",
    "    # the algorithm's time complexity.\n",
    "    heapq.heapify(heap)\n",
    "    \n",
    "    for num in nums[k:]:\n",
    "        if num > heap[0]:\n",
    "            heapq.heappop(heap)\n",
    "            heapq.heappush(heap, num) # will \n",
    "    \n",
    "    return heap[0]\n",
    "\n",
    "\n",
    "    \n",
    "findKthLargest([3,2,1,5,6,4], k = 3)       \n",
    "        \n",
    "        "
   ]
  },
  {
   "cell_type": "markdown",
   "metadata": {},
   "source": [
    "[230](https://leetcode.com/problems/kth-smallest-element-in-a-bst/description/)\n",
    " Kth Smallest Element in a BST\n",
    "\n",
    "Given the root of a binary search tree, and an integer k, return the kth smallest value (1-indexed) of all the values of the nodes in the tree."
   ]
  },
  {
   "cell_type": "code",
   "execution_count": 4,
   "metadata": {},
   "outputs": [],
   "source": [
    "# Definition for a binary tree node.\n",
    "# class TreeNode:\n",
    "#     def __init__(self, val=0, left=None, right=None):\n",
    "#         self.val = val\n",
    "#         self.left = left\n",
    "#         self.right = right\n",
    "import heapq\n",
    "def kthSmallest(root, k: int) -> int:\n",
    "    heap = []\n",
    "\n",
    "    def dfs(node):\n",
    "        if not node:\n",
    "            return\n",
    "        \n",
    "        heapq.heappush(heap, node.val)\n",
    "        dfs(node.left)\n",
    "        dfs(node.right)\n",
    "\n",
    "    dfs(root)\n",
    "    # result = []\n",
    "    for _ in range(k-1): #O(klogn)\n",
    "        heapq.heappop(heap)\n",
    "    return heap[0]\n",
    "        "
   ]
  },
  {
   "cell_type": "code",
   "execution_count": 21,
   "metadata": {},
   "outputs": [
    {
     "data": {
      "text/plain": [
       "[2, 3, 8, 5, 4]"
      ]
     },
     "execution_count": 21,
     "metadata": {},
     "output_type": "execute_result"
    }
   ],
   "source": [
    "h = [4,5,8,2] \n",
    "heapq.heapify(h)\n",
    "heapq.heappush(h, 3)\n",
    "h"
   ]
  },
  {
   "cell_type": "code",
   "execution_count": 6,
   "metadata": {},
   "outputs": [
    {
     "name": "stdout",
     "output_type": "stream",
     "text": [
      "4\n",
      "5\n",
      "5\n",
      "8\n",
      "8\n"
     ]
    }
   ],
   "source": [
    "\n",
    "\n",
    "class KthLargest2(object):\n",
    "\n",
    "    def __init__(self, k, nums):\n",
    "        self.k = k\n",
    "        self.nums = nums\n",
    "        heapq.heapify(self.nums)  # Convert nums into a heap\n",
    "        # If the heap is larger than k, remove the smallest elements until it has exactly k elements\n",
    "        while len(self.nums) > k:\n",
    "            heapq.heappop(self.nums)\n",
    "\n",
    "    def add(self, val):\n",
    "        heapq.heappush(self.nums, val)\n",
    "        # If after adding the new value, the heap has more than k elements, pop the smallest\n",
    "        if len(self.nums) > self.k:\n",
    "            heapq.heappop(self.nums)\n",
    "        # The smallest element in the heap is now the k-th largest element\n",
    "        return self.nums[0]\n",
    "\n",
    "func = [\"KthLargest\", \"add\", \"add\", \"add\", \"add\", \"add\"]\n",
    "arggs = [[3, [4, 5, 8, 2]], [3], [5], [10], [9], [4]]\n",
    "\n",
    "for id, i in enumerate(func):\n",
    "    if i == \"KthLargest\":\n",
    "        k_obj = KthLargest2(arggs[id][0], arggs[id][1])\n",
    "\n",
    "    if id>0 and i == \"add\":\n",
    "        print(k_obj.add(arggs[id][0]))"
   ]
  },
  {
   "cell_type": "markdown",
   "metadata": {},
   "source": [
    "[366](https://algo.monster/liteproblems/366)\n",
    "\n",
    "<img src=https://assets.leetcode.com/uploads/2021/03/16/remleaves-tree.jpg>\n",
    "\n",
    "Given the root of a binary tree, collect a tree's nodes as if you were doing this:\n",
    "\n",
    "* Collect all the leaf nodes.\n",
    "* Remove all the leaf nodes.\n",
    "* Repeat until the tree is empty.\n",
    "Input: root = [1,2,3,4,5]\n",
    "\n",
    "Output: [[4,5,3],[2],[1]]\n",
    "\n",
    "Explanation:\n",
    "[[3,5,4],[2],[1]] and [[3,4,5],[2],[1]] are also considered correct answers since per each level it does not matter the order on which elements are returned.\n",
    "\n",
    "Example 2:\n",
    "\n",
    "Input: root = [1] Output: [[1]]"
   ]
  },
  {
   "cell_type": "code",
   "execution_count": 24,
   "metadata": {},
   "outputs": [
    {
     "name": "stdout",
     "output_type": "stream",
     "text": [
      "1,None, 2,None, 3,None, 4,None, 5,None, None\n"
     ]
    }
   ],
   "source": [
    "\n",
    "tree = [1,2,3,4,5]\n",
    "\n",
    "class TreeNode:\n",
    "    def __init__(self, val=None,left=None, right=None):\n",
    "        self.val = val\n",
    "        self.left = left\n",
    "        self.right = right\n",
    "\n",
    "class BinaryTree:\n",
    "    def __init__(self):\n",
    "        self.root = None\n",
    "        self._num_of_elements = 0\n",
    "\n",
    "    def __repr__(self):\n",
    "        return self._print_recursive(self.root)\n",
    "\n",
    "    def _print_recursive(self, node):\n",
    "      # pre-order traversal will print value of a node first and all its\n",
    "      # left nodes and then its all right node of a node\n",
    "        if node is None:\n",
    "            return \"None\"\n",
    "        else:\n",
    "            return f\"{node.val},{self._print_recursive(node.left)}, {self._print_recursive(node.right)}\"\n",
    "    def insert(self, val):\n",
    "        if val:\n",
    "            self.root = self._insert_recursive(self.root, val)\n",
    "\n",
    "    def _insert_recursive(self, node, val):\n",
    "        if node is None:\n",
    "            self._num_of_elements += 1\n",
    "            return TreeNode(val)\n",
    "        if val <= node.val:\n",
    "            node.left = self._insert_recursive(node.left, val)\n",
    "        else:\n",
    "            node.right = self._insert_recursive(node.right, val)\n",
    "        return node\n",
    "t = BinaryTree()\n",
    "for i in tree:\n",
    "    t.insert(i)\n",
    "print(t)\n"
   ]
  },
  {
   "cell_type": "code",
   "execution_count": 25,
   "metadata": {},
   "outputs": [
    {
     "data": {
      "text/plain": [
       "[[1], [2], [3], [4], [5]]"
      ]
     },
     "execution_count": 25,
     "metadata": {},
     "output_type": "execute_result"
    }
   ],
   "source": [
    "from collections import deque\n",
    "def findLeaves(root: Optional[TreeNode]) -> List[List[int]]:\n",
    "    \"\"\"\n",
    "    Logic: Collects the nodes of a binary tree level by level.\n",
    "\n",
    "    Args:\n",
    "        root: The root node of the binary tree.\n",
    "\n",
    "    Returns:\n",
    "        A list of lists, where each inner list represents a level of the tree.\n",
    "    \"\"\"\n",
    "\n",
    "    if not root:\n",
    "        return []\n",
    "\n",
    "    queue = deque([root])\n",
    "    result = []\n",
    "\n",
    "    while queue:\n",
    "        level_nodes = []\n",
    "        for _ in range(len(queue)):\n",
    "            node = queue.popleft()\n",
    "            level_nodes.append(node.val)\n",
    "            if node.left:\n",
    "                queue.append(node.left)\n",
    "            if node.right:\n",
    "                queue.append(node.right)\n",
    "        result.append(level_nodes)\n",
    "\n",
    "    return result\n",
    "\n",
    "findLeaves(t.root)"
   ]
  },
  {
   "cell_type": "code",
   "execution_count": 35,
   "metadata": {},
   "outputs": [
    {
     "data": {
      "text/plain": [
       "'0+-2i'"
      ]
     },
     "execution_count": 35,
     "metadata": {},
     "output_type": "execute_result"
    }
   ],
   "source": [
    "def complexNumberMultiply(num1: str, num2: str) -> str:\n",
    "        a1,b1 = num1.split('+')\n",
    "        a1 = int(a1)\n",
    "        b1 = int(b1[:-1])\n",
    "        a2,b2 = num2.split('+')\n",
    "        a2 = int(a2)\n",
    "        b2 = int(b2[:-1])\n",
    "        return str(a1*a2 + b1*b2*(-1)) + '+' + str(a1*b2 + a2*b1) + 'i'\n",
    "\n",
    "complexNumberMultiply(num1 = \"1+-1i\", num2 = \"1+-1i\")"
   ]
  },
  {
   "cell_type": "code",
   "execution_count": 37,
   "metadata": {},
   "outputs": [
    {
     "data": {
      "text/plain": [
       "'0+-2i'"
      ]
     },
     "execution_count": 37,
     "metadata": {},
     "output_type": "execute_result"
    }
   ],
   "source": [
    "def complexNumberMultiply( num1: str, num2: str) -> str:\n",
    "        \n",
    "        num1 = num1.replace(\"i\", \"j\").replace(\"+-\", \"-\")\n",
    "        num2 = num2.replace(\"i\", \"j\").replace(\"+-\", \"-\")\n",
    "\n",
    "        num1 = complex(num1)\n",
    "        num2 = complex(num2)\n",
    "\n",
    "\n",
    "        #z = eval(f\"({num1}) * ({num2})\")\n",
    "        z = num1 * num2\n",
    "        z = f\"{int(z.real)}+{int(z.imag)}i\"\n",
    "        return z\n",
    "complexNumberMultiply(num1 = \"1+-1i\", num2 = \"1+-1i\")"
   ]
  },
  {
   "cell_type": "markdown",
   "metadata": {},
   "source": [
    "Right Shift (>>)\n",
    "\n",
    "Purpose: Divides the number by 2^n, where n is the number of positions shifted.\n",
    "Effect: Shifts all bits to the right, discarding the least significant bit.\n",
    "\n",
    "Left Shift (<<)\n",
    "\n",
    "Purpose: Multiplies the number by 2^n, where n is the number of positions shifted.\n",
    "Effect: Shifts all bits to the left, filling the least significant bits with 0.\n"
   ]
  },
  {
   "cell_type": "code",
   "execution_count": 49,
   "metadata": {},
   "outputs": [
    {
     "data": {
      "text/plain": [
       "'0b11'"
      ]
     },
     "execution_count": 49,
     "metadata": {},
     "output_type": "execute_result"
    }
   ],
   "source": [
    "bin(3)"
   ]
  },
  {
   "cell_type": "code",
   "execution_count": 50,
   "metadata": {},
   "outputs": [
    {
     "data": {
      "text/plain": [
       "1"
      ]
     },
     "execution_count": 50,
     "metadata": {},
     "output_type": "execute_result"
    }
   ],
   "source": [
    "3>>1"
   ]
  },
  {
   "cell_type": "code",
   "execution_count": 51,
   "metadata": {},
   "outputs": [
    {
     "data": {
      "text/plain": [
       "1"
      ]
     },
     "execution_count": 51,
     "metadata": {},
     "output_type": "execute_result"
    }
   ],
   "source": [
    "3 & 1 # 011  &001"
   ]
  },
  {
   "cell_type": "code",
   "execution_count": 52,
   "metadata": {},
   "outputs": [
    {
     "data": {
      "text/plain": [
       "4"
      ]
     },
     "execution_count": 52,
     "metadata": {},
     "output_type": "execute_result"
    }
   ],
   "source": [
    "16 >> 2"
   ]
  },
  {
   "cell_type": "code",
   "execution_count": 53,
   "metadata": {},
   "outputs": [
    {
     "data": {
      "text/plain": [
       "2"
      ]
     },
     "execution_count": 53,
     "metadata": {},
     "output_type": "execute_result"
    }
   ],
   "source": [
    "5>>1"
   ]
  },
  {
   "cell_type": "markdown",
   "metadata": {},
   "source": [
    "[338](https://leetcode.com/problems/counting-bits/description/)\n",
    "\n",
    "Given an integer n, return an array ans of length n + 1 such that for each i (0 <= i <= n), ans[i] is the number of 1's in the binary representation of i.\n",
    "\n",
    " \n",
    "\n",
    "Example 1:\n",
    "\n",
    "Input: n = 2\n",
    "Output: [0,1,1]\n",
    "Explanation:\n",
    "0 --> 0\n",
    "1 --> 1\n",
    "2 --> 10"
   ]
  },
  {
   "cell_type": "code",
   "execution_count": null,
   "metadata": {},
   "outputs": [],
   "source": [
    "def countBits(n: int) -> List[int]:\n",
    "    digits = [0]\n",
    "    for i in range(1, n + 1):\n",
    "        digits.append(digits[i >> 1] + (i & 1))\n",
    "    return digits"
   ]
  }
 ],
 "metadata": {
  "kernelspec": {
   "display_name": "base",
   "language": "python",
   "name": "python3"
  },
  "language_info": {
   "codemirror_mode": {
    "name": "ipython",
    "version": 3
   },
   "file_extension": ".py",
   "mimetype": "text/x-python",
   "name": "python",
   "nbconvert_exporter": "python",
   "pygments_lexer": "ipython3",
   "version": "3.10.14"
  },
  "orig_nbformat": 4
 },
 "nbformat": 4,
 "nbformat_minor": 2
}

{
 "cells": [
  {
   "cell_type": "markdown",
   "metadata": {},
   "source": [
    "[841. Keys and Rooms](https://leetcode.com/problems/keys-and-rooms/description/?envType=study-plan-v2&envId=leetcode-75)\n",
    "There are n rooms labeled from 0 to n - 1 and all the rooms are locked except for room 0. Your goal is to visit all the rooms. However, you cannot enter a locked room without having its key.When you visit a room, you may find a set of distinct keys in it. Each key has a number on it, denoting which room it unlocks, and you can take all of them with you to unlock the other rooms.\n",
    "```python\n",
    "Given an array rooms where rooms[i] is the set of keys that you can obtain if you visited room i, return true if you can visit all the rooms, or false otherwise.\n",
    "Example 1:\n",
    "Input: rooms = [[1],[2],[3],[]]\n",
    "Output: true Explanation:  We visit room 0 and pick up key 1. We then visit room 1 and pick up key 2. We then visit room 2 and pick up key 3. We then visit room 3. Since we were able to visit every room, we return true.\n",
    "\n",
    "Example 2: \n",
    "Input: rooms = [[1,3],[3,0,1],[2],[0]]\n",
    "Output: false\n",
    "Explanation: We can not enter room number 2 since the only key that unlocks it is in that room.```"
   ]
  },
  {
   "cell_type": "code",
   "execution_count": 24,
   "metadata": {},
   "outputs": [
    {
     "data": {
      "text/plain": [
       "False"
      ]
     },
     "execution_count": 24,
     "metadata": {},
     "output_type": "execute_result"
    }
   ],
   "source": [
    "# USING STACK\n",
    "\n",
    "def canVisitAllRooms(rooms) -> bool:\n",
    "    n = len(rooms)\n",
    "    seen = [False] * n\n",
    "    seen[0] = True\n",
    "    stack = [0]\n",
    "    while stack:\n",
    "        room = rooms[stack.pop()]\n",
    "        for key in room:\n",
    "            if not seen[key]:\n",
    "                seen[key] = True\n",
    "                stack.append(key)\n",
    "    return all(seen)\n",
    "            \n",
    "[[1,3],[1,4],[2,3,4,1],[],[4,3,2]]\n",
    "canVisitAllRooms([[1,3],[3,0,1],[2],[0]])        "
   ]
  },
  {
   "cell_type": "code",
   "execution_count": 43,
   "metadata": {},
   "outputs": [
    {
     "name": "stdout",
     "output_type": "stream",
     "text": [
      "{0, 1, 2, 3}\n"
     ]
    },
    {
     "data": {
      "text/plain": [
       "False"
      ]
     },
     "execution_count": 43,
     "metadata": {},
     "output_type": "execute_result"
    }
   ],
   "source": [
    "# USING DFS\n",
    "\n",
    "def canVisitAllRooms2(rooms) -> bool:\n",
    "    visited = {0}\n",
    "    def dfs(keys):\n",
    "        \n",
    "        # if not keys:\n",
    "        #     return visited\n",
    "        for k in keys:\n",
    "            if k not in visited:\n",
    "                visited.add(k)\n",
    "                dfs(rooms[k])\n",
    "                \n",
    "        return visited\n",
    "    \n",
    "    dfs(rooms[0])\n",
    "    print(visited)\n",
    "    return len(rooms) == visited\n",
    "    \n",
    "            \n",
    "# [[1,3],[1,4],[2,3,4,1],[],[4,3,2]]\n",
    "canVisitAllRooms2([[1],[2],[3],[]])     "
   ]
  },
  {
   "cell_type": "markdown",
   "metadata": {},
   "source": [
    "```python \n",
    "Given a reference of a node in a connected undirected graph.\n",
    "\n",
    "Return a deep copy (clone) of the graph.\n",
    "\n",
    "Each node in the graph contains a value (int) and a list (List[Node]) of its neighbors.\n",
    "\n",
    "class Node {\n",
    "    public int val;\n",
    "    public List<Node> neighbors;\n",
    "}\n",
    " \n",
    "\n",
    "Test case format:\n",
    "\n",
    "For simplicity, each node's value is the same as the node's index (1-indexed). For example, the first node with val == 1, the second node with val == 2, and so on. The graph is represented in the test case using an adjacency list.\n",
    "\n",
    "An adjacency list is a collection of unordered lists used to represent a finite graph. Each list describes the set of neighbors of a node in the graph.\n",
    "\n",
    "The given node will always be the first node with val = 1. You must return the copy of the given node as a reference to the cloned graph.\n",
    "Input: adjList = [[2,4],[1,3],[2,4],[1,3]]\n",
    "Output: [[2,4],[1,3],[2,4],[1,3]]\n",
    "Explanation: There are 4 nodes in the graph.\n",
    "1st node (val = 1)'s neighbors are 2nd node (val = 2) and 4th node (val = 4).\n",
    "2nd node (val = 2)'s neighbors are 1st node (val = 1) and 3rd node (val = 3).\n",
    "3rd node (val = 3)'s neighbors are 2nd node (val = 2) and 4th node (val = 4).\n",
    "4th node (val = 4)'s neighbors are 1st node (val = 1) and 3rd node (val = 3).\n",
    "\n"
   ]
  },
  {
   "cell_type": "code",
   "execution_count": 2,
   "metadata": {},
   "outputs": [
    {
     "name": "stdout",
     "output_type": "stream",
     "text": [
      "Node 0: [2, 4]\n",
      "Node 1: [1, 3]\n",
      "Node 2: [2, 4]\n",
      "Node 3: [1, 3]\n"
     ]
    }
   ],
   "source": [
    "# Definition for a Node.\n",
    "class Node:\n",
    "    def __init__(self, val = 0, neighbors = None):\n",
    "        self.val = val\n",
    "        self.neighbors = neighbors if neighbors is not None else []\n",
    "def create_graph(adj_list):\n",
    "  \"\"\"\n",
    "  Creates a graph from an adjacency list representation.\n",
    "\n",
    "  Args:\n",
    "      adj_list: A list of lists, where each inner list represents the neighbors of a node.\n",
    "\n",
    "  Returns:\n",
    "      A dictionary representing the graph, where keys are node values and values are Node objects.\n",
    "  \"\"\"\n",
    "  graph = {}\n",
    "  for i, neighbors in enumerate(adj_list):\n",
    "    graph[i] = Node(i, neighbors)\n",
    "  return graph\n",
    "\n",
    "# Example usage\n",
    "adj_list = [[2, 4], [1, 3], [2, 4], [1, 3]]\n",
    "graph = create_graph(adj_list)\n",
    "\n",
    "# Print the graph (for demonstration purposes)\n",
    "for node, neighbors in graph.items():\n",
    "  print(f\"Node {node}: {neighbors.neighbors}\")     "
   ]
  },
  {
   "cell_type": "code",
   "execution_count": null,
   "metadata": {},
   "outputs": [],
   "source": [
    "  \n",
    "from typing import Optional\n",
    "class Solution:\n",
    "    def cloneGraph(self, node: Optional['Node']) -> Optional['Node']:\n",
    "        \n",
    "        hashmap = {}\n",
    "        \n",
    "        if not node:\n",
    "            return node\n",
    "        \n",
    "        def dfs_clone(node):\n",
    "            if not node:\n",
    "                return\n",
    "            hashmap[node] = Node(val=node.val)\n",
    "            for n in node.neighbors:\n",
    "                hashmap[node].neighbors.append(dfs_clone(n))\n",
    "            return hashmap[node]\n",
    "        return dfs_clone(node)"
   ]
  }
 ],
 "metadata": {
  "kernelspec": {
   "display_name": "base",
   "language": "python",
   "name": "python3"
  },
  "language_info": {
   "codemirror_mode": {
    "name": "ipython",
    "version": 3
   },
   "file_extension": ".py",
   "mimetype": "text/x-python",
   "name": "python",
   "nbconvert_exporter": "python",
   "pygments_lexer": "ipython3",
   "version": "3.11.4"
  }
 },
 "nbformat": 4,
 "nbformat_minor": 2
}

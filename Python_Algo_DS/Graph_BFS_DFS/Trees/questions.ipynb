{
 "cells": [
  {
   "cell_type": "code",
   "execution_count": 2,
   "metadata": {},
   "outputs": [
    {
     "name": "stdout",
     "output_type": "stream",
     "text": [
      "5,3,2,1,None, None, None, 4,None, None, 7,6,None, None, 8,None, None\n",
      "3\n"
     ]
    }
   ],
   "source": [
    "class TreeNode:\n",
    "    def __init__(self, val):\n",
    "        self.val = val\n",
    "        self.left = None\n",
    "        self.right = None\n",
    "\n",
    "class BinaryTree:\n",
    "    def __init__(self):\n",
    "        self.root = None\n",
    "        self._num_of_elements = 0\n",
    "        \n",
    "    def insert(self, val):\n",
    "        if val:\n",
    "            self.root = self._insert_recursive(self.root, val)\n",
    "        \n",
    "    def _insert_recursive(self, node, val):\n",
    "        if node is None:\n",
    "            self._num_of_elements += 1\n",
    "            return TreeNode(val)\n",
    "        if val <= node.val:\n",
    "            node.left = self._insert_recursive(node.left, val)\n",
    "        else:\n",
    "            node.right = self._insert_recursive(node.right, val)\n",
    "        return node\n",
    "            \n",
    "    def __repr__(self):\n",
    "        return self._print_recursive(self.root)\n",
    "    \n",
    "    def __len__(self):\n",
    "        return self._num_of_elements\n",
    "    \n",
    "    def height(self, target_val=None):\n",
    "        if target_val is None:\n",
    "            return self._height(self.root)\n",
    "        else:\n",
    "            node = self.get_node(self.root, target_val)\n",
    "            if node:\n",
    "                return self._height(node)\n",
    "            else:\n",
    "                return -1\n",
    "    \n",
    "    def find_depth(self, target_val):\n",
    "        return self._depth(self.root, target_val)\n",
    "    \n",
    "    def get_node(self, node, val):\n",
    "        if node is None:\n",
    "            return None\n",
    "        if node.val == val:\n",
    "            return node\n",
    "        left_node = self.get_node(node.left, val)\n",
    "        if left_node:\n",
    "            return left_node\n",
    "        return self.get_node(node.right, val)\n",
    "    \n",
    "    def _print_recursive(self, node):\n",
    "        #pre-order traversal\n",
    "        if node is None:\n",
    "            return \"None\"\n",
    "        else:\n",
    "            return f\"{node.val},{self._print_recursive(node.left)}, {self._print_recursive(node.right)}\"\n",
    "        \n",
    "    def _depth(self, node, target_val, depth=0):\n",
    "        if node is None:\n",
    "            return -1\n",
    "        if node.val == target_val:\n",
    "            return depth\n",
    "        left_depth = self._depth(node.left, target_val, depth + 1)\n",
    "        if left_depth != -1:\n",
    "            return left_depth\n",
    "        right_depth = self._depth(node.right, target_val, depth + 1)\n",
    "        if right_depth != -1:\n",
    "            return right_depth + 1\n",
    "        return -1\n",
    "    \n",
    "    def _height(self, node):\n",
    "        if node is None:\n",
    "            return -1\n",
    "        left_height = self._height(node.left)\n",
    "        right_height = self._height(node.right)\n",
    "        return max(left_height, right_height)+1\n",
    "    \n",
    "# Test the binary tree creation and printing\n",
    "tree = BinaryTree()\n",
    "arr = [5, 3, 7, 2, 4, 6, 8]\n",
    "for val in arr:\n",
    "    tree.insert(val)\n",
    "# tree.draw()\n",
    "tree.insert(1)\n",
    "print(tree)\n",
    "print(tree.height(5))\n",
    "\n",
    "# # Find the depth and height of a specific node\n",
    "# target_node_value = 15\n",
    "# depth = tree.find_depth(target_node_value)\n",
    "# height = tree.height(target_node_value)\n",
    "\n",
    "# if depth != -1:\n",
    "#     print(f\"The depth of node with value {target_node_value} is {depth}.\")\n",
    "#     print(f\"The height of node with value {target_node_value} is {height}.\")\n",
    "# else:\n",
    "#     print(f\"Node with value {target_node_value} not found in the tree.\")\n"
   ]
  },
  {
   "cell_type": "code",
   "execution_count": null,
   "metadata": {},
   "outputs": [],
   "source": [
    "def maxDepth(root) -> int:\n",
    "    # depth = 0\n",
    "    if root is None:\n",
    "        return 0\n",
    "\n",
    "    \n",
    "\n",
    "    if root.left is None and root.right is None:\n",
    "        return 1\n",
    "    \n",
    "    else :\n",
    "\n",
    "        # Compute the depth of each subtree\n",
    "        lDepth = maxDepth(root.left)\n",
    "        rDepth = maxDepth(root.right)\n",
    "\n",
    "        # Use the larger one\n",
    "        if (lDepth > rDepth):\n",
    "            return lDepth+1\n",
    "        else:\n",
    "            return rDepth+1\n",
    "        \n",
    "    # def dfs(root, depth):\n",
    "    #         if not root: return depth\n",
    "    #         return max(dfs(root.left, depth + 1), dfs(root.right, depth + 1))\n",
    "                       \n",
    "    #     return dfs(root, 0)"
   ]
  },
  {
   "cell_type": "code",
   "execution_count": 3,
   "metadata": {},
   "outputs": [],
   "source": [
    "class TreeNode:\n",
    "    def __init__(self, val):\n",
    "        self.val = val\n",
    "        self.left = None\n",
    "        self.right = None\n",
    "        \n"
   ]
  },
  {
   "cell_type": "code",
   "execution_count": 45,
   "metadata": {},
   "outputs": [],
   "source": [
    "class BT:\n",
    "    def __init__(self, val=None) -> None:\n",
    "        self.root = TreeNode(val)\n",
    "        self.n_elements = 1\n",
    "    \n",
    "    def insert_node(self, val):\n",
    "        \n",
    "        return self._insert_recursive(self.root, val)\n",
    "    \n",
    "    def __insert_recursive(self, node, val):\n",
    "        if not node:\n",
    "            node = TreeNode(val)\n",
    "            return node\n",
    "        if val >= node.val:\n",
    "            self.__insert_recursive(node.right, val)\n",
    "        else:\n",
    "            self.__insert_recursive(node.left, val)\n",
    "            \n",
    "        \n",
    "    def delete_node(self, node, key):\n",
    "        if not node:\n",
    "            return node\n",
    "        \n",
    "        # inorder successor method --> find the smallest element from the right subtree\n",
    "        # which is the left most node from the right subtree, as this will be greater than the\n",
    "        # given node's parent. THis is done to keep the definition of the binary tree intact\n",
    "        \n",
    "        if key < node.val:\n",
    "            node.right = self.delete_node(node.left, key)\n",
    "        elif key > node.val:\n",
    "            node.left = self.delete_node(node.right, key)\n",
    "        else:  \n",
    "            if not node.right:\n",
    "                return node.right\n",
    "            if not node.left:\n",
    "                return node.left\n",
    "            \n",
    "            \n",
    "            # when the key is found delete it\n",
    "            curr = node.right\n",
    "            while curr.left:\n",
    "                curr = curr.left\n",
    "            \n",
    "            node.val = curr.val\n",
    "            \n",
    "            # delete the duplicates\n",
    "            node.right = self.delete_node(node.right, node.val)\n",
    "        return node\n",
    "            \n",
    "            \n",
    "    def print_recursive(self, node):\n",
    "        if node is None:\n",
    "            return\n",
    "        else:\n",
    "            return f\"{node.val},{self.print_recursive(node.left)}, {self.print_recursive(node.right)}\" \n",
    "            "
   ]
  },
  {
   "cell_type": "code",
   "execution_count": 54,
   "metadata": {},
   "outputs": [],
   "source": [
    "root = TreeNode(1)\n",
    "root.left = TreeNode(2)\n",
    "root.right = TreeNode(3)\n",
    "# # root.left.left = TreeNode(2)\n",
    "# root.left.right = TreeNode(2)\n",
    "# # root.right.right = TreeNode(7)\n"
   ]
  },
  {
   "cell_type": "code",
   "execution_count": 52,
   "metadata": {},
   "outputs": [],
   "source": [
    "def recoverTree( root) -> None:\n",
    "        \"\"\"\n",
    "        Do not return anything, modify root in-place instead.\n",
    "        \"\"\"\n",
    "        temp = []\n",
    "\n",
    "        def dfs(node):\n",
    "            if not node: return node\n",
    "\n",
    "            dfs(node.left)\n",
    "            temp.append(node)\n",
    "            dfs(node.right)\n",
    "        \n",
    "        dfs(root)\n",
    "\n",
    "        srt = sorted([n.val for n in temp])\n",
    "\n",
    "        for i in range(len(srt)):\n",
    "            temp[i].val = srt[i]"
   ]
  },
  {
   "cell_type": "code",
   "execution_count": 53,
   "metadata": {},
   "outputs": [],
   "source": [
    "recoverTree(root)"
   ]
  },
  {
   "cell_type": "code",
   "execution_count": 47,
   "metadata": {},
   "outputs": [
    {
     "data": {
      "text/plain": [
       "'5,4,2,None, None, None, 4,2,None, None, None'"
      ]
     },
     "execution_count": 47,
     "metadata": {},
     "output_type": "execute_result"
    }
   ],
   "source": [
    "bst = BT()\n",
    "bst.root = root\n",
    "node = bst.delete_node(root, 3)\n",
    "bst.print_recursive(node)"
   ]
  },
  {
   "cell_type": "code",
   "execution_count": 79,
   "metadata": {},
   "outputs": [],
   "source": [
    "root1 = TreeNode(1)\n",
    "root1.left = TreeNode(2)\n",
    "# root1.right = TreeNode(3)\n",
    "\n",
    "root = TreeNode(1)\n",
    "# root.left = TreeNode(None)\n",
    "root.right = TreeNode(2)"
   ]
  },
  {
   "cell_type": "code",
   "execution_count": 83,
   "metadata": {},
   "outputs": [
    {
     "name": "stdout",
     "output_type": "stream",
     "text": [
      "[1, 2, None, None, None]\n",
      "[1, None, 2, None, None]\n"
     ]
    }
   ],
   "source": [
    "def isame_Tree(node):\n",
    "    # if not node:\n",
    "    #     return node\n",
    "    \n",
    "    def dfs(node, res =[]):\n",
    "        \n",
    "        if not node:\n",
    "            res.append(None)\n",
    "            return node\n",
    "        \n",
    "        res.append(node.val)\n",
    "        dfs(node.left, res)\n",
    "        dfs(node.right, res)\n",
    "        \n",
    "        return res\n",
    "        \n",
    "    \n",
    "    return dfs(node, [])\n",
    "\n",
    "print(isame_Tree(root1))\n",
    "print(isame_Tree(root))\n",
    "    "
   ]
  },
  {
   "cell_type": "code",
   "execution_count": 85,
   "metadata": {},
   "outputs": [],
   "source": [
    "def hasPathSum(root, targetSum: int) -> bool:\n",
    "    if not root:\n",
    "        return False\n",
    "\n",
    "    def dfs(node, target_sum, curr_sum=0):\n",
    "        if not node:\n",
    "            return False  # Return False when the current node is None\n",
    "\n",
    "        curr_sum += node.val\n",
    "        if not node.left and not node.right:  # Check if it's a leaf node\n",
    "            return curr_sum == target_sum\n",
    "\n",
    "        # Continue the DFS traversal\n",
    "        return dfs(node.left, target_sum, curr_sum) or dfs(node.right, target_sum, curr_sum)\n",
    "\n",
    "    return dfs(root, targetSum)"
   ]
  },
  {
   "cell_type": "code",
   "execution_count": 4,
   "metadata": {},
   "outputs": [],
   "source": [
    "root3 = TreeNode(5)\n",
    "root3.left = TreeNode(4)\n",
    "root3.right = TreeNode(8)\n",
    "root3.left.left = TreeNode(11)\n",
    "root3.right.left = TreeNode(13)\n",
    "root3.right.right = TreeNode(4)\n",
    "root3.left.left.left = TreeNode(7)\n",
    "root3.left.left.right = TreeNode(2)\n",
    "root3.right.right.left = TreeNode(5)\n",
    "root3.right.right.right = TreeNode(1)\n",
    "\n",
    "# root1.right = TreeNode(3)"
   ]
  },
  {
   "cell_type": "code",
   "execution_count": 1,
   "metadata": {},
   "outputs": [
    {
     "ename": "NameError",
     "evalue": "name 'root3' is not defined",
     "output_type": "error",
     "traceback": [
      "\u001b[0;31m---------------------------------------------------------------------------\u001b[0m",
      "\u001b[0;31mNameError\u001b[0m                                 Traceback (most recent call last)",
      "\u001b[1;32m/home/sumit/Documents/MyWorkspace/Algorithms/Trees/questions.ipynb Cell 14\u001b[0m line \u001b[0;36m2\n\u001b[1;32m     <a href='vscode-notebook-cell:/home/sumit/Documents/MyWorkspace/Algorithms/Trees/questions.ipynb#X16sZmlsZQ%3D%3D?line=22'>23</a>\u001b[0m         dfs(root, [], \u001b[39m0\u001b[39m)\n\u001b[1;32m     <a href='vscode-notebook-cell:/home/sumit/Documents/MyWorkspace/Algorithms/Trees/questions.ipynb#X16sZmlsZQ%3D%3D?line=23'>24</a>\u001b[0m         \u001b[39mreturn\u001b[39;00m result\n\u001b[0;32m---> <a href='vscode-notebook-cell:/home/sumit/Documents/MyWorkspace/Algorithms/Trees/questions.ipynb#X16sZmlsZQ%3D%3D?line=25'>26</a>\u001b[0m pathSum2(root3, \u001b[39m22\u001b[39m)\n",
      "\u001b[0;31mNameError\u001b[0m: name 'root3' is not defined"
     ]
    }
   ],
   "source": [
    "def pathSum2(root, target_sum: int):\n",
    "        def dfs(node, current_path, current_sum):\n",
    "            if not node:\n",
    "                return\n",
    "\n",
    "            current_path.append(node.val)\n",
    "            current_sum += node.val\n",
    "\n",
    "            # Check if the current node is a leaf and the sum equals the target\n",
    "            if not node.left and not node.right and current_sum == target_sum:\n",
    "                result.append(list(current_path))\n",
    "\n",
    "            if current_sum > target_sum:\n",
    "                current_sum = 0\n",
    "            # Continue DFS for left and right subtrees\n",
    "            dfs(node.left, current_path, current_sum)\n",
    "            dfs(node.right, current_path, current_sum)\n",
    "\n",
    "            # Backtrack: remove the last element to explore other paths\n",
    "            current_path.pop()\n",
    "\n",
    "        result = []\n",
    "        dfs(root, [], 0)\n",
    "        return result\n",
    "    \n",
    "pathSum2(root3, 22)"
   ]
  },
  {
   "cell_type": "code",
   "execution_count": 5,
   "metadata": {},
   "outputs": [
    {
     "data": {
      "text/plain": [
       "4"
      ]
     },
     "execution_count": 5,
     "metadata": {},
     "output_type": "execute_result"
    }
   ],
   "source": [
    "def pathSum(root, targetSum) -> int:\n",
    "    def dfs(node, current_path, current_sum):\n",
    "        \n",
    "        if not node:\n",
    "            return\n",
    "\n",
    "        current_path.append(node.val)\n",
    "        current_sum += node.val\n",
    "\n",
    "        # Check if the current node is a leaf and the sum equals the target\n",
    "        if current_sum == targetSum:\n",
    "            result2.append(len(list(current_path)))\n",
    "            current_path = []\n",
    "            current_sum = 0\n",
    "            \n",
    "        # Continue DFS for left and right subtrees\n",
    "        dfs(node.left, current_path, current_sum)\n",
    "        dfs(node.right, current_path, current_sum)\n",
    "\n",
    "        # Backtrack: remove the last element to explore other paths\n",
    "        current_path = current_path.pop() if len(current_path)>0 else []\n",
    "\n",
    "    result2 = []\n",
    "    dfs(root, result2, 0)\n",
    "    return len(result2)\n",
    "\n",
    "pathSum(root3, 22)"
   ]
  },
  {
   "cell_type": "code",
   "execution_count": 2,
   "metadata": {},
   "outputs": [],
   "source": [
    "from typing import *"
   ]
  },
  {
   "cell_type": "code",
   "execution_count": 5,
   "metadata": {},
   "outputs": [
    {
     "data": {
      "text/plain": [
       "2"
      ]
     },
     "execution_count": 5,
     "metadata": {},
     "output_type": "execute_result"
    }
   ],
   "source": [
    "def binarysearchInsertIndex(nums: List[int], target: int) -> int:\n",
    "    low, high = 0, len(nums)\n",
    "    while low < high:\n",
    "        mid = (low + high) // 2\n",
    "        # if target is in the list and the\n",
    "        # condition satisfies , index is updated\n",
    "        # if not in the list and condition satisfies index is updated\n",
    "        if target > nums[mid]:\n",
    "            low = mid + 1\n",
    "        else:\n",
    "            # here low remains at 0th index\n",
    "            # so if target is not present and the condition satisfies\n",
    "            # low is still returned and it will have the index\n",
    "            high = mid\n",
    "    return low\n",
    "\n",
    "binarysearchInsertIndex([1,3,5,6], 5)"
   ]
  },
  {
   "cell_type": "code",
   "execution_count": null,
   "metadata": {},
   "outputs": [],
   "source": [
    "# Count complete tree node\n",
    "\n",
    "def countNodes(root: Optional[TreeNode]) -> int:\n",
    "    if not root:\n",
    "        return 0\n",
    "    \n",
    "    def dfs(node, count=0):\n",
    "        if not node:\n",
    "            return count\n",
    "        \n",
    "        c1 = dfs(node.left, count+1)\n",
    "        c2 = dfs(node.right, c1)\n",
    "\n",
    "        return c2\n",
    "    return dfs(root, 0)\n",
    "\n",
    "def countNodes2(root: Optional[TreeNode]) -> int:\n",
    "    if not root:\n",
    "        return 0\n",
    "    \n",
    "    return 1 + countNodes2(root.left) + countNodes2(root.right)\n",
    "\n"
   ]
  },
  {
   "cell_type": "code",
   "execution_count": 21,
   "metadata": {},
   "outputs": [
    {
     "data": {
      "text/plain": [
       "0"
      ]
     },
     "execution_count": 21,
     "metadata": {},
     "output_type": "execute_result"
    }
   ],
   "source": [
    "# Find the missing number\n",
    "\n",
    "def missingNumber(nums: List[int]):\n",
    "    nums = sorted(nums)    \n",
    "    low, high = 0, len(nums)\n",
    "    while low <= high:\n",
    "        mid = (low + high) // 2\n",
    "        if mid == nums[mid]:\n",
    "            low = mid + 1\n",
    "        else:\n",
    "            high = mid -1\n",
    "    return low\n",
    "\n",
    "missingNumber([3,2,1])\n",
    "    "
   ]
  },
  {
   "cell_type": "markdown",
   "metadata": {},
   "source": [
    "270. Closest Binary Search Tree Value\n",
    "Given a non-empty binary search tree and a target value, find the value in the BST that is closest to the target.\n",
    "\n",
    "Note:\n",
    "\n",
    "Given target value is a floating point.\n",
    "You are guaranteed to have only one unique value in the BST that is closest to the target.\n",
    "Example:\n",
    "Input: root = [4,2,5,1,3], target = 3.714286\n",
    "\n",
    "    4\n",
    "   / \\\n",
    "  2   5\n",
    " / \\\n",
    "1   3\n",
    "\n",
    "Output: 4"
   ]
  },
  {
   "cell_type": "code",
   "execution_count": 36,
   "metadata": {},
   "outputs": [
    {
     "data": {
      "text/plain": [
       "3"
      ]
     },
     "execution_count": 36,
     "metadata": {},
     "output_type": "execute_result"
    }
   ],
   "source": [
    "def closetbinarysearchtreevalue(nums, target):\n",
    "    nums = sorted(nums)\n",
    "    low, high = 0, len(nums)\n",
    "    min_dis = float(\"inf\")\n",
    "    closest_ele = -1\n",
    "    while low < high:\n",
    "        mid = (low + high) //2\n",
    "        \n",
    "        if target >= nums[mid]:\n",
    "            low = mid +1\n",
    "            if min_dis > target-nums[mid]:\n",
    "                min_dis = target-nums[mid]\n",
    "                closest_ele = nums[mid]\n",
    "        else:\n",
    "            high = mid\n",
    "    return closest_ele\n",
    "#[1,2,3,4,5]\n",
    "closetbinarysearchtreevalue([4,2,5,1,3], 3.714286)"
   ]
  },
  {
   "cell_type": "code",
   "execution_count": 7,
   "metadata": {},
   "outputs": [
    {
     "data": {
      "text/plain": [
       "4"
      ]
     },
     "execution_count": 7,
     "metadata": {},
     "output_type": "execute_result"
    }
   ],
   "source": [
    "from collections import Counter\n",
    "def numSubarraysWithSum(A, S: int) -> int:\n",
    "        c = Counter({0:1}) #memoization dictionary and key '0' is valued at '1' as we count the case when psum==S, we can also add this with res\n",
    "        res, psum =0,0\n",
    "        for v in A:\n",
    "            psum+=v # This basically checks the sum as we traverse the list\n",
    "            res+=c[psum-S] # This is keeping track of when we get past S, as when we get past S, we start with the new substring, and we already have the count and use it when we reach the SUM again and again\n",
    "            c[psum]+=1\n",
    "        return res\n",
    "\n",
    "numSubarraysWithSum([1,0,1,0,1], 2)"
   ]
  },
  {
   "cell_type": "code",
   "execution_count": 15,
   "metadata": {},
   "outputs": [
    {
     "name": "stdout",
     "output_type": "stream",
     "text": [
      "0\n",
      "3\n",
      "6\n",
      "9\n"
     ]
    }
   ],
   "source": [
    "for i in range(0,10,3):\n",
    "    print(i)"
   ]
  },
  {
   "cell_type": "code",
   "execution_count": null,
   "metadata": {},
   "outputs": [],
   "source": []
  }
 ],
 "metadata": {
  "kernelspec": {
   "display_name": "base",
   "language": "python",
   "name": "python3"
  },
  "language_info": {
   "codemirror_mode": {
    "name": "ipython",
    "version": 3
   },
   "file_extension": ".py",
   "mimetype": "text/x-python",
   "name": "python",
   "nbconvert_exporter": "python",
   "pygments_lexer": "ipython3",
   "version": "3.11.4"
  },
  "orig_nbformat": 4
 },
 "nbformat": 4,
 "nbformat_minor": 2
}

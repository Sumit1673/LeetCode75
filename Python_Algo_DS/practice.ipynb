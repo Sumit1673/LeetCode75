{
 "cells": [
  {
   "cell_type": "code",
   "execution_count": 2,
   "metadata": {},
   "outputs": [],
   "source": [
    "from typing import *"
   ]
  },
  {
   "cell_type": "code",
   "execution_count": 3,
   "metadata": {},
   "outputs": [
    {
     "data": {
      "text/plain": [
       "2"
      ]
     },
     "execution_count": 3,
     "metadata": {},
     "output_type": "execute_result"
    }
   ],
   "source": [
    "def findCenter(edges: List[List[int]]) -> int:\n",
    "    if len(edges)<=1:\n",
    "        return 0\n",
    "    \n",
    "    if edges[0][0] == edges[1][0] or edges[0][0] == edges[1][1]:\n",
    "        return edges[0][0]\n",
    "    else:\n",
    "        return edges[0][1]\n",
    "    \n",
    "edges = [[1,2],[2,3],[4,2]]\n",
    "findCenter(edges)\n",
    "        \n",
    "        "
   ]
  },
  {
   "cell_type": "code",
   "execution_count": 2,
   "metadata": {},
   "outputs": [
    {
     "name": "stdout",
     "output_type": "stream",
     "text": [
      "Sub-array 1: [332, 132]\n",
      "Sub-array 2: [231]\n"
     ]
    }
   ],
   "source": [
    "def split_add(num) -> int:\n",
    "    res = 0\n",
    "    for i in str(num):\n",
    "        res += int(i)\n",
    "    return res\n",
    "\n",
    "def split_array(arr):\n",
    "    \"\"\"\n",
    "    Finds a way to split the array into two sub-arrays with as close to equal sums as possible.\n",
    "\n",
    "    Args:\n",
    "        arr: The input array of integers.\n",
    "\n",
    "    Returns:\n",
    "        A tuple containing two sub-arrays, or None if no reasonably close split is possible.\n",
    "    \"\"\"\n",
    "\n",
    "    total_sum = sum(split_add(num) for num in arr)\n",
    "\n",
    "    # Check if an exact equal division is possible\n",
    "    if total_sum % 2 == 0: \n",
    "        target_sum = total_sum // 2\n",
    "        sub_arr1 = []\n",
    "        current_sum = 0\n",
    "        for num in arr:\n",
    "            current_sum += split_add(num)\n",
    "            if current_sum >= target_sum:\n",
    "                sub_arr1.append(num)\n",
    "                break\n",
    "            else:\n",
    "                sub_arr1.append(num)\n",
    "\n",
    "        sub_arr2 = [num for num in arr if num not in sub_arr1]  \n",
    "        return sub_arr1, sub_arr2\n",
    "\n",
    "    else:\n",
    "        # No exact equal split possible, so find the closest possible split\n",
    "        print(\"No exact equal split possible.\")\n",
    "        return None  # Or add logic to find an approximate split\n",
    "\n",
    "# Example usage\n",
    "arr = [332, 132, 231]\n",
    "sub_arr1, sub_arr2 = split_array(arr)\n",
    "\n",
    "if sub_arr1 and sub_arr2:\n",
    "    print(\"Sub-array 1:\", sub_arr1)\n",
    "    print(\"Sub-array 2:\", sub_arr2)\n",
    "else:\n",
    "    print(\"No suitable split found.\")\n"
   ]
  },
  {
   "cell_type": "code",
   "execution_count": 19,
   "metadata": {},
   "outputs": [
    {
     "name": "stdout",
     "output_type": "stream",
     "text": [
      "0\n",
      "[1, 3, 4, 2]\n"
     ]
    },
    {
     "data": {
      "text/plain": [
       "False"
      ]
     },
     "execution_count": 19,
     "metadata": {},
     "output_type": "execute_result"
    }
   ],
   "source": [
    "def sorted_rotated(nums: List[int]) -> bool:\n",
    "    \n",
    "    i = 0\n",
    "    \n",
    "    while i < len(nums)-1:\n",
    "        if nums[i] < nums[i+1]:\n",
    "            i = i+1\n",
    "            continue\n",
    "        else:\n",
    "            # i = i+1\n",
    "            break\n",
    "        \n",
    "    print(i)   \n",
    "    if sorted(nums) == nums[i+1:] + nums[:i+1]:\n",
    "        print(nums[i+1:] + nums[:i+1])\n",
    "        return True\n",
    "    else:\n",
    "        print(nums[i+1:] + nums[:i+1])\n",
    "        return False\n",
    "    \n",
    "nums = [2,1,3,4]\n",
    "sorted_rotated(nums)\n",
    "\n",
    "        \n",
    "       \n",
    "       \n",
    "   "
   ]
  },
  {
   "cell_type": "code",
   "execution_count": 22,
   "metadata": {},
   "outputs": [
    {
     "data": {
      "text/plain": [
       "['girl', 'student']"
      ]
     },
     "execution_count": 22,
     "metadata": {},
     "output_type": "execute_result"
    }
   ],
   "source": [
    "def findOcurrences(text: str, first: str, second: str) -> List[str]:\n",
    "    text_list = text.split(\" \")\n",
    "    out = []\n",
    "    for i in range(len(text_list) -2):\n",
    "        if text_list[i] == first and text_list[i+1] == second:\n",
    "            out.append(text_list[i+2])\n",
    "    return out\n",
    "\n",
    "text = \"alice is a good girl she is a good student\"\n",
    "first = \"a\"\n",
    "second = \"good\"\n",
    "findOcurrences(text, first, second)\n",
    "        \n",
    "    "
   ]
  },
  {
   "cell_type": "code",
   "execution_count": null,
   "metadata": {},
   "outputs": [],
   "source": [
    "class ResizeableArr:\n",
    "    def __init__(self, size) -> None:\n",
    "        self.arr = [None]*size\n",
    "        self.size = size\n",
    "        self.idx = 0\n",
    "        \n",
    "    def __getitem__(self, index):\n",
    "        try:\n",
    "            return self.arr[index]\n",
    "        except IndexError as e:\n",
    "            print(e)\n",
    "    \n",
    "    def __setitem__(self, val, index):\n",
    "        try:\n",
    "            if None in self.arr:\n",
    "                self.arr[index] = val\n",
    "            else:\n",
    "                self.__resize_array()\n",
    "                self.arr[index] = val\n",
    "            \n",
    "        except Exception as e:\n",
    "            print(e)\n",
    "            \n",
    "    \n",
    "    def __resize_array(self):\n",
    "        # create an array double in size\n",
    "        self.new_arr = [None]*(2*len(self.arr))\n",
    "        # copy all the elements \n",
    "        for i, val in enumerate(self.arr):\n",
    "            self.new_arr[i] = val\n",
    "        self.arr = self.new_arr\n",
    "            \n",
    "    "
   ]
  },
  {
   "cell_type": "code",
   "execution_count": 29,
   "metadata": {},
   "outputs": [
    {
     "name": "stdout",
     "output_type": "stream",
     "text": [
      "[24, 12, 8, 6]\n"
     ]
    }
   ],
   "source": [
    "def product_except_self(nums):\n",
    "    rp = lp = 1\n",
    "    \n",
    "    res = []\n",
    "    for i in range(len(nums)):\n",
    "        res.append(lp)\n",
    "        lp = nums[i]*lp\n",
    "        \n",
    "    for j in range(len(nums)-1, -1, -1):\n",
    "        res[j] = res[j]*rp\n",
    "        rp = rp*nums[j]\n",
    "    return res\n",
    "# Example usagedef mergeAlternately(word1: str, word2: str) -> str:\n",
    "nums = [1, 2, 3, 4]\n",
    "result = product_except_self(nums)\n",
    "print(result)  # Output: [24, 12, 8, 6]"
   ]
  },
  {
   "cell_type": "code",
   "execution_count": 32,
   "metadata": {},
   "outputs": [
    {
     "data": {
      "text/plain": [
       "'apbqcr'"
      ]
     },
     "execution_count": 32,
     "metadata": {},
     "output_type": "execute_result"
    }
   ],
   "source": [
    "def mergeAlternately(word1: str, word2: str) -> str:\n",
    "    remain = word2[len(word1):]\n",
    "    res = \"\"\n",
    "    for i in range(len(word1)):\n",
    "        res+= word1[i]+word2[i]\n",
    "    \n",
    "    return res+remain\n",
    "    \n",
    "\n",
    "    \n",
    "mergeAlternately(\"abc\", \"pqr\")  #merged: apbqcr  "
   ]
  },
  {
   "cell_type": "code",
   "execution_count": 36,
   "metadata": {},
   "outputs": [
    {
     "data": {
      "text/plain": [
       "[1, 3, 12, 0, 0]"
      ]
     },
     "execution_count": 36,
     "metadata": {},
     "output_type": "execute_result"
    }
   ],
   "source": [
    "def moveZeroes(nums: List[int]) -> None:\n",
    "    \"\"\"\n",
    "    Do not return anything, modify nums in-place instead.\n",
    "    \"\"\"\n",
    "    ptr1 = 0\n",
    "    for ptr2 in range(len(nums)):\n",
    "        if nums[ptr1] == 0 and nums[ptr2] != 0:\n",
    "            nums[ptr1], nums[ptr2] = nums[ptr2], nums[ptr1]\n",
    "        if nums[ptr1] != 0:\n",
    "                ptr1 += 1\n",
    "    return nums\n",
    "moveZeroes([0,1,0,3,12])"
   ]
  },
  {
   "cell_type": "code",
   "execution_count": null,
   "metadata": {},
   "outputs": [],
   "source": []
  }
 ],
 "metadata": {
  "kernelspec": {
   "display_name": "base",
   "language": "python",
   "name": "python3"
  },
  "language_info": {
   "codemirror_mode": {
    "name": "ipython",
    "version": 3
   },
   "file_extension": ".py",
   "mimetype": "text/x-python",
   "name": "python",
   "nbconvert_exporter": "python",
   "pygments_lexer": "ipython3",
   "version": "3.10.14"
  }
 },
 "nbformat": 4,
 "nbformat_minor": 2
}

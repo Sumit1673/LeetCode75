{
 "cells": [
  {
   "cell_type": "code",
   "execution_count": 2,
   "metadata": {},
   "outputs": [
    {
     "name": "stdout",
     "output_type": "stream",
     "text": [
      "[[1], [1, 1], [1, 2, 1], [1, 3, 3, 1], [1, 4, 6, 4, 1]]\n"
     ]
    }
   ],
   "source": [
    "from typing import *\n",
    "\n",
    "\n",
    "def generate(numRows: int) -> List[List[int]]:\n",
    "    res = [[1]]\n",
    "    for _ in range(numRows-1):\n",
    "        temp = [0] + res[-1] + [0]\n",
    "        res.append(list(map(lambda j: temp[j] + temp[j+1], range(len(res[-1])+1))))\n",
    "        # for j in range(len(res[-1]) + 1):\n",
    "        #     row.append(temp[j] + temp[j+1])\n",
    "        # res.append(row)\n",
    "            \n",
    "    return res\n",
    "print(generate(5))"
   ]
  },
  {
   "cell_type": "code",
   "execution_count": 12,
   "metadata": {},
   "outputs": [
    {
     "data": {
      "text/plain": [
       "2"
      ]
     },
     "execution_count": 12,
     "metadata": {},
     "output_type": "execute_result"
    }
   ],
   "source": [
    "def minimumDifference(nums: List[int], k: int) -> int:\n",
    "    # Time complexity = nlogn => n -for loop , nlogn = sorting\n",
    "    # SLiding window\n",
    "    nums.sort()\n",
    "    l, r = 0, k-1 # because the array is 0 indexed and len of the window is k, so 0 to k-1\n",
    "    res = float(\"inf\")\n",
    "    \n",
    "    while r < len(nums): # boundary condition for the window\n",
    "        res = min(res, nums[r] - nums[l])\n",
    "        l,r = l+1, r+1\n",
    "    return res\n",
    "        \n",
    "    \n",
    "nums = [9,4,1,7]\n",
    "minimumDifference(nums, 2)"
   ]
  },
  {
   "cell_type": "markdown",
   "metadata": {},
   "source": [
    "### FIND CENTER OF STAR GRAPH\n",
    "```python\n",
    "There is an undirected star graph consisting of n nodes labeled from 1 to n.\n",
    "A star graph is a graph where there is one center node and exactly n - 1 edges that connect the center node with every other node.\n",
    "\n",
    "You are given a 2D integer array edges where each edges[i] = [ui, vi] indicates that there is an edge between the nodes ui and vi. Return the center of the given star graph\n",
    "\n",
    "HINT: Since it is mentioned that it is a STAR graph, that means centre node will be common to all the edges. So, we can just check the first two edges and return the common node.\n",
    "```"
   ]
  },
  {
   "cell_type": "code",
   "execution_count": 22,
   "metadata": {},
   "outputs": [
    {
     "data": {
      "text/plain": [
       "2"
      ]
     },
     "execution_count": 22,
     "metadata": {},
     "output_type": "execute_result"
    }
   ],
   "source": [
    "def findCenter(edges: List[List[int]]) -> int:\n",
    "    # FOR STAR GRAPH\n",
    "    \n",
    "    if edges[0][0] == edges[0][1] or edges[0][0] == edges[1][1]:\n",
    "        return edges[0][0]\n",
    "    else:\n",
    "        return edges[0][1]\n",
    "    \n",
    "    # BELOW SOLUTIONS IS FOR NON-START GRAPH\n",
    "    # centre = {}\n",
    "    # for i in range(len(edges)):\n",
    "    #     for j in range(i+1, len(edges)):\n",
    "    #         c = list(set(edges[i]) & set(edges[j]))[0]\n",
    "    #         if c in centre:\n",
    "    #             centre[c] += 1\n",
    "    #         else:\n",
    "    #             centre[c] = 1\n",
    "    \n",
    "    # return max(centre, key=centre.get)\n",
    "    # 2nd method\n",
    "    # l, r = 0, 1\n",
    "    # centre = {}\n",
    "    # while r < len(edges):\n",
    "    #     c = list(set(edges[l]) & set(edges[r]))[0]\n",
    "    #     if c in centre:\n",
    "    #         centre[c] += 1\n",
    "    #     else:\n",
    "    #         centre[c] = 1\n",
    "    #     l, r = l+1, r+1\n",
    "    # return max(centre, key=centre.get)\n",
    "    \n",
    "    #3rd method\n",
    "    # l, r = 0, 1\n",
    "    # centre = set()\n",
    "    # while r < len(edges):\n",
    "    #     centre.add(list(set(edges[l]) & set(edges[r]))[0])\n",
    "    #     l, r = l+1, r+1\n",
    "        \n",
    "    \n",
    "    return list(centre)[0]\n",
    " \n",
    "    \n",
    "edges = [[1,2],[2,3],[4,2]]\n",
    "findCenter(edges)"
   ]
  },
  {
   "cell_type": "markdown",
   "metadata": {},
   "source": [
    "#### Check if Array Is Sorted and Rotated\n",
    "\n",
    "```python\n",
    "Given an array nums, return true if the array was originally sorted in non-decreasing order,\n",
    "then rotated some number of positions (including zero). Otherwise, return false.\n",
    "\n",
    "There may be duplicates in the original array.\n",
    "\n",
    "Note: An array A rotated by x positions results in an array B of the same length such that A[i] == B[(i+x) % A.length], where % is the modulo operation.\n",
    "\n",
    "Example 1:\n",
    "\n",
    "Input: nums = [3,4,5,1,2]\n",
    "Output: true\n",
    "Explanation: [1,2,3,4,5] is the original sorted array.\n",
    "You can rotate the array by x = 3 positions to begin on the the element of value 3: [3,4,5,1,2].\n",
    "Example 2:\n",
    "\n",
    "Input: nums = [2,1,3,4]\n",
    "Output: false\n",
    "Explanation: There is no sorted array once rotated that can make nums.\n",
    "\n",
    "```"
   ]
  },
  {
   "cell_type": "code",
   "execution_count": 26,
   "metadata": {},
   "outputs": [
    {
     "data": {
      "text/plain": [
       "True"
      ]
     },
     "execution_count": 26,
     "metadata": {},
     "output_type": "execute_result"
    }
   ],
   "source": [
    "A = [1,2,3,4,5]\n",
    "b = [3,4,5,1,2]\n",
    "A[0] == b[(0+3) % len(A)]"
   ]
  },
  {
   "cell_type": "code",
   "execution_count": 43,
   "metadata": {},
   "outputs": [
    {
     "name": "stdout",
     "output_type": "stream",
     "text": [
      "[3, 4, 5, 1, 2]\n",
      "[4, 5, 1, 2, 3]\n",
      "[5, 1, 2, 3, 4]\n",
      "[1, 2, 3, 4, 5]\n"
     ]
    },
    {
     "data": {
      "text/plain": [
       "True"
      ]
     },
     "execution_count": 43,
     "metadata": {},
     "output_type": "execute_result"
    }
   ],
   "source": [
    "def sorted_rotated(nums: List[int]) -> bool:\n",
    "    count  = 0\n",
    "    # if array in ascending order --> already sorted return True\n",
    "    # also it will give us the position from where the array was rotated\n",
    "    for i in range(0, len(nums)-1):\n",
    "        if nums[i] > nums[i + 1]:\n",
    "            count+=1\n",
    "    # now we know the array is rotated\n",
    "    # after finding the break point, we need to make sure that it is roated\n",
    "    # and we do that by comparing the last element of the given array with the\n",
    "    # the first element.\n",
    "    # Ex: [3,4,5,1,2], after 5 its started dec i.e. this is the point from where the array is rotated\n",
    "    # and to make it sure that if we rotate this array again and it will be sorted, just compare last and\n",
    "    # the first element. Last element should be less than the first. https://www.youtube.com/watch?v=e22ns5G0qKY&ab_channel=CodersCamp\n",
    "    \n",
    "    if count > 1 or (count == 1 and nums[0] < nums[len(nums)-1]):\n",
    "        return False\n",
    "    \n",
    "    return True\n",
    "nums = [3,4,5,1,2]\n",
    "sorted_rotated(nums)"
   ]
  },
  {
   "cell_type": "code",
   "execution_count": 54,
   "metadata": {},
   "outputs": [
    {
     "data": {
      "text/plain": [
       "3"
      ]
     },
     "execution_count": 54,
     "metadata": {},
     "output_type": "execute_result"
    }
   ],
   "source": [
    "from collections import defaultdict\n",
    "from typing import List\n",
    "\n",
    "def repeatedNTimes(nums: List[int]) -> int:\n",
    "    count = defaultdict(int)\n",
    "    \n",
    "    for num in nums:\n",
    "        count[num] += 1\n",
    "\n",
    "    return max(count, key=count.get)\n",
    "\n",
    "    \"\"\"\n",
    "    set1 = set()\n",
    "    for i in nums :\n",
    "        if i in set1 :\n",
    "            return i\n",
    "        else :\n",
    "            set1.add(i)\n",
    "    \"\"\"\n",
    "\n",
    "repeatedNTimes(nums)"
   ]
  },
  {
   "cell_type": "markdown",
   "metadata": {},
   "source": [
    "```python\n",
    "Given two strings first and second, consider occurrences in some text of the form \"first second third\", where second comes immediately after first, and third comes immediately after second.\n",
    "\n",
    "Return an array of all the words third for each occurrence of \"first second third\".\n",
    "\n",
    " Example 1:\n",
    "\n",
    "Input: text = \"alice is a good girl she is a good student\", first = \"a\", second = \"good\"\n",
    "Output: [\"girl\",\"student\"]\n",
    "Example 2:\n",
    "\n",
    "Input: text = \"we will we will rock you\", first = \"we\", second = \"will\"\n",
    "Output: [\"we\",\"rock\"]\n",
    " \n",
    "```\n"
   ]
  },
  {
   "cell_type": "code",
   "execution_count": 60,
   "metadata": {},
   "outputs": [
    {
     "data": {
      "text/plain": [
       "['we', 'rock']"
      ]
     },
     "execution_count": 60,
     "metadata": {},
     "output_type": "execute_result"
    }
   ],
   "source": [
    "def findOcurrences(text: str, first: str, second: str) -> List[str]:\n",
    "        text = text.split()\n",
    "        l,r = 0, 2\n",
    "        res= []\n",
    "        while r < len(text):\n",
    "            if text[l:r] == [first, second]:\n",
    "                res.append(text[r])\n",
    "            l,r = l+1, r+1\n",
    "        return res\n",
    "\n",
    "text = \"we will we will rock you\"\n",
    "first = \"we\"\n",
    "second = \"will\"\n",
    "findOcurrences(text, first, second)\n"
   ]
  },
  {
   "cell_type": "code",
   "execution_count": 67,
   "metadata": {},
   "outputs": [],
   "source": [
    "def moveZeroes(nums: List[int]) -> None:\n",
    "    \"\"\"\n",
    "    Do not return anything, modify nums in-place instead.\n",
    "    \"\"\"\n",
    "    slow = 0\n",
    "    for fast in range(len(nums)):\n",
    "        # swap if a non zero element is found at fast location\n",
    "        if nums[fast] != 0 and nums[slow] == 0:\n",
    "            nums[slow], nums[fast] = nums[fast], nums[slow]\n",
    "\n",
    "        # if the new element at slow is non-zero we dont want it to be swapped\n",
    "        # so we increment it tomaintain the order\n",
    "        if nums[slow] != 0:\n",
    "            slow += 1\n",
    "moveZeroes([0,1,0,3,12])\n",
    "    "
   ]
  },
  {
   "cell_type": "markdown",
   "metadata": {},
   "source": [
    "### Numpy Aray sum\n",
    "```python\n",
    "Given an integer array nums, handle multiple queries of the following type:\n",
    "\n",
    "Calculate the sum of the elements of nums between indices left and right inclusive where left <= right.\n",
    "\n",
    "Solution:\n",
    "In the constructor, cumulative_sums is an array where each element represents the cumulative sum of the elements up to that index in the nums list.\n",
    "\n",
    "The sumRange method simply calculates the difference between the cumulative sums at the right + 1 and left indices to get the sum of the range between left and right."
   ]
  },
  {
   "cell_type": "code",
   "execution_count": 88,
   "metadata": {},
   "outputs": [
    {
     "name": "stdout",
     "output_type": "stream",
     "text": [
      "18\n"
     ]
    }
   ],
   "source": [
    "class NumArray:\n",
    "\n",
    "    def __init__(self, nums: List[int]):\n",
    "        self.cumulative_sums = [0] * (len(nums) + 1)\n",
    "        for i in range(len(nums)):\n",
    "            self.cumulative_sums[i + 1] = self.cumulative_sums[i] + nums[i]\n",
    "\n",
    "    def sumRange(self, left: int, right: int) -> int:\n",
    "        return self.cumulative_sums[right + 1] - self.cumulative_sums[left]\n",
    "\n",
    "print(NumArray([1,2,3,4,5,6,7,8]).sumRange(2,5))"
   ]
  },
  {
   "cell_type": "markdown",
   "metadata": {},
   "source": [
    "```python\n",
    "Example 1:\n",
    "Input: nums = [2,1,3,3], k = 2\n",
    "Output: [3,3]\n",
    "\n",
    "Example 2:\n",
    "Input: nums = [-1,-2,3,4], k = 3\n",
    "Output: [-1,3,4]\n",
    "\n",
    "Example 3:\n",
    "Input: nums = [3,4,3,3], k = 2\n",
    "Output: [3,4]\n",
    "\n",
    "```"
   ]
  },
  {
   "cell_type": "code",
   "execution_count": 3,
   "metadata": {},
   "outputs": [
    {
     "data": {
      "text/plain": [
       "[-1, 3, 4]"
      ]
     },
     "execution_count": 3,
     "metadata": {},
     "output_type": "execute_result"
    }
   ],
   "source": [
    "import heapq\n",
    "def maxSubsequence(nums: List[int], k: int) -> List[int]:\n",
    "    # heap = []\n",
    "    # for n in nums:\n",
    "    #     heapq.heappush(heap, n)\n",
    "    #     if len(heap) > k:\n",
    "    #         heapq.heappop(heap)\n",
    "    # cnt = Counter(heap)\n",
    "    # res = []\n",
    "    # for n in nums:\n",
    "    #     if cnt[n] > 0:\n",
    "    #         cnt[n] -= 1\n",
    "    #         res.append(n)\n",
    "    # return res\n",
    "    # def maxSubsequence(self, nums, k):\n",
    "    while len(nums) > k:\n",
    "        nums.remove(min(nums))\n",
    "    return nums\n",
    "maxSubsequence([-1,-2,3,4], k = 3)"
   ]
  },
  {
   "cell_type": "code",
   "execution_count": 15,
   "metadata": {},
   "outputs": [
    {
     "name": "stdout",
     "output_type": "stream",
     "text": [
      "Number of elements equal to the arithmetic mean of their neighbors: 15\n"
     ]
    }
   ],
   "source": [
    "def count_arithmetic_mean_equals_neighbours(arr):\n",
    "    count = 0\n",
    "    n = len(arr)\n",
    "\n",
    "    if n < 3:\n",
    "        return count\n",
    "    arr = [0] + arr + [0]\n",
    "    for i in range(1, n+1):\n",
    "        # if i-1 < 0:\n",
    "        #    if arr[i] == (arr[i + 1]) / 2:\n",
    "        #        count += 1\n",
    "        # elif i+1 >= n:\n",
    "        #     if arr[i] == (arr[i -1]) / 2:\n",
    "        #        count += 1\n",
    "        if arr[i] == (arr[i - 1] + arr[i + 1]) / 2:\n",
    "            count += 1\n",
    "\n",
    "    return count\n",
    "\n",
    "# Example usage:\n",
    "# arr = [2,4,6,6,3]\n",
    "arr = [0]*15\n",
    "result = count_arithmetic_mean_equals_neighbours(arr)\n",
    "print(\"Number of elements equal to the arithmetic mean of their neighbors:\", result)\n"
   ]
  },
  {
   "cell_type": "code",
   "execution_count": 71,
   "metadata": {},
   "outputs": [
    {
     "data": {
      "text/plain": [
       "['true', 'true', 'v2', 'false', 'v2', 'Not installed']"
      ]
     },
     "execution_count": 71,
     "metadata": {},
     "output_type": "execute_result"
    }
   ],
   "source": [
    "class LibraryInstaller:\n",
    "    def __init__(self):\n",
    "        self.lib_and_version = {}\n",
    "    \n",
    "    def install(self, name, new_version) -> bool:\n",
    "        \"\"\"\n",
    "        Install the provided version of library if it is newer than the existing installed version and returns true else false\n",
    "        \"\"\"\n",
    "        if name and new_version:\n",
    "            installed_version = self.lib_and_version.get(name)\n",
    "            \n",
    "            # if not install install it\n",
    "            if installed_version is None:\n",
    "                self.lib_and_version[name] = new_version\n",
    "                return True\n",
    "                \n",
    "            if self.compare_version(new_version, installed_version):\n",
    "                self.lib_and_version[name] = new_version\n",
    "                return True\n",
    "            else:\n",
    "                return False\n",
    "            \n",
    "    def latest(self, name)-> str:\n",
    "        \"\"\"\n",
    "        return the latest version of the specified library; if it does exists returns \"Not installed\"\n",
    "        \"\"\"        \n",
    "        return self.lib_and_version.get(name, \"Not installed\")\n",
    "        \n",
    "    @staticmethod\n",
    "    def compare_version(version1, version2):\n",
    "        version1 = version1[1:]\n",
    "        version2 = version2[1:]\n",
    "        parts1 = version1.split('.')\n",
    "        parts2 = version2.split('.')\n",
    "        \n",
    "        for i in range(max(len(parts1), len(parts2))):\n",
    "            \n",
    "            part1 = int(parts1[i]) if i < len(parts1) else 0\n",
    "            part2 = int(parts2[i]) if i < len(parts2) else 0\n",
    "            \n",
    "            if part1 < part2:\n",
    "                return 0\n",
    "            elif part1 > part2:\n",
    "                return 1\n",
    "        return 0\n",
    "\n",
    "# Do not change anything below this line!\n",
    "\n",
    "def solution(queries):\n",
    "    installer = LibraryInstaller()\n",
    "    answer = []\n",
    "    \n",
    "    for i in range(len(queries)):\n",
    "        arguments = queries[i].split(' ')\n",
    "        if arguments[0] == 'install':\n",
    "            if installer.install(arguments[1], arguments[2]):\n",
    "                answer.append('true')\n",
    "            else:\n",
    "                answer.append('false')\n",
    "        else:\n",
    "            answer.append(installer.latest(arguments[1]))\n",
    "\n",
    "    return answer\n",
    "\n",
    "queries = [\"install selenium v1.2.12\", \n",
    " \"install selenium v2\", \n",
    " \"latest selenium\", \n",
    " \"install selenium v1.5\", \n",
    " \"latest selenium\", \n",
    " \"latest meteor\"]\n",
    "\n",
    "solution(queries)"
   ]
  },
  {
   "cell_type": "code",
   "execution_count": 4,
   "metadata": {},
   "outputs": [
    {
     "name": "stdout",
     "output_type": "stream",
     "text": [
      "['127.', '0.', '49.', '128.', '99.', '58.', '8.', '88.', '888.', '77.', '255.', '255.', '7.', '7.', '257.', '26.', '56.', '4.', '127.', '0.', '0.', '128.', '99.', '107.', '128.', '128.', '4.', '0.', '11.', '74.', '0.', '65.', '8.', '99.', '88.', '16.', '76.', '15.', '128.', '4.', '0.', '0.', '0.', '127.', '65.', '64.', '127.', '0.', '64.', '127.', '0.', '0.', '128.', '57.', '107.', '128.', '57.', '907.', '67.', '128.', '4.', '7.', '7.', '7.', '127.', '98.', '0.', '128.', '96.', '107.', '128.', '68.', '4.']\n"
     ]
    }
   ],
   "source": [
    "from pathlib import Path\n",
    "import re\n",
    "start_directory = Path(\"../root/\")\n",
    "ip_pattern = r'\\b(?:\\d{1,3}\\.){3}\\d{1,3}\\b'\n",
    "# (?:\\d{1,3}\\.) --> pattern of an IP \n",
    "# (?:\\d{1,3}\\.){3} repeat 3 times --> similar to '\\d+\\.\\d+\\.\\d+\\.\n",
    "# ip_pattern= r'\\d+\\.\\d+\\.\\d+\\.\\d+'\n",
    "ips = []\n",
    "# Use the rglob() method to recursively list all files with specified extensions in the directory and its subdirectories\n",
    "for file_path in start_directory.rglob('*'):\n",
    "    if file_path.is_file() and file_path.suffix in ['.txt', '.inp', '.out']:\n",
    "        with open(file_path, 'r') as file:\n",
    "            # print(file_path)\n",
    "            content = file.read()\n",
    "            # print(content)\n",
    "            ips += re.findall(ip_pattern, content)\n",
    "    \n",
    "print(ips)"
   ]
  },
  {
   "cell_type": "markdown",
   "metadata": {},
   "source": [
    "\\*** Questn[https://leetcode.com/problems/remove-duplicates-from-sorted-array/description/]"
   ]
  },
  {
   "cell_type": "code",
   "execution_count": 20,
   "metadata": {},
   "outputs": [
    {
     "name": "stdout",
     "output_type": "stream",
     "text": [
      "[0, 1]\n"
     ]
    },
    {
     "data": {
      "text/plain": [
       "2"
      ]
     },
     "execution_count": 20,
     "metadata": {},
     "output_type": "execute_result"
    }
   ],
   "source": [
    "def removeDuplicates(nums) -> int:\n",
    "        j = 1\n",
    "        for i in range(1, len(nums)):\n",
    "            if nums[i] != nums[i - 1]:\n",
    "                nums[j] = nums[i]\n",
    "                # position to add the unique\n",
    "                j += 1\n",
    "        print(nums)\n",
    "        return j\n",
    "\n",
    "# nums = [0,0,1,1,1,2,2,3,3,4]\n",
    "nums = [0,1]\n",
    "removeDuplicates(nums)\n",
    "                "
   ]
  },
  {
   "cell_type": "code",
   "execution_count": 21,
   "metadata": {},
   "outputs": [],
   "source": [
    "from typing import*"
   ]
  },
  {
   "cell_type": "code",
   "execution_count": 27,
   "metadata": {},
   "outputs": [
    {
     "name": "stdout",
     "output_type": "stream",
     "text": [
      "-1\n"
     ]
    }
   ],
   "source": [
    "def strStr(haystack: str, needle: str) -> int:\n",
    "    if needle not in haystack:\n",
    "        return -1\n",
    "    r = len(needle)\n",
    "    # l = 0\n",
    "    for i in range(len(haystack)):\n",
    "        if haystack[i:i+r] ==  needle:\n",
    "            return i\n",
    "    return -1\n",
    "\n",
    "# haystack = \"sadbutsad\"\n",
    "# needle = \"sad\"\n",
    "haystack = \"leetcode\"\n",
    "needle = \"leeto\"\n",
    "print(strStr(haystack, needle))"
   ]
  },
  {
   "cell_type": "markdown",
   "metadata": {},
   "source": [
    "Question [https://leetcode.com/problems/shortest-completing-word/]\n",
    "\n",
    "* Input: licensePlate = \"1s3 PSt\", words = [\"step\",\"steps\",\"stripe\",\"stepple\"]\n",
    "* Output: \"steps\"\n",
    "* Input: licensePlate = \"1s3 456\", words = [\"looks\",\"pest\",\"stew\",\"show\"]\n",
    "* Output: \"pest\"\n"
   ]
  },
  {
   "cell_type": "code",
   "execution_count": 45,
   "metadata": {},
   "outputs": [
    {
     "name": "stdout",
     "output_type": "stream",
     "text": [
      "steps\n"
     ]
    }
   ],
   "source": [
    "import re\n",
    "def shortestCompletingWord(licensePlate: str, words: List[str]) -> str:\n",
    "    strings = re.sub(r'\\d+|\\s+', '', licensePlate.lower())\n",
    "    lp_hm = Counter(strings)\n",
    "    final_word = \"z\"*20\n",
    "    for i in words:\n",
    "        temp = Counter(i)\n",
    "        if (lp_hm & temp) == lp_hm: # The & operator performs an intersection between collections.Counter objects\n",
    "            if len(i) < len(final_word):\n",
    "                    final_word = i\n",
    "\n",
    "    return final_word\n",
    "\n",
    "        \n",
    "licensePlate = \"1s3 PSt\"\n",
    "words = [\"step\",\"steps\",\"stripe\",\"stepple\"]\n",
    "print(shortestCompletingWord(licensePlate, words))"
   ]
  }
 ],
 "metadata": {
  "kernelspec": {
   "display_name": "base",
   "language": "python",
   "name": "python3"
  },
  "language_info": {
   "codemirror_mode": {
    "name": "ipython",
    "version": 3
   },
   "file_extension": ".py",
   "mimetype": "text/x-python",
   "name": "python",
   "nbconvert_exporter": "python",
   "pygments_lexer": "ipython3",
   "version": "3.10.14"
  },
  "orig_nbformat": 4
 },
 "nbformat": 4,
 "nbformat_minor": 2
}

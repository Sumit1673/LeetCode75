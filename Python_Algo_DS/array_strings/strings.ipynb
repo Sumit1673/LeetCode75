{
 "cells": [
  {
   "cell_type": "code",
   "execution_count": 1,
   "metadata": {},
   "outputs": [],
   "source": [
    "import string\n",
    "import random\n",
    "\n",
    "class Codec:\n",
    "\n",
    "    alphabet = string.ascii_letters + '0123456789'\n",
    "\n",
    "    def __init__(self):\n",
    "        self.url2code = {}\n",
    "        self.code2url = {}\n",
    "\n",
    "    def encode(self, longUrl):\n",
    "        while longUrl not in self.url2code:\n",
    "            code = ''.join(random.choice(Codec.alphabet) for _ in range(6))\n",
    "            if code not in self.code2url:\n",
    "                self.code2url[code] = longUrl\n",
    "                self.url2code[longUrl] = code\n",
    "        return 'http://tinyurl.com/' + self.url2code[longUrl]\n",
    "\n",
    "    def decode(self, shortUrl):\n",
    "        return self.code2url[shortUrl[-6:]]"
   ]
  },
  {
   "cell_type": "code",
   "execution_count": 2,
   "metadata": {},
   "outputs": [
    {
     "data": {
      "text/plain": [
       "'ZdH633'"
      ]
     },
     "execution_count": 2,
     "metadata": {},
     "output_type": "execute_result"
    }
   ],
   "source": [
    "''.join(random.choice(Codec.alphabet) for _ in range(6))"
   ]
  },
  {
   "cell_type": "code",
   "execution_count": 4,
   "metadata": {},
   "outputs": [
    {
     "data": {
      "text/plain": [
       "'abcdefghijklmnopqrstuvwxyzABCDEFGHIJKLMNOPQRSTUVWXYZ0123456789'"
      ]
     },
     "execution_count": 4,
     "metadata": {},
     "output_type": "execute_result"
    }
   ],
   "source": [
    "alphabet = string.ascii_letters + '0123456789'\n",
    "alphabet"
   ]
  },
  {
   "cell_type": "code",
   "execution_count": 1,
   "metadata": {},
   "outputs": [
    {
     "data": {
      "text/plain": [
       "1"
      ]
     },
     "execution_count": 1,
     "metadata": {},
     "output_type": "execute_result"
    }
   ],
   "source": [
    "from collections import Counter\n",
    "from itertools import accumulate\n",
    "def balancedStringSplit(s: str) -> int:\n",
    "    \"\"\"\n",
    "    ans = prefix = 0\n",
    "    for c in s: \n",
    "        prefix += 1 if c == \"R\" else -1\n",
    "        if not prefix: ans += 1\n",
    "    return ans \n",
    "    # \"\"\"\n",
    "    # hash = {}\n",
    "    # l,r=0,0\n",
    "    # while l < len(s):\n",
    "    #     while r< len(s):\n",
    "    #         subs = s[l:r+1]\n",
    "    #         if subs not in hash:\n",
    "                \n",
    "    #             count = Counter(subs)\n",
    "    #             if count[\"L\"] == count[\"R\"]:\n",
    "    #                 hash[subs] = 1\n",
    "    #         r+=1\n",
    "    #     l+=1\n",
    "    # return len(hash.keys())\n",
    "    return list(accumulate(1 if c == \"R\" else -1 for c in s)).count(0)\n",
    "balancedStringSplit(\"LLRRLLRLLRLRLL\")\n"
   ]
  },
  {
   "cell_type": "code",
   "execution_count": 11,
   "metadata": {},
   "outputs": [
    {
     "data": {
      "text/plain": [
       "{0, 4, 7}"
      ]
     },
     "execution_count": 11,
     "metadata": {},
     "output_type": "execute_result"
    }
   ],
   "source": [
    "GFG1 = { 5, 3, 6, 2, 1, 9 } \n",
    "GFG2 ={ 4, 2, 6, 0, 7 } \n",
    "  \n",
    "# using the itertools.accumulate() \n",
    "  \n",
    "# Now this will first give difference  \n",
    "# and the give result by adding all  \n",
    "# the element in result as by default \n",
    "# if no function  passed it will add always \n",
    "GFG2.difference(GFG1)"
   ]
  },
  {
   "cell_type": "code",
   "execution_count": 28,
   "metadata": {},
   "outputs": [
    {
     "name": "stdout",
     "output_type": "stream",
     "text": [
      "Longest common prefix: fl\n"
     ]
    }
   ],
   "source": [
    "def longestCommonPrefix(strs) -> str:\n",
    "        \n",
    "    res = \"\"\n",
    "    for i in range(len(strs[0])):\n",
    "        for s in strs[1:]:\n",
    "            if i == len(s) or strs[0][i] != s[i]:\n",
    "                return res\n",
    "        res += strs[0][i]\n",
    "    return res\n",
    "\n",
    "def longest_common_prefix(strs):\n",
    "    if not strs:\n",
    "        return \"\"\n",
    "    \n",
    "    # Sort the list of strings to easily find the common prefix\n",
    "    # sorting will allign the strings in alphabetical order\n",
    "    # and the last string prefix will be quite different from the first\n",
    "    # and we need to find the common chars in all. So, just find the common\n",
    "    # chars between first and last, that will have common chars among\n",
    "    # all the strs in the list\n",
    "    strs.sort()\n",
    "    \n",
    "    # Compare the first and last strings in the sorted list\n",
    "    first = strs[0]\n",
    "    last = strs[-1]\n",
    "    \n",
    "    # Find the common prefix between the first and last string\n",
    "    prefix = \"\"\n",
    "    for i in range(len(first)):\n",
    "        if first[i] == last[i]:\n",
    "            prefix += first[i]\n",
    "        else:\n",
    "            break\n",
    "    \n",
    "    return prefix\n",
    "\n",
    "# Example usage:\n",
    "strings = [\"flower\", \"flow\", \"flight\"]\n",
    "print(\"Longest common prefix:\", longest_common_prefix(strings))  # Output: \"fl\""
   ]
  },
  {
   "cell_type": "code",
   "execution_count": 37,
   "metadata": {},
   "outputs": [
    {
     "data": {
      "text/plain": [
       "1994"
      ]
     },
     "execution_count": 37,
     "metadata": {},
     "output_type": "execute_result"
    }
   ],
   "source": [
    "def romanToInt(s: str) -> int:\n",
    "    hmap = {\n",
    "        \"I\":1,\n",
    "        \"V\": 5,\n",
    "        \"X\": 10,\n",
    "        \"L\": 50,\n",
    "        \"C\": 100,\n",
    "        \"D\": 500,\n",
    "        \"M\": 1000\n",
    "    }\n",
    "\n",
    "    l =0\n",
    "    res = 0\n",
    "    while l<= len(s)-1 and l+1 <= len(s)-1:\n",
    "        if hmap[s[l]] >= hmap[s[l+1]]:\n",
    "            res+= hmap[s[l]]\n",
    "            l+=1\n",
    "        else:\n",
    "            n = hmap[s[l+1]] - hmap[s[l]]\n",
    "            res+=n\n",
    "            l+=2\n",
    "    if l <=len(s)-1:\n",
    "        res+=hmap[s[-1]]\n",
    "    return res\n",
    "\n",
    "romanToInt(\"MCMXCIV\")      "
   ]
  },
  {
   "cell_type": "code",
   "execution_count": null,
   "metadata": {},
   "outputs": [],
   "source": [
    "def InttoRoman(s: int) -> int:\n",
    "    hmap = {\n",
    "        1: \"I\",\n",
    "        5: \"V\",\n",
    "        10: \"X\",\n",
    "        50: \"L\",\n",
    "        100:\"C\",\n",
    "        500: \"D\",\n",
    "        1000:\"M\"\n",
    "    }\n",
    "\n",
    "    l =0\n",
    "    res = \"\"\n",
    "    \n",
    "    \n",
    "    return res\n",
    "\n",
    "romanToInt(\"MCMXCIV\")      "
   ]
  }
 ],
 "metadata": {
  "kernelspec": {
   "display_name": "base",
   "language": "python",
   "name": "python3"
  },
  "language_info": {
   "codemirror_mode": {
    "name": "ipython",
    "version": 3
   },
   "file_extension": ".py",
   "mimetype": "text/x-python",
   "name": "python",
   "nbconvert_exporter": "python",
   "pygments_lexer": "ipython3",
   "version": "3.10.14"
  }
 },
 "nbformat": 4,
 "nbformat_minor": 2
}

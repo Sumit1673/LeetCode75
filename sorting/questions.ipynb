{
 "cells": [
  {
   "cell_type": "markdown",
   "metadata": {},
   "source": [
    "```python\n",
    "Given a string s, return the longest palindromic substring in s. \n",
    "\n",
    "Example 1:\n",
    "Input: s = \"babad\"\n",
    "Output: \"bab\"\n",
    "Explanation: \"aba\" is also a valid answer.\n",
    "\n",
    "Example 2:\n",
    "Input: s = \"cbbd\"\n",
    "Output: \"bb\"\n"
   ]
  },
  {
   "cell_type": "code",
   "execution_count": 33,
   "metadata": {},
   "outputs": [
    {
     "data": {
      "text/plain": [
       "'bab'"
      ]
     },
     "execution_count": 33,
     "metadata": {},
     "output_type": "execute_result"
    }
   ],
   "source": [
    "def longestPalindrome(s: str) -> str:\n",
    "    res = \"\"\n",
    "    res_len = 0\n",
    "    for i in range(len(s)):\n",
    "        l,r = i,i\n",
    "        \n",
    "        while l >=0 and r < len(s)- 1 and s[l]==s[r]:\n",
    "            if (r-l+1) > res_len:\n",
    "                res = s[l:r+1]\n",
    "                res_len = r-l+1\n",
    "            l -= 1\n",
    "            r+= 1\n",
    "            \n",
    "        l,r = i,i+1\n",
    "        \n",
    "        while l >=0 and r < len(s)- 1 and s[l]==s[r]:\n",
    "            if (r-l+1) > res_len:\n",
    "                res = s[l:r+1]\n",
    "                res_len = r-l+1\n",
    "            l -= 1\n",
    "            r+= 1\n",
    "    return res\n",
    "            \n",
    "    \n",
    "longestPalindrome(\"babad\")\n",
    "        "
   ]
  },
  {
   "cell_type": "code",
   "execution_count": 30,
   "metadata": {},
   "outputs": [
    {
     "data": {
      "text/plain": [
       "5"
      ]
     },
     "execution_count": 30,
     "metadata": {},
     "output_type": "execute_result"
    }
   ],
   "source": [
    "def fib(n):\n",
    "    # print(n)\n",
    "    if n<=1:\n",
    "        return n\n",
    "    else:\n",
    "        # print(n)\n",
    "        return fib(n-1) + fib(n-2)\n",
    "\n",
    "fib(5)"
   ]
  },
  {
   "cell_type": "code",
   "execution_count": 21,
   "metadata": {},
   "outputs": [
    {
     "data": {
      "text/plain": [
       "12"
      ]
     },
     "execution_count": 21,
     "metadata": {},
     "output_type": "execute_result"
    }
   ],
   "source": []
  },
  {
   "cell_type": "code",
   "execution_count": null,
   "metadata": {},
   "outputs": [],
   "source": []
  }
 ],
 "metadata": {
  "kernelspec": {
   "display_name": "base",
   "language": "python",
   "name": "python3"
  },
  "language_info": {
   "codemirror_mode": {
    "name": "ipython",
    "version": 3
   },
   "file_extension": ".py",
   "mimetype": "text/x-python",
   "name": "python",
   "nbconvert_exporter": "python",
   "pygments_lexer": "ipython3",
   "version": "3.11.4"
  }
 },
 "nbformat": 4,
 "nbformat_minor": 2
}

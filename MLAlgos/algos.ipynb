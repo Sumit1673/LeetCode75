{
 "cells": [
  {
   "cell_type": "code",
   "execution_count": 9,
   "metadata": {},
   "outputs": [],
   "source": [
    "import numpy as np\n",
    "from collections import Counter\n",
    "\n",
    "class KNN:\n",
    "    def __init__(self, k):\n",
    "        self.k = k\n",
    "\n",
    "    def fit(self, X, y):\n",
    "        \"\"\"Store training data. \"\"\"\n",
    "        self.X_train = X\n",
    "        self.y_train = y\n",
    "\n",
    "    def predict(self, X_test):\n",
    "        \"\"\"Predict classes for test points.\"\"\"\n",
    "        predictions = []\n",
    "        for x_test in X_test:\n",
    "            distances = [np.linalg.norm(xt - x_test) for xt in self.X_train]\n",
    "            k_indices = np.argsort(distances)[: self.k]  # Indices of k nearest neighbors\n",
    "            k_nearest_labels = [self.y_train[i] for i in k_indices]\n",
    "            most_common_label = Counter(k_nearest_labels).most_common(1)[0][0]\n",
    "            predictions.append(most_common_label)\n",
    "        return predictions\n"
   ]
  },
  {
   "cell_type": "code",
   "execution_count": 10,
   "metadata": {},
   "outputs": [
    {
     "name": "stdout",
     "output_type": "stream",
     "text": [
      "[0, 1]\n"
     ]
    }
   ],
   "source": [
    "import numpy as np\n",
    "from collections import Counter\n",
    "\n",
    "# Sample Dataset\n",
    "X = np.array([[2, 3],\n",
    "              [5, 4],\n",
    "              [9, 6],\n",
    "              [4, 7],\n",
    "              [8, 1],\n",
    "              [7, 2]])\n",
    "y = np.array([0, 0, 1, 1, 0, 0])  # Labels: 0 or 1\n",
    "\n",
    "# Create KNN classifier (let's use k = 3)\n",
    "clf = KNN(k=3)\n",
    "\n",
    "# Fit the model with our sample data\n",
    "clf.fit(X, y)\n",
    "\n",
    "# Test points for prediction\n",
    "test_points = np.array([[3, 4.5], [6, 5]])\n",
    "\n",
    "# Make predictions\n",
    "predictions = clf.predict(test_points)\n",
    "print(predictions) \n"
   ]
  },
  {
   "cell_type": "code",
   "execution_count": null,
   "metadata": {},
   "outputs": [],
   "source": [
    "import numpy as np\n",
    "from random import sample\n",
    "\n",
    "class KMeans:\n",
    "    def __init__(self, k, max_iters=100):\n",
    "        self.k = k\n",
    "        self.max_iters = max_iters\n",
    "\n",
    "    def _initialize_centroids(self, X):\n",
    "        \"\"\"Randomly initialize centroids.\"\"\"\n",
    "        centroids = sample(list(X), self.k) \n",
    "        return np.array(centroids)\n",
    "\n",
    "    def _find_closest_centroid(self, X, centroids):\n",
    "        \"\"\"Assign data points to closest centroids.\"\"\"\n",
    "        distances = np.sqrt(((X - centroids[:, np.newaxis])**2).sum(axis=2))\n",
    "        return np.argmin(distances, axis=0)\n",
    "\n",
    "    def _update_centroids(self, X, labels):\n",
    "        \"\"\"Compute new centroid positions as the mean of points within a cluster.\"\"\"\n",
    "        centroids = np.zeros((self.k, X.shape[1]))\n",
    "        for k in range(self.k):\n",
    "            centroids[k, :] = np.mean(X[labels == k, :], axis=0)\n",
    "        return centroids\n",
    "\n",
    "    def predict(self, X):\n",
    "        \"\"\"Predict cluster labels for new data points.\"\"\" \n",
    "        centroids = self.centroids  # Use the final centroids\n",
    "        distances = np.sqrt(((X - centroids[:, np.newaxis])**2).sum(axis=2))\n",
    "        return np.argmin(distances, axis=0)\n",
    "\n",
    "    def fit(self, X):\n",
    "        \"\"\"Fit the K-Means model to the data.\"\"\"\n",
    "        self.centroids = self._initialize_centroids(X)\n",
    "\n",
    "        for _ in range(self.max_iters):\n",
    "            old_centroids = self.centroids\n",
    "            labels = self._find_closest_centroid(X, old_centroids)\n",
    "            self.centroids = self._update_centroids(X, labels)\n",
    "\n",
    "            # Check for convergence\n",
    "            if np.all(old_centroids == self.centroids):\n",
    "                break\n",
    "\n",
    "# Sample Dataset \n",
    "X = np.array([[1, 2], [1.5, 1.8], [5, 8], [8, 8], [1, 0.6], [9, 11]])\n",
    "\n",
    "# Create K-Means model (let's use k = 2)\n",
    "kmeans = KMeans(k=2)\n",
    "kmeans.fit(X)\n",
    "\n",
    "# Predict cluster for a new point\n",
    "new_point = [10, 9]\n",
    "cluster_label = kmeans.predict([new_point]) \n",
    "print(cluster_label) \n"
   ]
  }
 ],
 "metadata": {
  "kernelspec": {
   "display_name": "base",
   "language": "python",
   "name": "python3"
  },
  "language_info": {
   "codemirror_mode": {
    "name": "ipython",
    "version": 3
   },
   "file_extension": ".py",
   "mimetype": "text/x-python",
   "name": "python",
   "nbconvert_exporter": "python",
   "pygments_lexer": "ipython3",
   "version": "3.11.5"
  }
 },
 "nbformat": 4,
 "nbformat_minor": 2
}

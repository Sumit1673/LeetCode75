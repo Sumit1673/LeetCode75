{
 "cells": [
  {
   "cell_type": "markdown",
   "metadata": {},
   "source": [
    "## Count Elements with maximum freqs"
   ]
  },
  {
   "cell_type": "code",
   "execution_count": 15,
   "metadata": {},
   "outputs": [
    {
     "data": {
      "text/plain": [
       "4"
      ]
     },
     "execution_count": 15,
     "metadata": {},
     "output_type": "execute_result"
    }
   ],
   "source": [
    "from typing import *\n",
    "# DP bottom-up tabulation\n",
    "\n",
    "def maxFrequencyElements(nums: List[int]) -> int:\n",
    "    dp = {}\n",
    "    max_freq, total_max_ele = 0, 0\n",
    "\n",
    "    for i in nums:\n",
    "        # mainting the counter for each elem\n",
    "        dp[i] = dp.get(i, 0)+1\n",
    "\n",
    "        # updating the max freq\n",
    "        if dp[i] > max_freq:\n",
    "            max_freq = dp[i]\n",
    "            total_max_ele = dp[i]\n",
    "        \n",
    "        elif dp[i] == max_freq:\n",
    "            total_max_ele += dp[i] # adding freqs when an elements freq == max freq\n",
    "    return total_max_ele\n",
    "maxFrequencyElements([1,2,2,3,1,4]) "
   ]
  },
  {
   "cell_type": "code",
   "execution_count": 16,
   "metadata": {},
   "outputs": [
    {
     "data": {
      "text/plain": [
       "8"
      ]
     },
     "execution_count": 16,
     "metadata": {},
     "output_type": "execute_result"
    }
   ],
   "source": [
    "## Different ways to reach to the top of stairs. Steps can be taken either 1 or 2\n",
    "# n = top postion. So how many ways are there to reach to the top\n",
    "\n",
    "# Intution: Visualize this in a binary tree to understand the problem, later think of this as \n",
    "# fibonacci series problem because we are solving this using DP bottom to top approach\n",
    "def nways(n):\n",
    "    if n in [1,2]:\n",
    "        return n\n",
    "    one_step_pos, two_step_pos = 1, 1\n",
    "    for i in range(n-1):\n",
    "        temp = one_step_pos\n",
    "        one_step_pos = one_step_pos + two_step_pos\n",
    "        two_step_pos = temp\n",
    "        \n",
    "    return one_step_pos\n",
    "\n",
    "nways(5)"
   ]
  },
  {
   "cell_type": "code",
   "execution_count": 22,
   "metadata": {},
   "outputs": [
    {
     "data": {
      "text/plain": [
       "0"
      ]
     },
     "execution_count": 22,
     "metadata": {},
     "output_type": "execute_result"
    }
   ],
   "source": [
    "\n",
    "def maxProfit(prices) -> int:\n",
    "        min_price = prices[0]\n",
    "        max_profit = 0\n",
    "\n",
    "        for i in prices[1:]:\n",
    "            max_profit = max(max_profit, i - min_price)\n",
    "            min_price = min(min_price, i)\n",
    "\n",
    "        return max_profit\n",
    "\n",
    "maxProfit(l)"
   ]
  },
  {
   "cell_type": "code",
   "execution_count": null,
   "metadata": {},
   "outputs": [],
   "source": []
  }
 ],
 "metadata": {
  "kernelspec": {
   "display_name": "base",
   "language": "python",
   "name": "python3"
  },
  "language_info": {
   "codemirror_mode": {
    "name": "ipython",
    "version": 3
   },
   "file_extension": ".py",
   "mimetype": "text/x-python",
   "name": "python",
   "nbconvert_exporter": "python",
   "pygments_lexer": "ipython3",
   "version": "3.11.4"
  }
 },
 "nbformat": 4,
 "nbformat_minor": 2
}

{
 "cells": [
  {
   "cell_type": "code",
   "execution_count": 1,
   "metadata": {},
   "outputs": [
    {
     "data": {
      "text/plain": [
       "[9, 4]"
      ]
     },
     "execution_count": 1,
     "metadata": {},
     "output_type": "execute_result"
    }
   ],
   "source": [
    "from collections import Counter\n",
    "def intersection(n1, n2)-> list:\n",
    "    hm = {}\n",
    "    res = []\n",
    "    for i in n1:\n",
    "        hm[i] = hm.get(i, 0) + 1\n",
    "    \n",
    "    for i in n2:\n",
    "        if i in hm:\n",
    "            res.append(i)\n",
    "            del hm[i]\n",
    "    return res\n",
    "\n",
    "intersection([4,9,4], [9,4,9,8,4])"
   ]
  },
  {
   "cell_type": "code",
   "execution_count": 2,
   "metadata": {},
   "outputs": [],
   "source": [
    "class MyHashSet:\n",
    "\n",
    "    def __init__(self):\n",
    "        # to be chosen as a prime number to avoid collisions\n",
    "        # distribution of the hash code is spread out.\n",
    "        # to be used when using division method (i % N)\n",
    "        self.h_size = 1000 \n",
    "        self.hashtable = [[] for _ in range(1000)]\n",
    "\n",
    "    def gethash(self, key):\n",
    "        # check for int. since no key conversion to index is done\n",
    "        # as all the keys are integer values\n",
    "        if isinstance(key, int):\n",
    "            # dividing by 1000 is hash compression to keep the \n",
    "            # hash index within the boundary(size) of hash table\n",
    "            # better method is MAD(multiply and divide).\n",
    "            # MAD = [(ai + b) mod p] mod N,\n",
    "            #   N = size of the hash table\n",
    "            #   p = prime number larger than N\n",
    "            #   a,b = random integers between (0,p-1)\n",
    "            #   i = hash code \n",
    "            # A hash generator should include two components:\n",
    "                # a hash code generator for a string and\n",
    "                # a hash compression -> to keep the index within (0, N-1)\n",
    "                # N is the size of the hash table\n",
    "            \n",
    "            \n",
    "            \n",
    "            return key % 1000 \n",
    "        \n",
    "    def add(self, key: int) -> None:\n",
    "        hash_indx = self.gethash(key)\n",
    "        if key not in self.hashtable[hash_indx]:\n",
    "            self.hashtable[hash_indx].append(key)\n",
    "\n",
    "\n",
    "    def remove(self, key: int) -> None:\n",
    "        hash_indx = self.gethash(key)\n",
    "        if key in self.hashtable[hash_indx]:\n",
    "            self.hashtable[hash_indx].remove(key)        \n",
    "\n",
    "        \n",
    "\n",
    "    def contains(self, key: int) -> bool:\n",
    "        hash_indx = self.gethash(key)\n",
    "        return key in self.hashtable[hash_indx]\n",
    "\n",
    "\n",
    "# Your MyHashSet object will be instantiated and called as such:\n",
    "obj = MyHashSet()\n",
    "obj.add(1)\n",
    "obj.remove(2)\n",
    "param_3 = obj.contains(3)"
   ]
  },
  {
   "cell_type": "code",
   "execution_count": 2,
   "metadata": {},
   "outputs": [
    {
     "data": {
      "text/plain": [
       "[[1, 3], [4, 6]]"
      ]
     },
     "execution_count": 2,
     "metadata": {},
     "output_type": "execute_result"
    }
   ],
   "source": [
    "from typing import *\n",
    "def findDifference(nums1: List[int],\n",
    "                   nums2: List[int]) -> List[List[int]]:\n",
    "    nums1_dict ={}\n",
    "    for i in nums1:\n",
    "        \n",
    "        nums1_dict[i] = nums1.count(i)\n",
    "    \n",
    "    nums2_dict ={}\n",
    "    for i in nums2:\n",
    "        nums2_dict[i] = nums2.count(i)\n",
    "            \n",
    "    ans0, ans1 = [], []\n",
    "    for i in nums1_dict.keys():\n",
    "        if i not in nums2_dict.keys():\n",
    "            ans0.append(i)\n",
    "    \n",
    "    for i in nums2_dict.keys():\n",
    "        if i not in nums1_dict.keys():\n",
    "            ans1.append(i)\n",
    "            \n",
    "    return [ans0, ans1]\n",
    "\n",
    "\n",
    "nums1 = [1,2,3]\n",
    "nums2 = [2,4,6]\n",
    "\n",
    "findDifference(nums1, nums2)\n",
    "        "
   ]
  },
  {
   "cell_type": "code",
   "execution_count": 17,
   "metadata": {},
   "outputs": [
    {
     "data": {
      "text/plain": [
       "[[1, 3], [4, 6]]"
      ]
     },
     "execution_count": 17,
     "metadata": {},
     "output_type": "execute_result"
    }
   ],
   "source": [
    "def findDifference(nums1: List[int],\n",
    "                   nums2: List[int]) -> List[List[int]]:\n",
    "    ans0 = set(nums1) - set(nums2)\n",
    "    ans1 = set(nums2) - set(nums1)\n",
    "    return [list(ans0), list(ans1)]\n",
    "\n",
    "nums1 = [1,2,3]\n",
    "nums2 = [2,4,6]\n",
    "\n",
    "findDifference(nums1, nums2)\n",
    "      "
   ]
  },
  {
   "cell_type": "code",
   "execution_count": 4,
   "metadata": {},
   "outputs": [
    {
     "data": {
      "text/plain": [
       "True"
      ]
     },
     "execution_count": 4,
     "metadata": {},
     "output_type": "execute_result"
    }
   ],
   "source": [
    "import collections\n",
    "def uniqueOccurrences(arr: List[int]) -> bool:\n",
    "        count = collections.Counter(arr)\n",
    "        occurrences = set()\n",
    "\n",
    "        for value in count.values():\n",
    "            if value in occurrences:\n",
    "                return False\n",
    "            occurrences.add(value)\n",
    "        return True\n",
    "    \n",
    "arr = [1,2,2,1,1,3]\n",
    "uniqueOccurrences(arr)"
   ]
  },
  {
   "cell_type": "markdown",
   "metadata": {},
   "source": [
    "### Determine Two Strings are Close\n",
    "\n",
    "```python\n",
    "\n",
    "Two strings are considered close if you can attain one from the other using the following operations:\n",
    "\n",
    "Operation 1: Swap any two existing characters.\n",
    "For example, abcde -> aecdb\n",
    "Operation 2: Transform every occurrence of one existing character into another existing character, and do the same with the other character.\n",
    "For example, aacabb -> bbcbaa (all a's turn into b's, and all b's turn into a's)\n",
    "You can use the operations on either string as many times as necessary.\n",
    "\n",
    "Given two strings, word1 and word2, return true if word1 and word2 are close, and false otherwise.\n",
    "```"
   ]
  },
  {
   "cell_type": "code",
   "execution_count": 16,
   "metadata": {},
   "outputs": [
    {
     "name": "stdout",
     "output_type": "stream",
     "text": [
      "['a', 'b', 'c', 'd', 'e', 'f'] ['a', 'b', 'c', 'd', 'e', 'f'] [3, 4, 2, 2, 5, 5] [5, 2, 3, 3, 4, 4]\n"
     ]
    },
    {
     "data": {
      "text/plain": [
       "False"
      ]
     },
     "execution_count": 16,
     "metadata": {},
     "output_type": "execute_result"
    }
   ],
   "source": [
    "from collections import Counter\n",
    "def closeStrings( word1: str, word2: str) -> bool:\n",
    "    from collections import Counter\n",
    "    # frequency of letters and letters should be equal\n",
    "    c1 = Counter(word1)\n",
    "    c2 = Counter(word2)\n",
    "    \n",
    "    l1 = list(c1.keys())\n",
    "    l2 = list(c2.keys())\n",
    "    \n",
    "    f1 = list(c1.values())\n",
    "    f2 = list(c2.values())\n",
    "    print(l1, l2, f1, f2)\n",
    "    return  f1 == f2 and l1 ==l2\n",
    "    # \n",
    "closeStrings(\"aaabbbbccddeeeeefffff\", \"aaaaabbcccdddeeeeffff\")"
   ]
  },
  {
   "cell_type": "markdown",
   "metadata": {},
   "source": [
    "### Equal Row and Column Pairs\n",
    "```python\n",
    "Companies\n",
    "Given a 0-indexed n x n integer matrix grid, return the number of pairs (ri, cj) such that row ri and column cj are equal.\n",
    "\n",
    "A row and column pair is considered equal if they contain the same elements in the same order (i.e., an equal array).\n",
    "\n",
    " \n",
    "\n",
    "Example 1:\n",
    "\n",
    "\n",
    "Input: grid = [[3,2,1],[1,7,6],[2,7,7]]\n",
    "Output: 1\n",
    "```"
   ]
  },
  {
   "cell_type": "code",
   "execution_count": 2,
   "metadata": {},
   "outputs": [
    {
     "data": {
      "text/plain": [
       "1"
      ]
     },
     "execution_count": 2,
     "metadata": {},
     "output_type": "execute_result"
    }
   ],
   "source": [
    "def equalPairs(grid) -> int:\n",
    "\n",
    "    # row_dict = {k:grid[k] for k in range(len(grid))}\n",
    "    # print(row_dict)\n",
    "    # col_dict = {}\n",
    "\n",
    "    # for i in range(len(grid[0])):\n",
    "    #     col_dict[i] = []\n",
    "    #     for j in range(len(grid[0])):\n",
    "    #         col_dict[i].append(grid[j][i])\n",
    "    # print(col_dict)       \n",
    "    # pairs = 0\n",
    "    # for ri, rv in row_dict.items():\n",
    "    #     for ci, cv in col_dict.items():\n",
    "    #         if rv == cv:\n",
    "    #             pairs+= 1\n",
    "                \n",
    "    # pairs\n",
    "    from collections import defaultdict\n",
    "\n",
    "    pairs = 0\n",
    "    # create a dictionary of row elements with all the row elements as key\n",
    "    m = defaultdict(int)\n",
    "    for i in grid:\n",
    "        m[str(i)] += 1\n",
    "    # extract the col elements and search for the key in the above dict\n",
    "    # if found then we have found a pair  \n",
    "    for i in range(len(grid[0])):\n",
    "        col = []\n",
    "        for j in range(len(grid)):\n",
    "            col.append(grid[j][i])\n",
    "        pairs += m[str(col)]\n",
    "    return pairs\n",
    "\n",
    "    \n",
    "    \n",
    "grid = [[3,2,1],[1,7,6],[2,7,7]]\n",
    "equalPairs(grid)\n"
   ]
  },
  {
   "cell_type": "code",
   "execution_count": 11,
   "metadata": {},
   "outputs": [
    {
     "data": {
      "text/plain": [
       "6"
      ]
     },
     "execution_count": 11,
     "metadata": {},
     "output_type": "execute_result"
    }
   ],
   "source": [
    "class CustomHashMap:\n",
    "    def __init__(self):\n",
    "        self.hashmap = {}\n",
    "\n",
    "    def insert(self, x, y):\n",
    "        self.hashmap[x] = y\n",
    "\n",
    "    def get(self, x):\n",
    "        if x in self.hashmap:\n",
    "            return self.hashmap[x]\n",
    "        else:\n",
    "            return 0\n",
    "\n",
    "    def addToKey(self, x):\n",
    "        new_hashmap = {}\n",
    "        for key, value in self.hashmap.items():\n",
    "            new_key = key + x\n",
    "            new_hashmap[new_key] = value\n",
    "        self.hashmap = new_hashmap\n",
    "\n",
    "    def addToValue(self, y):\n",
    "        for key in self.hashmap:\n",
    "            self.hashmap[key] += y\n",
    "\n",
    "def solution(queryType, query):\n",
    "    custom_map = CustomHashMap()\n",
    "    result = 0\n",
    "\n",
    "    for i in range(len(queryType)):\n",
    "        if queryType[i] == \"insert\":\n",
    "            custom_map.insert(query[i][0], query[i][1])\n",
    "        elif queryType[i] == \"addToKey\":\n",
    "            custom_map.addToKey(query[i][0])\n",
    "        elif queryType[i] == \"addToValue\":\n",
    "            custom_map.addToValue(query[i][0])\n",
    "        elif queryType[i] == \"get\":\n",
    "            result += custom_map.get(query[i][0])\n",
    "\n",
    "    return result\n",
    "\n",
    "# Example usage:\n",
    "# queryType = [\"insert\", \"insert\", \"addToValue\", \"addToKey\", \"get\"]\n",
    "# query = [[1, 2], [2, 3], [2], [1], [3]]\n",
    "# output = solution(queryType, query)\n",
    "# print(output)  # Output: 5\n",
    "\n",
    "queryType = [\"insert\", \n",
    " \"addToValue\", \n",
    " \"get\", \n",
    " \"insert\", \n",
    " \"addToKey\", \n",
    " \"addToValue\", \n",
    " \"get\"]\n",
    "query = [[1,2], \n",
    " [2], \n",
    " [1], \n",
    " [2,3], \n",
    " [1], \n",
    " [-1], \n",
    " [3]]\n",
    "\n",
    "solution(queryType, query)\n"
   ]
  },
  {
   "cell_type": "code",
   "execution_count": null,
   "metadata": {},
   "outputs": [],
   "source": [
    "class CustomHashMap:\n",
    "    def __init__(self):\n",
    "        self.h_size = 1000\n",
    "        self.keys = [None]*self.h_size\n",
    "        self.values = [None]*self.h_size\n",
    "        \n",
    "    def __hash(self, key):\n",
    "        return key % self.h_size\n",
    "        \n",
    "    def __find_slot(self, key):\n",
    "        hash_val = self.__hash(key)\n",
    "        while self.keys[hash_val] is not None and self.keys[hash_val] != key:\n",
    "            hash_val = (hash_val +1)% self.h_size\n",
    "        \n",
    "        return hash_val\n",
    "\n",
    "    def insert(self, x, y):\n",
    "        index = self.__find_slot(x)\n",
    "        self.keys[index] = x\n",
    "        self.values[index] = y\n",
    "\n",
    "    def get(self, x):\n",
    "        index = self.__find_slot(x)\n",
    "        \n",
    "        if self.keys[index] is not None:\n",
    "            return self.values[index]\n",
    "        else:\n",
    "            return 0\n",
    "\n",
    "    def addToKey(self, x):\n",
    "        new_keys = [None]*self.h_size\n",
    "        new_values = [None]*self.h_size\n",
    "        # new_hashmap = {}\n",
    "        \n",
    "        # for key, value in self.hashmap.items():\n",
    "        #     new_key = key + x\n",
    "        #     new_hashmap[new_key] = value\n",
    "        # self.hashmap = new_hashmap\n",
    "        for i in range(self.h_size):\n",
    "            if self.keys[i] is not None:\n",
    "                new_key = (self.keys[i]+x)%self.h_size\n",
    "                new_keys[new_key] = self.keys[i]\n",
    "                new_values[new_key] = self.values[i]\n",
    "        self.keys = new_keys\n",
    "        self.values = new_values\n",
    "\n",
    "    def addToValue(self, y):\n",
    "        # for key in self.hashmap:\n",
    "        #     self.hashmap[key] += y\n",
    "        for i in range(self.h_size):\n",
    "            if self.keys[i] is not None:\n",
    "                self.values[i]+=y\n",
    "\n",
    "def solution(queryType, query):\n",
    "    custom_map = CustomHashMap()\n",
    "    result = 0\n",
    "\n",
    "    for i in range(len(queryType)):\n",
    "        if queryType[i] == \"insert\":\n",
    "            custom_map.insert(query[i][0], query[i][1])\n",
    "        elif queryType[i] == \"addToKey\":\n",
    "            custom_map.addToKey(query[i][0])\n",
    "        elif queryType[i] == \"addToValue\":\n",
    "            custom_map.addToValue(query[i][0])\n",
    "        elif queryType[i] == \"get\":\n",
    "            result += custom_map.get(query[i][0])\n",
    "\n",
    "    return result\n",
    "\n",
    "# Example usage:\n",
    "# queryType = [\"insert\", \"insert\", \"addToValue\", \"addToKey\", \"get\"]\n",
    "# query = [[1, 2], [2, 3], [2], [1], [3]]\n",
    "# output = solution(queryType, query)\n",
    "# print(output)  # Output: 5\n",
    "\n"
   ]
  }
 ],
 "metadata": {
  "kernelspec": {
   "display_name": "base",
   "language": "python",
   "name": "python3"
  },
  "language_info": {
   "codemirror_mode": {
    "name": "ipython",
    "version": 3
   },
   "file_extension": ".py",
   "mimetype": "text/x-python",
   "name": "python",
   "nbconvert_exporter": "python",
   "pygments_lexer": "ipython3",
   "version": "3.11.5"
  },
  "orig_nbformat": 4
 },
 "nbformat": 4,
 "nbformat_minor": 2
}

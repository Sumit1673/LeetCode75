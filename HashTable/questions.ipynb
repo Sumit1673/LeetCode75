{
 "cells": [
  {
   "cell_type": "code",
   "execution_count": 2,
   "metadata": {},
   "outputs": [
    {
     "data": {
      "text/plain": [
       "[[1, 3], [4, 6]]"
      ]
     },
     "execution_count": 2,
     "metadata": {},
     "output_type": "execute_result"
    }
   ],
   "source": [
    "from typing import *\n",
    "def findDifference(nums1: List[int],\n",
    "                   nums2: List[int]) -> List[List[int]]:\n",
    "    nums1_dict ={}\n",
    "    for i in nums1:\n",
    "        \n",
    "        nums1_dict[i] = nums1.count(i)\n",
    "    \n",
    "    nums2_dict ={}\n",
    "    for i in nums2:\n",
    "        nums2_dict[i] = nums2.count(i)\n",
    "            \n",
    "    ans0, ans1 = [], []\n",
    "    for i in nums1_dict.keys():\n",
    "        if i not in nums2_dict.keys():\n",
    "            ans0.append(i)\n",
    "    \n",
    "    for i in nums2_dict.keys():\n",
    "        if i not in nums1_dict.keys():\n",
    "            ans1.append(i)\n",
    "            \n",
    "    return [ans0, ans1]\n",
    "\n",
    "\n",
    "nums1 = [1,2,3]\n",
    "nums2 = [2,4,6]\n",
    "\n",
    "findDifference(nums1, nums2)\n",
    "        "
   ]
  },
  {
   "cell_type": "code",
   "execution_count": 17,
   "metadata": {},
   "outputs": [
    {
     "data": {
      "text/plain": [
       "[[1, 3], [4, 6]]"
      ]
     },
     "execution_count": 17,
     "metadata": {},
     "output_type": "execute_result"
    }
   ],
   "source": [
    "def findDifference(nums1: List[int],\n",
    "                   nums2: List[int]) -> List[List[int]]:\n",
    "    ans0 = set(nums1) - set(nums2)\n",
    "    ans1 = set(nums2) - set(nums1)\n",
    "    return [list(ans0), list(ans1)]\n",
    "\n",
    "nums1 = [1,2,3]\n",
    "nums2 = [2,4,6]\n",
    "\n",
    "findDifference(nums1, nums2)\n",
    "      "
   ]
  },
  {
   "cell_type": "code",
   "execution_count": 4,
   "metadata": {},
   "outputs": [
    {
     "data": {
      "text/plain": [
       "True"
      ]
     },
     "execution_count": 4,
     "metadata": {},
     "output_type": "execute_result"
    }
   ],
   "source": [
    "import collections\n",
    "def uniqueOccurrences(arr: List[int]) -> bool:\n",
    "        count = collections.Counter(arr)\n",
    "        occurrences = set()\n",
    "\n",
    "        for value in count.values():\n",
    "            if value in occurrences:\n",
    "                return False\n",
    "            occurrences.add(value)\n",
    "        return True\n",
    "    \n",
    "arr = [1,2,2,1,1,3]\n",
    "uniqueOccurrences(arr)"
   ]
  },
  {
   "cell_type": "markdown",
   "metadata": {},
   "source": [
    "### Determine Two Strings are Close\n",
    "\n",
    "```python\n",
    "\n",
    "Two strings are considered close if you can attain one from the other using the following operations:\n",
    "\n",
    "Operation 1: Swap any two existing characters.\n",
    "For example, abcde -> aecdb\n",
    "Operation 2: Transform every occurrence of one existing character into another existing character, and do the same with the other character.\n",
    "For example, aacabb -> bbcbaa (all a's turn into b's, and all b's turn into a's)\n",
    "You can use the operations on either string as many times as necessary.\n",
    "\n",
    "Given two strings, word1 and word2, return true if word1 and word2 are close, and false otherwise.\n",
    "```"
   ]
  },
  {
   "cell_type": "code",
   "execution_count": 16,
   "metadata": {},
   "outputs": [
    {
     "name": "stdout",
     "output_type": "stream",
     "text": [
      "['a', 'b', 'c', 'd', 'e', 'f'] ['a', 'b', 'c', 'd', 'e', 'f'] [3, 4, 2, 2, 5, 5] [5, 2, 3, 3, 4, 4]\n"
     ]
    },
    {
     "data": {
      "text/plain": [
       "False"
      ]
     },
     "execution_count": 16,
     "metadata": {},
     "output_type": "execute_result"
    }
   ],
   "source": [
    "from collections import Counter\n",
    "def closeStrings( word1: str, word2: str) -> bool:\n",
    "    from collections import Counter\n",
    "    # frequency of letters and letters should be equal\n",
    "    c1 = Counter(word1)\n",
    "    c2 = Counter(word2)\n",
    "    \n",
    "    l1 = list(c1.keys())\n",
    "    l2 = list(c2.keys())\n",
    "    \n",
    "    f1 = list(c1.values())\n",
    "    f2 = list(c2.values())\n",
    "    print(l1, l2, f1, f2)\n",
    "    return  f1 == f2 and l1 ==l2\n",
    "    # \n",
    "closeStrings(\"aaabbbbccddeeeeefffff\", \"aaaaabbcccdddeeeeffff\")"
   ]
  },
  {
   "cell_type": "markdown",
   "metadata": {},
   "source": [
    "### Equal Row and Column Pairs\n",
    "```python\n",
    "Companies\n",
    "Given a 0-indexed n x n integer matrix grid, return the number of pairs (ri, cj) such that row ri and column cj are equal.\n",
    "\n",
    "A row and column pair is considered equal if they contain the same elements in the same order (i.e., an equal array).\n",
    "\n",
    " \n",
    "\n",
    "Example 1:\n",
    "\n",
    "\n",
    "Input: grid = [[3,2,1],[1,7,6],[2,7,7]]\n",
    "Output: 1\n",
    "```"
   ]
  },
  {
   "cell_type": "code",
   "execution_count": 4,
   "metadata": {},
   "outputs": [
    {
     "data": {
      "text/plain": [
       "1"
      ]
     },
     "execution_count": 4,
     "metadata": {},
     "output_type": "execute_result"
    }
   ],
   "source": [
    "def equalPairs(grid) -> int:\n",
    "\n",
    "    # row_dict = {k:grid[k] for k in range(len(grid))}\n",
    "    # print(row_dict)\n",
    "    # col_dict = {}\n",
    "\n",
    "    # for i in range(len(grid[0])):\n",
    "    #     col_dict[i] = []\n",
    "    #     for j in range(len(grid[0])):\n",
    "    #         col_dict[i].append(grid[j][i])\n",
    "    # print(col_dict)       \n",
    "    # pairs = 0\n",
    "    # for ri, rv in row_dict.items():\n",
    "    #     for ci, cv in col_dict.items():\n",
    "    #         if rv == cv:\n",
    "    #             pairs+= 1\n",
    "                \n",
    "    # pairs\n",
    "    from collections import defaultdict\n",
    "\n",
    "    pairs = 0\n",
    "    m = defaultdict(int)\n",
    "    for i in grid:\n",
    "        m[str(i)] += 1\n",
    "        \n",
    "    for i in range(len(grid[0])):\n",
    "        col = []\n",
    "        for j in range(len(grid)):\n",
    "            col.append(grid[j][i])\n",
    "        pairs += m[str(col)]\n",
    "    return pairs\n",
    "\n",
    "    \n",
    "    \n",
    "grid = [[3,2,1],[1,7,6],[2,7,7]]\n",
    "equalPairs(grid)\n"
   ]
  },
  {
   "cell_type": "code",
   "execution_count": 24,
   "metadata": {},
   "outputs": [
    {
     "ename": "NameError",
     "evalue": "name 'defaultdict' is not defined",
     "output_type": "error",
     "traceback": [
      "\u001b[0;31m---------------------------------------------------------------------------\u001b[0m",
      "\u001b[0;31mNameError\u001b[0m                                 Traceback (most recent call last)",
      "Cell \u001b[0;32mIn[24], line 1\u001b[0m\n\u001b[0;32m----> 1\u001b[0m m \u001b[39m=\u001b[39m defaultdict(\u001b[39mint\u001b[39m)\n",
      "\u001b[0;31mNameError\u001b[0m: name 'defaultdict' is not defined"
     ]
    }
   ],
   "source": [
    "m = defaultdict(int)"
   ]
  },
  {
   "cell_type": "code",
   "execution_count": null,
   "metadata": {},
   "outputs": [],
   "source": []
  }
 ],
 "metadata": {
  "kernelspec": {
   "display_name": "base",
   "language": "python",
   "name": "python3"
  },
  "language_info": {
   "codemirror_mode": {
    "name": "ipython",
    "version": 3
   },
   "file_extension": ".py",
   "mimetype": "text/x-python",
   "name": "python",
   "nbconvert_exporter": "python",
   "pygments_lexer": "ipython3",
   "version": "3.11.4"
  },
  "orig_nbformat": 4
 },
 "nbformat": 4,
 "nbformat_minor": 2
}

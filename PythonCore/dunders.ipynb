{
 "cells": [
  {
   "cell_type": "markdown",
   "metadata": {},
   "source": [
    "## MAGIC FUNCTIONS OR DUNDER METHODS"
   ]
  },
  {
   "cell_type": "markdown",
   "metadata": {},
   "source": [
    "In Python, `__repr__` and `__str__` are special methods that allow you to define how your custom objects are represented as strings when using built-in functions like repr() and str(). These methods are used to provide human-readable and unambiguous representations of objects in different contexts.\n",
    "\n",
    "*  `__repr__` Method: The `__repr__` method is used to define a string representation of the object that should be unambiguous and ideally suitable for developers. **It's intended to provide information that could be used to recreate the object if necessary.**\n",
    "\n",
    "* `__str__` Method: The `__str__` method is used to define a human-readable string representation of the object. It's often used for more user-friendly output when printing the object."
   ]
  },
  {
   "cell_type": "code",
   "execution_count": 1,
   "metadata": {},
   "outputs": [
    {
     "name": "stdout",
     "output_type": "stream",
     "text": [
      "MyClass(x=5, y=10)\n"
     ]
    }
   ],
   "source": [
    "class MyClass:\n",
    "    def __init__(self, x, y):\n",
    "        self.x = x\n",
    "        self.y = y\n",
    "\n",
    "    def __repr__(self):\n",
    "        return f\"MyClass(x={self.x}, y={self.y})\"\n",
    "\n",
    "obj = MyClass(5, 10)\n",
    "print(repr(obj))  # Outputs: MyClass(x=5, y=10)\n"
   ]
  },
  {
   "cell_type": "code",
   "execution_count": 2,
   "metadata": {},
   "outputs": [
    {
     "name": "stdout",
     "output_type": "stream",
     "text": [
      "Coordinates: (5, 10)\n"
     ]
    }
   ],
   "source": [
    "class MyClass:\n",
    "    def __init__(self, x, y):\n",
    "        self.x = x\n",
    "        self.y = y\n",
    "\n",
    "    def __str__(self):\n",
    "        return f\"Coordinates: ({self.x}, {self.y})\"\n",
    "\n",
    "obj = MyClass(5, 10)\n",
    "print(str(obj))  # Outputs: Coordinates: (5, 10)\n"
   ]
  },
  {
   "cell_type": "code",
   "execution_count": null,
   "metadata": {},
   "outputs": [],
   "source": [
    "# __getitem__"
   ]
  }
 ],
 "metadata": {
  "kernelspec": {
   "display_name": "base",
   "language": "python",
   "name": "python3"
  },
  "language_info": {
   "codemirror_mode": {
    "name": "ipython",
    "version": 3
   },
   "file_extension": ".py",
   "mimetype": "text/x-python",
   "name": "python",
   "nbconvert_exporter": "python",
   "pygments_lexer": "ipython3",
   "version": "3.11.4"
  },
  "orig_nbformat": 4
 },
 "nbformat": 4,
 "nbformat_minor": 2
}

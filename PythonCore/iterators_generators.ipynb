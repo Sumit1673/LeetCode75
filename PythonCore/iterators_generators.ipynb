{
 "cells": [
  {
   "cell_type": "markdown",
   "metadata": {},
   "source": [
    "## ITERATORS\n",
    "\n",
    "processing any item in a sequence is defined by iterators and iterable\n",
    "\n",
    "Iterable is an object, that one can iterate over.\n",
    "\n",
    "It generates an Iterator when passed to iter() method. An iterator is an object, which is used to iterate over an iterable object using the `__next__()` method. Iterators have the `__next__()` method, which returns the next item of the object.\n",
    "\n",
    "Note: Every iterator is also an iterable, but not every iterable is an iterator in Python.\n",
    "\n",
    "For example, a list is iterable but a list is not an iterator. An iterator can be created from an iterable by using the function iter(). To make this possible, the class of an object needs either a method `__iter__`, which returns an iterator, or a `__getitem__ `method with sequential indexes starting with 0. \n",
    "\n",
    "Example 1: \n",
    "We know that str is iterable but it is not an iterator. where if we run this in for loop to print string then it is possible because when for loop executes it converts into an iterator to execute the code.\n",
    "\n",
    "Here iter( ) is converting s which is a string (iterable) into an iterator and prints G for the first time we can call multiple times to iterate over strings.\n",
    "\n",
    "When a for loop is executed, for statement calls iter() on the object, which it is supposed to loop over. \n",
    "If this call is successful, the iter call will return an iterator object that defines the method `__next__`(), which accesses elements of the object one at a time.  \n",
    "\n",
    "\n",
    "EXAMLPLE:\n",
    "\n",
    "```python\n",
    "\n",
    "# Iterable example (list)\n",
    "iterable_list = [1, 2, 3]\n",
    "for item in iterable_list:\n",
    "    print(item)\n",
    "\n",
    "# Iterator example (range)\n",
    "iterator_range = iter(range(3))\n",
    "print(next(iterator_range))  # 0\n",
    "print(next(iterator_range))  # 1\n",
    "print(next(iterator_range))  # 2\n",
    "# This will raise StopIteration: print(next(iterator_range))\n",
    "```"
   ]
  },
  {
   "cell_type": "markdown",
   "metadata": {},
   "source": [
    "In the below code, the __iter__() method simply forwards the iteration request to the in‐\n",
    "ternally held _children attribute."
   ]
  },
  {
   "cell_type": "code",
   "execution_count": 8,
   "metadata": {},
   "outputs": [
    {
     "name": "stdout",
     "output_type": "stream",
     "text": [
      "Node(1)\n",
      "Node(2)\n"
     ]
    }
   ],
   "source": [
    "class Node:\n",
    "    def __init__(self, value):\n",
    "        self._value = value\n",
    "        self._children = []\n",
    "    def __repr__(self):\n",
    "        return 'Node({!r})'.format(self._value)\n",
    "    def add_child(self, node):\n",
    "        self._children.append(node)\n",
    "    def __iter__(self):        \n",
    "        # iter() returns an iterator object that implements the\n",
    "        # next method to loop/iterated over.\n",
    "        return iter(self._children)\n",
    "    \n",
    "# Example\n",
    "if __name__ == '__main__':\n",
    "    root = Node(0)\n",
    "    child1 = Node(1)\n",
    "    child2 = Node(2)\n",
    "    root.add_child(child1)\n",
    "    root.add_child(child2)\n",
    "    \n",
    "    for ch in root: # if __iter__ method is not defined, root cannot be iterated.\n",
    "        # Node class uses __repr__ method to represent\n",
    "        # the node in a specific form. That is why it is Node(1)\n",
    "        # and Node(2). otherwise the output of the print \n",
    "        # is <class '__main__.Node'>\n",
    "        print(ch) \n",
    "# Outputs Node(1), Node(2)"
   ]
  },
  {
   "cell_type": "code",
   "execution_count": 9,
   "metadata": {},
   "outputs": [
    {
     "data": {
      "text/plain": [
       "2"
      ]
     },
     "execution_count": 9,
     "metadata": {},
     "output_type": "execute_result"
    }
   ],
   "source": [
    "s = (1,2)\n",
    "s[1]"
   ]
  },
  {
   "cell_type": "markdown",
   "metadata": {},
   "source": [
    "## GENERATORS\n",
    "\n",
    "Used to implement a new kind of iteration pattern. It responds only to `__next__`"
   ]
  },
  {
   "cell_type": "code",
   "execution_count": 6,
   "metadata": {},
   "outputs": [
    {
     "name": "stdout",
     "output_type": "stream",
     "text": [
      "\n",
      "Breadth First \n",
      "\n",
      "Node(0)\n",
      "Node(1)\n",
      "Node(2)\n",
      "Node(3)\n",
      "Node(4)\n",
      "Node(5)\n"
     ]
    }
   ],
   "source": [
    "# EXample: Depth first\n",
    "\n",
    "class Node:\n",
    "    def __init__(self, val) -> None:\n",
    "        self._val = val\n",
    "        self._children = []\n",
    "        \n",
    "    def __repr__(self) -> str:\n",
    "        return f\"Node({self._val})\"\n",
    "    \n",
    "    def add_child(self, node):\n",
    "        self._children.append(node)\n",
    "        \n",
    "    def __iter__(self):\n",
    "        return iter(self._children)\n",
    "    \n",
    "    def depth_first(self):\n",
    "        yield self # yeilds the current object itself like root\n",
    "        # iterate over loop and we have defined iteration\n",
    "        # procedure in __iter__ \n",
    "        for c in self:  \n",
    "            \n",
    "            # recursion\n",
    "            yield from c.depth_first()\n",
    "    \n",
    "    # debug and understand very easy       \n",
    "    def breadth_first(self):\n",
    "        queue = [self] # first root will be inserted because it call the function\n",
    "        \n",
    "        while queue:\n",
    "            node = queue.pop(0)\n",
    "            \n",
    "            yield node\n",
    "            # queue will be extended with the children in the order they appear\n",
    "            queue.extend(c for c in node._children)\n",
    "            \n",
    "# Example\n",
    "if __name__ == '__main__':\n",
    "    root = Node(0)\n",
    "    child1 = Node(1)\n",
    "    child2 = Node(2)\n",
    "    root.add_child(child1)\n",
    "    root.add_child(child2)\n",
    "    child1.add_child(Node(3))\n",
    "    child1.add_child(Node(4))\n",
    "    child2.add_child(Node(5))\n",
    "    \n",
    "    print(\"Depth First \\n\")\n",
    "    for ch in root.depth_first():        \n",
    "        print(ch)\n",
    "    \n",
    "    print(\"\\nBreadth First \\n\")\n",
    "    for ch in root.breadth_first():        \n",
    "        print(ch)    "
   ]
  },
  {
   "cell_type": "markdown",
   "metadata": {},
   "source": [
    "## TUPLE IMPLEMENTATION"
   ]
  },
  {
   "cell_type": "code",
   "execution_count": 26,
   "metadata": {},
   "outputs": [],
   "source": [
    "from typing import Any\n",
    "\n",
    "\n",
    "class MyTuple:\n",
    "    def __init__(self, *args) -> None:\n",
    "        self._val = args\n",
    "        \n",
    "    def __repr__(self):\n",
    "        return f\"MyTuple({self._val})\"\n",
    "    def __getitem__(self, index):\n",
    "        return self._val[index]\n",
    "    \n",
    "    def __len__(self):\n",
    "        return len(self.val)\n",
    "    \n",
    "     \n",
    "    def __setitem__(self,__pos, __value: Any) -> None:\n",
    "        raise TypeError(\"Tuple is immutable, therfore you cannot alter its value\")"
   ]
  },
  {
   "cell_type": "code",
   "execution_count": 27,
   "metadata": {},
   "outputs": [
    {
     "data": {
      "text/plain": [
       "1"
      ]
     },
     "execution_count": 27,
     "metadata": {},
     "output_type": "execute_result"
    }
   ],
   "source": [
    "t= MyTuple(1,2,3)\n",
    "t[0]"
   ]
  },
  {
   "cell_type": "code",
   "execution_count": null,
   "metadata": {},
   "outputs": [],
   "source": [
    "class CustomTuple:\n",
    "    def __init__(self, *args):\n",
    "        self._data = args\n",
    "\n",
    "    def __getitem__(self, index):\n",
    "        return self._data[index]\n",
    "\n",
    "    def __len__(self):\n",
    "        return len(self._data)\n",
    "\n",
    "    def __repr__(self):\n",
    "        return f\"CustomTuple{self._data}\"\n",
    "\n",
    "    def count(self, value):\n",
    "        return self._data.count(value)\n",
    "\n",
    "    def index(self, value):\n",
    "        return self._data.index(value)\n",
    "\n",
    "    def __setitem__(self, index, value):\n",
    "        raise TypeError(\"Cannot modify elements in a CustomTuple\")\n",
    "\n",
    "# Creating a custom tuple-like object\n",
    "t = CustomTuple(1, 2, 3, 4, 4)\n",
    "\n",
    "# Trying to modify an element\n",
    "try:\n",
    "    t[2] = 10\n",
    "except TypeError as e:\n",
    "    print(e)  # Outputs: Cannot modify elements in a CustomTuple\n"
   ]
  }
 ],
 "metadata": {
  "kernelspec": {
   "display_name": "base",
   "language": "python",
   "name": "python3"
  },
  "language_info": {
   "codemirror_mode": {
    "name": "ipython",
    "version": 3
   },
   "file_extension": ".py",
   "mimetype": "text/x-python",
   "name": "python",
   "nbconvert_exporter": "python",
   "pygments_lexer": "ipython3",
   "version": "3.11.4"
  },
  "orig_nbformat": 4
 },
 "nbformat": 4,
 "nbformat_minor": 2
}

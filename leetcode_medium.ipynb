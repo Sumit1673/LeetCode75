{
 "cells": [
  {
   "cell_type": "code",
   "execution_count": 1,
   "metadata": {},
   "outputs": [],
   "source": [
    "from typing import *\n",
    "# Difficulty = MEDIUM\n",
    "def combinationSum4(nums: List[int], target: int) -> int:\n",
    "    dp = {0: 1}\n",
    "    \n",
    "    for total in range(1, target + 1):\n",
    "        dp[total] = 0\n",
    "        for n in nums:\n",
    "            dp[total] += dp.get(total -n, 0)\n",
    "            \n",
    "    return dp[target]"
   ]
  },
  {
   "cell_type": "code",
   "execution_count": 2,
   "metadata": {},
   "outputs": [
    {
     "data": {
      "text/plain": [
       "'9534330'"
      ]
     },
     "execution_count": 2,
     "metadata": {},
     "output_type": "execute_result"
    }
   ],
   "source": [
    "class LargerNumKey(str):\n",
    "    def __lt__(x, y):\n",
    "        # Compare x+y with y+x in reverse order to get descending order\n",
    "        return x+y > y+x\n",
    "\n",
    "def largestNumber(nums: List[int]) -> str:\n",
    "    # Convert the list of numbers to list of strings\n",
    "    nums = [str(num) for num in nums]\n",
    "    \n",
    "    # Sort the list of strings using our custom sorting function\n",
    "    nums.sort(key=LargerNumKey)\n",
    "    \n",
    "    # Join the sorted list of strings to form the final result\n",
    "    largest_num = ''.join(nums)\n",
    "    \n",
    "    # If the largest number is 0, return \"0\"\n",
    "    # Otherwise, return the largest number\n",
    "    return \"0\" if largest_num[0] == \"0\" else largest_num\n",
    "\n",
    "largestNumber([3,30,34,5,9])\n"
   ]
  },
  {
   "cell_type": "code",
   "execution_count": null,
   "metadata": {},
   "outputs": [],
   "source": []
  }
 ],
 "metadata": {
  "kernelspec": {
   "display_name": "base",
   "language": "python",
   "name": "python3"
  },
  "language_info": {
   "codemirror_mode": {
    "name": "ipython",
    "version": 3
   },
   "file_extension": ".py",
   "mimetype": "text/x-python",
   "name": "python",
   "nbconvert_exporter": "python",
   "pygments_lexer": "ipython3",
   "version": "3.11.5"
  },
  "orig_nbformat": 4
 },
 "nbformat": 4,
 "nbformat_minor": 2
}

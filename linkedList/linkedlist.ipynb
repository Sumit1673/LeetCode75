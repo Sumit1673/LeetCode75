{
 "cells": [
  {
   "cell_type": "markdown",
   "metadata": {},
   "source": [
    "### Create a LinkedList"
   ]
  },
  {
   "cell_type": "code",
   "execution_count": 6,
   "metadata": {},
   "outputs": [
    {
     "name": "stdout",
     "output_type": "stream",
     "text": [
      "20 -> 21 -> 5 -> 1 -> 120 -> 211\n",
      "20 -> 21 -> 5 -> 1 -> 211\n"
     ]
    }
   ],
   "source": [
    "class Node:\n",
    "    def __init__(self, value=None) -> None:\n",
    "        self.val = value\n",
    "        self.next = None\n",
    "    \n",
    "    def __repr__(self) -> str:\n",
    "        return f\"Node ({self.val})\"    \n",
    "    \n",
    "        \n",
    "class LinkedList:\n",
    "    def __init__(self, val) -> None:\n",
    "        self.head = Node(val)\n",
    "        \n",
    "    def __repr__(self) -> str:\n",
    "        current = self.head\n",
    "        elements = []\n",
    "        while current.next:\n",
    "            elements.append(str(current.next.val))\n",
    "            current = current.next\n",
    "        return \" -> \".join(elements)\n",
    "    \n",
    "    def add_node(self, val, current=None):\n",
    "        if current is None:\n",
    "            current = self.head\n",
    "        if current.next is None:\n",
    "            current.next = Node(val)\n",
    "            \n",
    "        else:\n",
    "            self.add_node(val, current.next)\n",
    "            \n",
    "    def delete_node(self, val, prev=None, current=None):\n",
    "        \n",
    "        if self.head and self.head.val == val:\n",
    "            self.head = self.next\n",
    "            return\n",
    "        else:\n",
    "            prev = self.head\n",
    "            curr= self.head.next\n",
    "            if curr.val == val:\n",
    "                prev.next = curr.next\n",
    "                return\n",
    "            else:\n",
    "                self.delete_node(val, prev, curr)\n",
    "        \n",
    "        \n",
    "        self.delete_node(val, prev, curr.next)\n",
    "        \n",
    "        # while True:\n",
    "        #     if curr.next.val == val:\n",
    "        #         curr.next = curr.next.next\n",
    "        #         break\n",
    "        #     else:\n",
    "        #         curr = curr.next\n",
    "                \n",
    "        \n",
    "    \n",
    "l = LinkedList(10)\n",
    "l.add_node(20)\n",
    "l.add_node(21)\n",
    "l.add_node(5)\n",
    "l.add_node(1)\n",
    "l.add_node(120)\n",
    "l.add_node(211)\n",
    "print(l)\n",
    "l.delete_node(120)\n",
    "\n",
    "\n",
    "print(l)"
   ]
  },
  {
   "cell_type": "code",
   "execution_count": null,
   "metadata": {},
   "outputs": [],
   "source": []
  }
 ],
 "metadata": {
  "kernelspec": {
   "display_name": "base",
   "language": "python",
   "name": "python3"
  },
  "language_info": {
   "codemirror_mode": {
    "name": "ipython",
    "version": 3
   },
   "file_extension": ".py",
   "mimetype": "text/x-python",
   "name": "python",
   "nbconvert_exporter": "python",
   "pygments_lexer": "ipython3",
   "version": "3.11.4"
  },
  "orig_nbformat": 4
 },
 "nbformat": 4,
 "nbformat_minor": 2
}

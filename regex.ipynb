{
 "cells": [
  {
   "cell_type": "markdown",
   "metadata": {},
   "source": [
    "```python\n",
    "Common Regex Patterns (Metacharacters)\n",
    "\n",
    ". Matches any single character (except newline)\n",
    "\\d Matches a digit\n",
    "\\w Matches a word character (letter, digit, or underscore)\n",
    "\\s Matches a whitespace character\n",
    "^ Matches the beginning of a string\n",
    "$ Matches the end of a string\n",
    "[] Matches a set of characters (e.g., [abc] matches 'a', 'b', or 'c')\n",
    "More Regex Power\n",
    "\n",
    "Quantifiers:\n",
    "\n",
    "* Zero or more of the preceding element\n",
    "+ One or more of the preceding element\n",
    "? Zero or one of the preceding element\n",
    "{n} Exactly n repetitions\n",
    "Groups:\n",
    "\n",
    "() Create capture groups to extract parts of a match"
   ]
  },
  {
   "cell_type": "code",
   "execution_count": 11,
   "metadata": {},
   "outputs": [
    {
     "data": {
      "text/plain": [
       "'(514)-771-1255'"
      ]
     },
     "execution_count": 11,
     "metadata": {},
     "output_type": "execute_result"
    }
   ],
   "source": [
    "import re\n",
    "phonenumber = \"my number is (514)-771-1255\"\n",
    "re.search(r'\\(\\d{3}\\)-\\d{3}-\\d{4}', phonenumber).group()"
   ]
  },
  {
   "cell_type": "markdown",
   "metadata": {},
   "source": [
    "Question 2: Extract Email Domains\n",
    "\n",
    "Write a regex to extract just the domain portion from a list of email addresses:\n",
    "\n",
    "Examples:\n",
    "\n",
    "[email address removed] -> gmail.com\n",
    "[email address removed] -> domain.co.uk"
   ]
  },
  {
   "cell_type": "code",
   "execution_count": 15,
   "metadata": {},
   "outputs": [
    {
     "data": {
      "text/plain": [
       "['gmmmail.com', 'gmm4ail.com', 'gmmmail.com']"
      ]
     },
     "execution_count": 15,
     "metadata": {},
     "output_type": "execute_result"
    }
   ],
   "source": [
    "re.findall(r'[a-zA-Z0-9]+\\.[a-zA-Z]+', \"vasdfsd@gmmmail.com, vasdfsd@gmm4ail.com,vasdfsd@gmmmail.com\")"
   ]
  },
  {
   "cell_type": "markdown",
   "metadata": {},
   "source": [
    "Question 3: Finding HTML Tags\n",
    "\n",
    "Write a regex to find all opening HTML tags (e.g., <p>, <div>, <img>).\n"
   ]
  },
  {
   "cell_type": "code",
   "execution_count": 42,
   "metadata": {},
   "outputs": [
    {
     "data": {
      "text/plain": [
       "['<p>', '<div>']"
      ]
     },
     "execution_count": 42,
     "metadata": {},
     "output_type": "execute_result"
    }
   ],
   "source": [
    "re.findall(r'<[^>]*>', \"asdf <p> <div> sadfas <img='1.jpg'\") # <img=\"1.jpg>\""
   ]
  },
  {
   "cell_type": "code",
   "execution_count": 39,
   "metadata": {},
   "outputs": [
    {
     "data": {
      "text/plain": [
       "['<tag with attributes>']"
      ]
     },
     "execution_count": 39,
     "metadata": {},
     "output_type": "execute_result"
    }
   ],
   "source": [
    "re.findall(r'<[^>]+>', 'This is a <tag with attributes> example')"
   ]
  },
  {
   "cell_type": "code",
   "execution_count": null,
   "metadata": {},
   "outputs": [],
   "source": []
  }
 ],
 "metadata": {
  "kernelspec": {
   "display_name": "base",
   "language": "python",
   "name": "python3"
  },
  "language_info": {
   "codemirror_mode": {
    "name": "ipython",
    "version": 3
   },
   "file_extension": ".py",
   "mimetype": "text/x-python",
   "name": "python",
   "nbconvert_exporter": "python",
   "pygments_lexer": "ipython3",
   "version": "3.11.4"
  }
 },
 "nbformat": 4,
 "nbformat_minor": 2
}

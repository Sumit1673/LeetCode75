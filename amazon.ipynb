{
  "cells": [
    {
      "cell_type": "code",
      "execution_count": null,
      "metadata": {
        "id": "-gErPTh0B8bs"
      },
      "outputs": [],
      "source": [
        "import pandas as pd\n"
      ]
    },
    {
      "cell_type": "code",
      "execution_count": null,
      "metadata": {
        "colab": {
          "base_uri": "https://localhost:8080/",
          "height": 424
        },
        "id": "KakCBZtOCFOd",
        "outputId": "b4568e32-0fb8-4976-879c-4e72f257ee79"
      },
      "outputs": [
        {
          "data": {
            "application/vnd.google.colaboratory.intrinsic+json": {
              "summary": "{\n  \"name\": \"# df_leetcode\",\n  \"rows\": 100,\n  \"fields\": [\n    {\n      \"column\": \"index\",\n      \"properties\": {\n        \"dtype\": \"number\",\n        \"std\": 169,\n        \"min\": 3,\n        \"max\": 598,\n        \"num_unique_values\": 100,\n        \"samples\": [\n          402,\n          574,\n          253\n        ],\n        \"semantic_type\": \"\",\n        \"description\": \"\"\n      }\n    },\n    {\n      \"column\": \"id\",\n      \"properties\": {\n        \"dtype\": \"number\",\n        \"std\": 373,\n        \"min\": 13,\n        \"max\": 1260,\n        \"num_unique_values\": 100,\n        \"samples\": [\n          783,\n          1065,\n          108\n        ],\n        \"semantic_type\": \"\",\n        \"description\": \"\"\n      }\n    },\n    {\n      \"column\": \"problem\",\n      \"properties\": {\n        \"dtype\": \"string\",\n        \"num_unique_values\": 100,\n        \"samples\": [\n          \"Minimum Distance Between BST Nodes (/problems/minimum-distance-between-bst-nodes)\",\n          \"Index Pairs of a String (/problems/index-pairs-of-a-string)\",\n          \"Convert Sorted Array to Binary Search Tree (/problems/convert-sorted-array-to-binary-search-tree)\"\n        ],\n        \"semantic_type\": \"\",\n        \"description\": \"\"\n      }\n    },\n    {\n      \"column\": \"accept_rate\",\n      \"properties\": {\n        \"dtype\": \"string\",\n        \"num_unique_values\": 83,\n        \"samples\": [\n          \"63.80%\",\n          \"88.10%\",\n          \"67.50%\"\n        ],\n        \"semantic_type\": \"\",\n        \"description\": \"\"\n      }\n    },\n    {\n      \"column\": \"level\",\n      \"properties\": {\n        \"dtype\": \"category\",\n        \"num_unique_values\": 1,\n        \"samples\": [\n          \"Easy\"\n        ],\n        \"semantic_type\": \"\",\n        \"description\": \"\"\n      }\n    }\n  ]\n}",
              "type": "dataframe"
            },
            "text/html": [
              "\n",
              "  <div id=\"df-6cd16360-890c-428d-bf30-a4fda29b0f53\" class=\"colab-df-container\">\n",
              "    <div>\n",
              "<style scoped>\n",
              "    .dataframe tbody tr th:only-of-type {\n",
              "        vertical-align: middle;\n",
              "    }\n",
              "\n",
              "    .dataframe tbody tr th {\n",
              "        vertical-align: top;\n",
              "    }\n",
              "\n",
              "    .dataframe thead th {\n",
              "        text-align: right;\n",
              "    }\n",
              "</style>\n",
              "<table border=\"1\" class=\"dataframe\">\n",
              "  <thead>\n",
              "    <tr style=\"text-align: right;\">\n",
              "      <th></th>\n",
              "      <th>index</th>\n",
              "      <th>id</th>\n",
              "      <th>problem</th>\n",
              "      <th>accept_rate</th>\n",
              "      <th>level</th>\n",
              "    </tr>\n",
              "  </thead>\n",
              "  <tbody>\n",
              "    <tr>\n",
              "      <th>0</th>\n",
              "      <td>577</td>\n",
              "      <td>1119</td>\n",
              "      <td>Remove Vowels from a String (/problems/remove-...</td>\n",
              "      <td>88.10%</td>\n",
              "      <td>Easy</td>\n",
              "    </tr>\n",
              "    <tr>\n",
              "      <th>1</th>\n",
              "      <td>542</td>\n",
              "      <td>1068</td>\n",
              "      <td>Product Sales Analysis I (/problems/product-sa...</td>\n",
              "      <td>84.20%</td>\n",
              "      <td>Easy</td>\n",
              "    </tr>\n",
              "    <tr>\n",
              "      <th>2</th>\n",
              "      <td>416</td>\n",
              "      <td>771</td>\n",
              "      <td>Jewels and Stones (/problems/jewels-and-stones)</td>\n",
              "      <td>84.10%</td>\n",
              "      <td>Easy</td>\n",
              "    </tr>\n",
              "    <tr>\n",
              "      <th>3</th>\n",
              "      <td>586</td>\n",
              "      <td>1069</td>\n",
              "      <td>Product Sales Analysis II (/problems/product-s...</td>\n",
              "      <td>82.50%</td>\n",
              "      <td>Easy</td>\n",
              "    </tr>\n",
              "    <tr>\n",
              "      <th>4</th>\n",
              "      <td>597</td>\n",
              "      <td>1251</td>\n",
              "      <td>Average Selling Price (/problems/average-selli...</td>\n",
              "      <td>82.00%</td>\n",
              "      <td>Easy</td>\n",
              "    </tr>\n",
              "    <tr>\n",
              "      <th>...</th>\n",
              "      <td>...</td>\n",
              "      <td>...</td>\n",
              "      <td>...</td>\n",
              "      <td>...</td>\n",
              "      <td>...</td>\n",
              "    </tr>\n",
              "    <tr>\n",
              "      <th>95</th>\n",
              "      <td>216</td>\n",
              "      <td>409</td>\n",
              "      <td>Longest Palindrome (/problems/longest-palindrome)</td>\n",
              "      <td>49.10%</td>\n",
              "      <td>Easy</td>\n",
              "    </tr>\n",
              "    <tr>\n",
              "      <th>96</th>\n",
              "      <td>360</td>\n",
              "      <td>118</td>\n",
              "      <td>Pascal's Triangle (/problems/pascals-triangle)</td>\n",
              "      <td>48.90%</td>\n",
              "      <td>Easy</td>\n",
              "    </tr>\n",
              "    <tr>\n",
              "      <th>97</th>\n",
              "      <td>22</td>\n",
              "      <td>121</td>\n",
              "      <td>Best Time to Buy and Sell Stock (/problems/bes...</td>\n",
              "      <td>48.80%</td>\n",
              "      <td>Easy</td>\n",
              "    </tr>\n",
              "    <tr>\n",
              "      <th>98</th>\n",
              "      <td>417</td>\n",
              "      <td>746</td>\n",
              "      <td>Min Cost Climbing Stairs (/problems/min-cost-c...</td>\n",
              "      <td>48.50%</td>\n",
              "      <td>Easy</td>\n",
              "    </tr>\n",
              "    <tr>\n",
              "      <th>99</th>\n",
              "      <td>471</td>\n",
              "      <td>183</td>\n",
              "      <td>Customers Who Never Order (/problems/customers...</td>\n",
              "      <td>48.20%</td>\n",
              "      <td>Easy</td>\n",
              "    </tr>\n",
              "  </tbody>\n",
              "</table>\n",
              "<p>100 rows × 5 columns</p>\n",
              "</div>\n",
              "    <div class=\"colab-df-buttons\">\n",
              "\n",
              "  <div class=\"colab-df-container\">\n",
              "    <button class=\"colab-df-convert\" onclick=\"convertToInteractive('df-6cd16360-890c-428d-bf30-a4fda29b0f53')\"\n",
              "            title=\"Convert this dataframe to an interactive table.\"\n",
              "            style=\"display:none;\">\n",
              "\n",
              "  <svg xmlns=\"http://www.w3.org/2000/svg\" height=\"24px\" viewBox=\"0 -960 960 960\">\n",
              "    <path d=\"M120-120v-720h720v720H120Zm60-500h600v-160H180v160Zm220 220h160v-160H400v160Zm0 220h160v-160H400v160ZM180-400h160v-160H180v160Zm440 0h160v-160H620v160ZM180-180h160v-160H180v160Zm440 0h160v-160H620v160Z\"/>\n",
              "  </svg>\n",
              "    </button>\n",
              "\n",
              "  <style>\n",
              "    .colab-df-container {\n",
              "      display:flex;\n",
              "      gap: 12px;\n",
              "    }\n",
              "\n",
              "    .colab-df-convert {\n",
              "      background-color: #E8F0FE;\n",
              "      border: none;\n",
              "      border-radius: 50%;\n",
              "      cursor: pointer;\n",
              "      display: none;\n",
              "      fill: #1967D2;\n",
              "      height: 32px;\n",
              "      padding: 0 0 0 0;\n",
              "      width: 32px;\n",
              "    }\n",
              "\n",
              "    .colab-df-convert:hover {\n",
              "      background-color: #E2EBFA;\n",
              "      box-shadow: 0px 1px 2px rgba(60, 64, 67, 0.3), 0px 1px 3px 1px rgba(60, 64, 67, 0.15);\n",
              "      fill: #174EA6;\n",
              "    }\n",
              "\n",
              "    .colab-df-buttons div {\n",
              "      margin-bottom: 4px;\n",
              "    }\n",
              "\n",
              "    [theme=dark] .colab-df-convert {\n",
              "      background-color: #3B4455;\n",
              "      fill: #D2E3FC;\n",
              "    }\n",
              "\n",
              "    [theme=dark] .colab-df-convert:hover {\n",
              "      background-color: #434B5C;\n",
              "      box-shadow: 0px 1px 3px 1px rgba(0, 0, 0, 0.15);\n",
              "      filter: drop-shadow(0px 1px 2px rgba(0, 0, 0, 0.3));\n",
              "      fill: #FFFFFF;\n",
              "    }\n",
              "  </style>\n",
              "\n",
              "    <script>\n",
              "      const buttonEl =\n",
              "        document.querySelector('#df-6cd16360-890c-428d-bf30-a4fda29b0f53 button.colab-df-convert');\n",
              "      buttonEl.style.display =\n",
              "        google.colab.kernel.accessAllowed ? 'block' : 'none';\n",
              "\n",
              "      async function convertToInteractive(key) {\n",
              "        const element = document.querySelector('#df-6cd16360-890c-428d-bf30-a4fda29b0f53');\n",
              "        const dataTable =\n",
              "          await google.colab.kernel.invokeFunction('convertToInteractive',\n",
              "                                                    [key], {});\n",
              "        if (!dataTable) return;\n",
              "\n",
              "        const docLinkHtml = 'Like what you see? Visit the ' +\n",
              "          '<a target=\"_blank\" href=https://colab.research.google.com/notebooks/data_table.ipynb>data table notebook</a>'\n",
              "          + ' to learn more about interactive tables.';\n",
              "        element.innerHTML = '';\n",
              "        dataTable['output_type'] = 'display_data';\n",
              "        await google.colab.output.renderOutput(dataTable, element);\n",
              "        const docLink = document.createElement('div');\n",
              "        docLink.innerHTML = docLinkHtml;\n",
              "        element.appendChild(docLink);\n",
              "      }\n",
              "    </script>\n",
              "  </div>\n",
              "\n",
              "\n",
              "<div id=\"df-6d0a1bd8-c012-4984-806b-d53c48f1aecc\">\n",
              "  <button class=\"colab-df-quickchart\" onclick=\"quickchart('df-6d0a1bd8-c012-4984-806b-d53c48f1aecc')\"\n",
              "            title=\"Suggest charts\"\n",
              "            style=\"display:none;\">\n",
              "\n",
              "<svg xmlns=\"http://www.w3.org/2000/svg\" height=\"24px\"viewBox=\"0 0 24 24\"\n",
              "     width=\"24px\">\n",
              "    <g>\n",
              "        <path d=\"M19 3H5c-1.1 0-2 .9-2 2v14c0 1.1.9 2 2 2h14c1.1 0 2-.9 2-2V5c0-1.1-.9-2-2-2zM9 17H7v-7h2v7zm4 0h-2V7h2v10zm4 0h-2v-4h2v4z\"/>\n",
              "    </g>\n",
              "</svg>\n",
              "  </button>\n",
              "\n",
              "<style>\n",
              "  .colab-df-quickchart {\n",
              "      --bg-color: #E8F0FE;\n",
              "      --fill-color: #1967D2;\n",
              "      --hover-bg-color: #E2EBFA;\n",
              "      --hover-fill-color: #174EA6;\n",
              "      --disabled-fill-color: #AAA;\n",
              "      --disabled-bg-color: #DDD;\n",
              "  }\n",
              "\n",
              "  [theme=dark] .colab-df-quickchart {\n",
              "      --bg-color: #3B4455;\n",
              "      --fill-color: #D2E3FC;\n",
              "      --hover-bg-color: #434B5C;\n",
              "      --hover-fill-color: #FFFFFF;\n",
              "      --disabled-bg-color: #3B4455;\n",
              "      --disabled-fill-color: #666;\n",
              "  }\n",
              "\n",
              "  .colab-df-quickchart {\n",
              "    background-color: var(--bg-color);\n",
              "    border: none;\n",
              "    border-radius: 50%;\n",
              "    cursor: pointer;\n",
              "    display: none;\n",
              "    fill: var(--fill-color);\n",
              "    height: 32px;\n",
              "    padding: 0;\n",
              "    width: 32px;\n",
              "  }\n",
              "\n",
              "  .colab-df-quickchart:hover {\n",
              "    background-color: var(--hover-bg-color);\n",
              "    box-shadow: 0 1px 2px rgba(60, 64, 67, 0.3), 0 1px 3px 1px rgba(60, 64, 67, 0.15);\n",
              "    fill: var(--button-hover-fill-color);\n",
              "  }\n",
              "\n",
              "  .colab-df-quickchart-complete:disabled,\n",
              "  .colab-df-quickchart-complete:disabled:hover {\n",
              "    background-color: var(--disabled-bg-color);\n",
              "    fill: var(--disabled-fill-color);\n",
              "    box-shadow: none;\n",
              "  }\n",
              "\n",
              "  .colab-df-spinner {\n",
              "    border: 2px solid var(--fill-color);\n",
              "    border-color: transparent;\n",
              "    border-bottom-color: var(--fill-color);\n",
              "    animation:\n",
              "      spin 1s steps(1) infinite;\n",
              "  }\n",
              "\n",
              "  @keyframes spin {\n",
              "    0% {\n",
              "      border-color: transparent;\n",
              "      border-bottom-color: var(--fill-color);\n",
              "      border-left-color: var(--fill-color);\n",
              "    }\n",
              "    20% {\n",
              "      border-color: transparent;\n",
              "      border-left-color: var(--fill-color);\n",
              "      border-top-color: var(--fill-color);\n",
              "    }\n",
              "    30% {\n",
              "      border-color: transparent;\n",
              "      border-left-color: var(--fill-color);\n",
              "      border-top-color: var(--fill-color);\n",
              "      border-right-color: var(--fill-color);\n",
              "    }\n",
              "    40% {\n",
              "      border-color: transparent;\n",
              "      border-right-color: var(--fill-color);\n",
              "      border-top-color: var(--fill-color);\n",
              "    }\n",
              "    60% {\n",
              "      border-color: transparent;\n",
              "      border-right-color: var(--fill-color);\n",
              "    }\n",
              "    80% {\n",
              "      border-color: transparent;\n",
              "      border-right-color: var(--fill-color);\n",
              "      border-bottom-color: var(--fill-color);\n",
              "    }\n",
              "    90% {\n",
              "      border-color: transparent;\n",
              "      border-bottom-color: var(--fill-color);\n",
              "    }\n",
              "  }\n",
              "</style>\n",
              "\n",
              "  <script>\n",
              "    async function quickchart(key) {\n",
              "      const quickchartButtonEl =\n",
              "        document.querySelector('#' + key + ' button');\n",
              "      quickchartButtonEl.disabled = true;  // To prevent multiple clicks.\n",
              "      quickchartButtonEl.classList.add('colab-df-spinner');\n",
              "      try {\n",
              "        const charts = await google.colab.kernel.invokeFunction(\n",
              "            'suggestCharts', [key], {});\n",
              "      } catch (error) {\n",
              "        console.error('Error during call to suggestCharts:', error);\n",
              "      }\n",
              "      quickchartButtonEl.classList.remove('colab-df-spinner');\n",
              "      quickchartButtonEl.classList.add('colab-df-quickchart-complete');\n",
              "    }\n",
              "    (() => {\n",
              "      let quickchartButtonEl =\n",
              "        document.querySelector('#df-6d0a1bd8-c012-4984-806b-d53c48f1aecc button');\n",
              "      quickchartButtonEl.style.display =\n",
              "        google.colab.kernel.accessAllowed ? 'block' : 'none';\n",
              "    })();\n",
              "  </script>\n",
              "</div>\n",
              "\n",
              "    </div>\n",
              "  </div>\n"
            ],
            "text/plain": [
              "    index    id                                            problem  \\\n",
              "0     577  1119  Remove Vowels from a String (/problems/remove-...   \n",
              "1     542  1068  Product Sales Analysis I (/problems/product-sa...   \n",
              "2     416   771    Jewels and Stones (/problems/jewels-and-stones)   \n",
              "3     586  1069  Product Sales Analysis II (/problems/product-s...   \n",
              "4     597  1251  Average Selling Price (/problems/average-selli...   \n",
              "..    ...   ...                                                ...   \n",
              "95    216   409  Longest Palindrome (/problems/longest-palindrome)   \n",
              "96    360   118     Pascal's Triangle (/problems/pascals-triangle)   \n",
              "97     22   121  Best Time to Buy and Sell Stock (/problems/bes...   \n",
              "98    417   746  Min Cost Climbing Stairs (/problems/min-cost-c...   \n",
              "99    471   183  Customers Who Never Order (/problems/customers...   \n",
              "\n",
              "   accept_rate level  \n",
              "0       88.10%  Easy  \n",
              "1       84.20%  Easy  \n",
              "2       84.10%  Easy  \n",
              "3       82.50%  Easy  \n",
              "4       82.00%  Easy  \n",
              "..         ...   ...  \n",
              "95      49.10%  Easy  \n",
              "96      48.90%  Easy  \n",
              "97      48.80%  Easy  \n",
              "98      48.50%  Easy  \n",
              "99      48.20%  Easy  \n",
              "\n",
              "[100 rows x 5 columns]"
            ]
          },
          "execution_count": 44,
          "metadata": {},
          "output_type": "execute_result"
        }
      ],
      "source": [
        "df_leetcode = pd.read_csv(\"/content/Amazon.csv\")\n",
        "df_leetcode.sort_values(by=\"accept_rate\",ascending=False, inplace=True)\n",
        "df_leetcode[df_leetcode[\"level\"]==\"Easy\"].reset_index().head(100)\n",
        "# df_leetcode.to_csv(\"leetcode_amazon_easy.csv\")"
      ]
    },
    {
      "cell_type": "code",
      "execution_count": null,
      "metadata": {
        "id": "pE-ukxUnCI4i"
      },
      "outputs": [],
      "source": [
        "# df_leetcode[\"med_problems\"] = df_leetcode[df_leetcode[\"level\"]==\"Medium\"]\n",
        "df= df_leetcode[df_leetcode[\"level\"] == \"Medium\"][\"problem\"]\n",
        "df.to_csv(\"leetcode_amazon_medium.csv\")"
      ]
    },
    {
      "cell_type": "code",
      "execution_count": null,
      "metadata": {
        "colab": {
          "base_uri": "https://localhost:8080/"
        },
        "id": "jHaHEC7rCQCH",
        "outputId": "471be22c-cc13-4705-b013-f4cc125d1cfe"
      },
      "outputs": [
        {
          "name": "stdout",
          "output_type": "stream",
          "text": [
            "ltcdscmmntyfrcdrs\n"
          ]
        }
      ],
      "source": [
        "## EASY\n",
        "## 1119. Remove Vowels from a String\n",
        "# Given a string S, remove the vowels 'a', 'e', 'i', 'o', and 'u' from it, and return the new string.\n",
        "\n",
        "\n",
        "\n",
        "# Example 1:\n",
        "\n",
        "Input=\"leetcodeisacommunityforcoders\"\n",
        "Output=\"ltcdscmmntyfrcdrs\"\n",
        "# Example 2:\n",
        "\n",
        "# Input= \"aeiou\"\n",
        "# Output: \"\"\n",
        "\n",
        "res = \"\".join(list(map(lambda x: x if x not in \"aeiou\" else \"\", Input)))\n",
        "print(res)\n",
        "assert res == Output\n",
        "# print(res, ())\n",
        "# method 2:\n",
        "# \"\".join([x for x in Input if x not in \"aeiou\"])\n"
      ]
    },
    {
      "cell_type": "markdown",
      "metadata": {
        "id": "3rUWDbn0Sd8o"
      },
      "source": [
        "807. [Max Increase to Keep City Skyline\n",
        "](https://leetcode.com/problems/max-increase-to-keep-city-skyline/description/)\n"
      ]
    },
    {
      "cell_type": "code",
      "execution_count": null,
      "metadata": {
        "colab": {
          "base_uri": "https://localhost:8080/"
        },
        "id": "nc3MKG88ERBl",
        "outputId": "37248300-f791-4647-92f7-115cedb54bd4"
      },
      "outputs": [
        {
          "name": "stdout",
          "output_type": "stream",
          "text": [
            "35\n"
          ]
        }
      ],
      "source": [
        "def maxIncreaseKeepingSkyline(grid):\n",
        "    \"\"\"\n",
        "    :type grid: List[List[int]]\n",
        "    :rtype: int\n",
        "    \"\"\"\n",
        "    n = len(grid)\n",
        "    row_max = [max(row) for row in grid]\n",
        "    col_max = [max(c) for c in zip(*grid)] # prints array column wise\n",
        "    total_increase = 0\n",
        "    for i in range(n):\n",
        "        for j in range(n):\n",
        "            total_increase += min(row_max[i], col_max[j]) - grid[i][j]\n",
        "    return total_increase\n",
        "\n",
        "# Example usage\n",
        "grid = [[3,0,8,4],[2,4,5,7],[9,2,6,3],[0,3,1,0]]\n",
        "result = maxIncreaseKeepingSkyline(grid)\n",
        "print(result)  # Output: 35\n"
      ]
    },
    {
      "cell_type": "code",
      "execution_count": null,
      "metadata": {
        "id": "5QW2dizOWLxI"
      },
      "outputs": [],
      "source": [
        "# prompt: whats the space and time complexity of the code in above cell\n",
        "\n",
        "# Space Complexity:\n",
        "# - The space used by `row_max` and `col_max` is O(n), where n is the number of rows (or columns) in the grid.\n",
        "# - The space used by the input `grid` is O(n^2).\n",
        "# - Overall, the\n",
        "\n",
        "# Time Complexity:\n",
        "# - Finding `row_max` takes O(n^2) time.\n",
        "# - Finding `col_max` takes O(n^2) time.\n",
        "# - Iterating through the grid to calculate the total increase takes O(n^2) time.\n",
        "# - Therefore, the overall time complexity is O(n^2).\n"
      ]
    },
    {
      "cell_type": "code",
      "execution_count": 1,
      "metadata": {
        "colab": {
          "base_uri": "https://localhost:8080/"
        },
        "id": "4UfmpuMsfjca",
        "outputId": "e3028bc6-a4d9-42c7-8e94-d6579ff942e4"
      },
      "outputs": [
        {
          "name": "stdout",
          "output_type": "stream",
          "text": [
            "4,1,None, 2,None, 3,None, None, 6,5,None, None, 7,None, 8,None, None\n"
          ]
        }
      ],
      "source": [
        "\n",
        "tree = [4, 1, 6, 0, 2, 5, 7, None, None, None, 3, None, None, None, 8]\n",
        "\n",
        "class TreeNode:\n",
        "    def __init__(self, val=None):\n",
        "        self.val = val\n",
        "        self.left = None\n",
        "        self.right = None\n",
        "\n",
        "class BinaryTree:\n",
        "    def __init__(self):\n",
        "        self.root = None\n",
        "        self._num_of_elements = 0\n",
        "\n",
        "    def __repr__(self):\n",
        "        return self._print_recursive(self.root)\n",
        "\n",
        "    def _print_recursive(self, node):\n",
        "      # pre-order traversal will print value of a node first and all its\n",
        "      # left nodes and then its all right node of a node\n",
        "        if node is None:\n",
        "            return \"None\"\n",
        "        else:\n",
        "            return f\"{node.val},{self._print_recursive(node.left)}, {self._print_recursive(node.right)}\"\n",
        "    def insert(self, val):\n",
        "        if val:\n",
        "            self.root = self._insert_recursive(self.root, val)\n",
        "\n",
        "    def _insert_recursive(self, node, val):\n",
        "        if node is None:\n",
        "            self._num_of_elements += 1\n",
        "            return TreeNode(val)\n",
        "        if val <= node.val:\n",
        "            node.left = self._insert_recursive(node.left, val)\n",
        "        else:\n",
        "            node.right = self._insert_recursive(node.right, val)\n",
        "        return node\n",
        "t = BinaryTree()\n",
        "for i in tree:\n",
        "    t.insert(i)\n",
        "print(t)\n"
      ]
    },
    {
      "cell_type": "markdown",
      "metadata": {
        "id": "LjxryQQkuccV"
      },
      "source": [
        "[1038](https://leetcode.com/problems/binary-search-tree-to-greater-sum-tree/description/)"
      ]
    },
    {
      "cell_type": "code",
      "execution_count": null,
      "metadata": {
        "id": "xHZg_6BQllQT"
      },
      "outputs": [],
      "source": [
        "root = [4, 1, 6, 0, 2, 5, 7, None, None, None, 3, None, None, None, 8]\n",
        "# res = [30,36,21,36,35,26,15,null,null,null,33,null,null,null,8]\n",
        "t=BinaryTree()\n",
        "for i in root:\n",
        "    t.insert(i)"
      ]
    },
    {
      "cell_type": "code",
      "execution_count": null,
      "metadata": {
        "colab": {
          "base_uri": "https://localhost:8080/"
        },
        "id": "u5WF2iPR1YSC",
        "outputId": "e9c8e5ce-b106-42a3-a624-4f26a9c69924"
      },
      "outputs": [
        {
          "name": "stdout",
          "output_type": "stream",
          "text": [
            "<__main__.TreeNode object at 0x7ba5b26377f0>\n"
          ]
        }
      ],
      "source": [
        "class Solution:\n",
        "  # Reverse in order traversal -> right -> root -> left\n",
        "    def bstToGst(self, root: TreeNode) -> TreeNode:\n",
        "        self.val = 0 # this is to keep the track of previous sums\n",
        "\n",
        "        def dfs(node):\n",
        "            if not node:\n",
        "                return\n",
        "\n",
        "            dfs(node.right)\n",
        "            self.val += node.val # c\n",
        "            node.val = self.val # updating the node value\n",
        "            dfs(node.left)\n",
        "\n",
        "        dfs(root)\n",
        "        return root\n",
        "\n",
        "gt = Solution().bstToGst(t.root)\n",
        "print(gt)"
      ]
    },
    {
      "cell_type": "code",
      "execution_count": null,
      "metadata": {
        "id": "p0J5-4wz1gpZ"
      },
      "outputs": [],
      "source": [
        "root3 = [10,5,15,3,7,None,18]\n",
        "# res = [30,36,21,36,35,26,15,null,null,null,33,null,null,null,8]\n",
        "t=BinaryTree()\n",
        "for i in root3:\n",
        "    t.insert(i)"
      ]
    },
    {
      "cell_type": "code",
      "execution_count": null,
      "metadata": {
        "colab": {
          "base_uri": "https://localhost:8080/"
        },
        "id": "9Rk0Qsj85qV9",
        "outputId": "91c16a46-a346-47c6-a42a-6e1ff289c1ad"
      },
      "outputs": [
        {
          "data": {
            "text/plain": [
              "32"
            ]
          },
          "execution_count": 12,
          "metadata": {},
          "output_type": "execute_result"
        }
      ],
      "source": [
        "def rangeSumBST2(root, low: int, high: int) -> int:\n",
        "\n",
        "        if not root:\n",
        "            return\n",
        "\n",
        "        def dfs(node, res):\n",
        "            if not node:\n",
        "                return res\n",
        "            print(node.val)\n",
        "            if node.val in range(low, high+1):\n",
        "                res += node.val\n",
        "                print(\"Res = \", res)\n",
        "            res = dfs(node.left, res)\n",
        "            res = dfs(node.right, res)\n",
        "            return res\n",
        "        res = dfs(root, 0)\n",
        "        return res\n",
        "\n",
        "def rangeSumBST(root, low: int, high: int) -> int:\n",
        "  if not root:\n",
        "    return 0\n",
        "  if low <= root.val <= high:\n",
        "      return rangeSumBST(root.left, low, high) + root.val + rangeSumBST(root.right, low, high)\n",
        "  if low <= root.val:\n",
        "      return rangeSumBST(root.left, low, high)\n",
        "  return rangeSumBST(root.right, low, high)\n",
        "rangeSumBST(t.root, 7, 15)"
      ]
    },
    {
      "cell_type": "markdown",
      "metadata": {
        "id": "4ps8BR4kAB8_"
      },
      "source": [
        "1134. Armstrong Number\n",
        "The k-digit number N is an Armstrong number if and only if the k-th power of each digit sums to N.\n",
        "\n",
        "Given a positive integer N, return true if and only if it is an Armstrong number.\n",
        "\n",
        "\n",
        "\n",
        "Example 1:\n",
        "\n",
        "Input: 153\n",
        "Output: true\n",
        "Explanation:\n",
        "153 is a 3-digit number, and 153 = 1^3 + 5^3 + 3^3."
      ]
    },
    {
      "cell_type": "code",
      "execution_count": null,
      "metadata": {
        "colab": {
          "base_uri": "https://localhost:8080/"
        },
        "id": "fUNm1yoE67vV",
        "outputId": "474d5f81-812f-403f-ab2c-33c6843227c4"
      },
      "outputs": [
        {
          "data": {
            "text/plain": [
              "True"
            ]
          },
          "execution_count": 14,
          "metadata": {},
          "output_type": "execute_result"
        }
      ],
      "source": [
        "def armstrong_number(n):\n",
        "  k = len(str(n))\n",
        "  s, x = 0, n\n",
        "  while x:\n",
        "      s += (x % 10) ** k\n",
        "      x //= 10\n",
        "  return s == n\n",
        "armstrong_number(153)"
      ]
    },
    {
      "cell_type": "code",
      "execution_count": null,
      "metadata": {
        "colab": {
          "base_uri": "https://localhost:8080/",
          "height": 35
        },
        "id": "w1d48guGAhoM",
        "outputId": "04192e9b-10ab-4d26-a11d-96c512575695"
      },
      "outputs": [
        {
          "data": {
            "application/vnd.google.colaboratory.intrinsic+json": {
              "type": "string"
            },
            "text/plain": [
              "'Two Sum (/problems/two-sum)'"
            ]
          },
          "execution_count": 21,
          "metadata": {},
          "output_type": "execute_result"
        }
      ],
      "source": [
        "df_leetcode[df_leetcode[\"level\"]==\"Easy\"][\"problem\"][0]"
      ]
    },
    {
      "cell_type": "code",
      "execution_count": null,
      "metadata": {
        "id": "gdR6XHf7Bflv"
      },
      "outputs": [],
      "source": [
        "\n",
        "def twoSum(nums, target: int) :\n",
        "    hashmap = {} # diff val: index\n",
        "    for i,val in enumerate(nums):\n",
        "        diff = target - val\n",
        "\n",
        "        if diff in hashmap:\n",
        "            return [hashmap[diff], i]\n",
        "        hashmap[val] = i\n",
        "    return\n"
      ]
    },
    {
      "cell_type": "code",
      "execution_count": null,
      "metadata": {
        "colab": {
          "base_uri": "https://localhost:8080/",
          "height": 35
        },
        "id": "pmqFCgf9KMk3",
        "outputId": "606160d2-8802-47f5-92c6-701c21f9af0a"
      },
      "outputs": [
        {
          "data": {
            "application/vnd.google.colaboratory.intrinsic+json": {
              "type": "string"
            },
            "text/plain": [
              "'High Five (/problems/high-five)'"
            ]
          },
          "execution_count": 34,
          "metadata": {},
          "output_type": "execute_result"
        }
      ],
      "source": [
        "df_leetcode.loc[df_leetcode[\"level\"]==\"Easy\"][\"problem\"].iloc[7]"
      ]
    },
    {
      "cell_type": "markdown",
      "metadata": {
        "id": "GNE6Hd2lMG82"
      },
      "source": [
        "1085. Sum of Digits in the Minimum Number\n",
        "Description\n",
        "Given an integer array nums, return 0 if the sum of the digits of the minimum integer in nums is odd, or 1 otherwise.\n",
        "\n",
        "\n",
        "\n",
        "Example 1:\n",
        "\n",
        "Input: nums = [34,23,1,24,75,33,54,8]\n",
        "Output: 0\n",
        "Explanation: The minimal element is 1, and the sum of those digits is 1 which is odd, so the answer is 0"
      ]
    },
    {
      "cell_type": "code",
      "execution_count": null,
      "metadata": {
        "colab": {
          "base_uri": "https://localhost:8080/"
        },
        "id": "RxvzlbRYKNy-",
        "outputId": "f70c7644-a292-4ab3-edec-932fe70a84bf"
      },
      "outputs": [
        {
          "data": {
            "text/plain": [
              "1"
            ]
          },
          "execution_count": 40,
          "metadata": {},
          "output_type": "execute_result"
        }
      ],
      "source": [
        "def sum_of_digits(nums):\n",
        "  min_num = min(nums)\n",
        "\n",
        "  if len(str(min_num)) == 1:\n",
        "    return 1 if min_num % 2 == 0 else 0\n",
        "  else:\n",
        "    res = 0\n",
        "    for i in range(len(str(min_num))):\n",
        "      res += min_num % 10\n",
        "      min_num = min_num // 10\n",
        "    return 1 if res % 2 == 0 else 0\n",
        "sum_of_digits([99,77,33,66,55])"
      ]
    },
    {
      "cell_type": "code",
      "execution_count": null,
      "metadata": {
        "id": "on4bE61VNmGD"
      },
      "outputs": [],
      "source": [
        "# prompt: ou are given an integer array nums with no duplicates. A maximum binary tree can be built recursively from nums using the following algorithm:\n",
        "# Create a root node whose value is the maximum value in nums.\n",
        "# Recursively build the left subtree on the subarray prefix to the left of the maximum value.\n",
        "# Recursively build the right subtree on the subarray suffix to the right of the maximum value.\n",
        "# Return th\n",
        "\n",
        "# Definition for a binary tree node.\n",
        "class TreeNode:\n",
        "    def __init__(self, val=0, left=None, right=None):\n",
        "        self.val = val\n",
        "        self.left = left\n",
        "        self.right = right\n",
        "\n",
        "def constructMaximumBinaryTree(nums):\n",
        "    def build(left, right):\n",
        "        if left > right:\n",
        "            return None\n",
        "\n",
        "        # Find index of maximum value in current subarray\n",
        "        max_index = left\n",
        "        for i in range(left + 1, right + 1):\n",
        "            if nums[i] > nums[max_index]:\n",
        "                max_index = i\n",
        "\n",
        "        # Create root node with maximum value\n",
        "        root = TreeNode(nums[max_index])\n",
        "\n",
        "        # Recursively build left and right subtrees\n",
        "        root.left = build(left, max_index - 1)\n",
        "        root.right = build(max_index + 1, right)\n",
        "\n",
        "        return root\n",
        "\n",
        "    return build(0, len(nums) - 1)\n"
      ]
    },
    {
      "cell_type": "markdown",
      "metadata": {
        "id": "lCQuoeyEPKe_"
      },
      "source": [
        "[Partition Strings](https://leetcode.com/problems/partition-labels/)"
      ]
    },
    {
      "cell_type": "code",
      "execution_count": 1,
      "metadata": {
        "colab": {
          "base_uri": "https://localhost:8080/"
        },
        "id": "be9Ji3aWPC8N",
        "outputId": "b8a26f05-ccb1-4584-a2f2-cf8582a1601e"
      },
      "outputs": [
        {
          "data": {
            "text/plain": [
              "[9, 7, 8]"
            ]
          },
          "execution_count": 1,
          "metadata": {},
          "output_type": "execute_result"
        }
      ],
      "source": [
        "# Input: s = \"ababcbacadefegdehijhklij\"\n",
        "# Output: [9,7,8]\n",
        "# Explanation:\n",
        "# The partition is \"ababcbaca\", \"defegde\", \"hijhklij\".\n",
        "# This is a partition so that each letter appears in at most one part.\n",
        "# A partition like \"ababcbacadefegde\", \"hijhklij\" is incorrect, because it splits s into less parts.\n",
        "\n",
        "def partitionLabels(s: str):\n",
        "  last_occ = {c:idx for idx, c in enumerate(s)}\n",
        "  ans = []\n",
        "  start, end = 0, 0\n",
        "  for curr_idx, c in enumerate(s):\n",
        "    # find the last index of the current char\n",
        "    # suppose when we are at idx = 0 where c = a, a's last occurence is\n",
        "    # at 9, now supppose the next char b's last occ is at 10, in this our\n",
        "    # partition length/end will be increased to 10. This is will help in getting \n",
        "    # a partion which containes chars that only occurs in this partion. Example eccbbbbdec \n",
        "    # is a good explanation of the above concept\n",
        "    end = max(end, last_occ[c])\n",
        "    if curr_idx == end:\n",
        "      ans.append(end - start + 1)\n",
        "      start = end + 1\n",
        "  return ans\n",
        "inputs = \"eccbbbbdec\"\n",
        "partitionLabels(inputs)"
      ]
    },
    {
      "cell_type": "code",
      "execution_count": 11,
      "metadata": {
        "id": "PSWYuphAQ4pO"
      },
      "outputs": [
        {
          "data": {
            "text/plain": [
              "[[1, 5]]"
            ]
          },
          "execution_count": 11,
          "metadata": {},
          "output_type": "execute_result"
        }
      ],
      "source": [
        "# Example 1:\n",
        "\n",
        "# Input: \n",
        "intervals = [[1,3],[2,6],[8,10],[15,18]]\n",
        "it = [[1,4],[4,5]]\n",
        "# Output: [[1,6],[8,10],[15,18]]\n",
        "# Explanation: Since intervals [1,3] and [2,6] overlap, merge them into [1,6].\n",
        "def merge_intervals(intervals):\n",
        "    intervals.sort()\n",
        "#   print(intervals)\n",
        "    meeting = []\n",
        "    st,en=intervals[0]\n",
        "    for start,end in intervals:\n",
        "        if start<=en:\n",
        "            en=max(en,end)\n",
        "        else:\n",
        "            meeting.append([st,en])\n",
        "            st=start\n",
        "            en=end\n",
        "    meeting.append([st,en])\n",
        "    return meeting\n",
        "      \n",
        "    \n",
        "\n",
        "\n",
        "\n",
        "merge_intervals(it)"
      ]
    },
    {
      "cell_type": "code",
      "execution_count": 30,
      "metadata": {},
      "outputs": [
        {
          "data": {
            "text/plain": [
              "['mee', 'aqq']"
            ]
          },
          "execution_count": 30,
          "metadata": {},
          "output_type": "execute_result"
        }
      ],
      "source": [
        "def findAndReplacePattern(words, pattern: str) :\n",
        "       #### very bad solution but works\n",
        "        # res = []\n",
        "        # for i in words:\n",
        "        #     hm = {}\n",
        "        #     match = True\n",
        "        #     if len(set(i)) == len(set(pattern)):\n",
        "        #         for w, p in zip(i, pattern):\n",
        "                    \n",
        "        #                 if p not in hm:\n",
        "        #                     hm[p] = w\n",
        "        #                 elif hm[p] != w:\n",
        "        #                     match = False\n",
        "        #                     break\n",
        "        #     else:\n",
        "        #         match = False\n",
        "        #     if match:\n",
        "        #         res.append(i)\n",
        "        # return res\n",
        "    return [word for word in words\n",
        "            \n",
        "            if len(word) == len(pattern) and\n",
        "            len(set(word)) == len(set(pattern)) and\n",
        "            len(set(zip(word, pattern))) == len(set(word))]\n",
        "findAndReplacePattern([\"abc\",\"deq\",\"mee\",\"aqq\",\"dkd\",\"ccc\"], \"abb\")"
      ]
    },
    {
      "cell_type": "markdown",
      "metadata": {},
      "source": [
        "## 1161. Maximum Level Sum of a Binary Tree\n"
      ]
    },
    {
      "cell_type": "code",
      "execution_count": 6,
      "metadata": {},
      "outputs": [
        {
          "data": {
            "text/plain": [
              "2"
            ]
          },
          "execution_count": 6,
          "metadata": {},
          "output_type": "execute_result"
        }
      ],
      "source": [
        "from collections import deque\n",
        "\n",
        "\n",
        "def maximum_level_sum_bt(node):\n",
        "    # using BFS\n",
        "    to_visit_stack = deque([node])   \n",
        "    max_sum = 0\n",
        "    max_level = 1 # root level is 1\n",
        "    level_sum = 0\n",
        "    level = 1\n",
        "\n",
        "    while to_visit_stack:\n",
        "        # visit each node\n",
        "        for _ in range(len(to_visit_stack)):\n",
        "            node = to_visit_stack.popleft() # first come first serve\n",
        "            level_sum += node.val\n",
        "            \n",
        "            if node.left:\n",
        "                to_visit_stack.appendleft(node.left)\n",
        "\n",
        "            if node.right:\n",
        "                to_visit_stack.appendleft(node.right)\n",
        "\n",
        "        if level_sum >max_sum:\n",
        "            max_level = level\n",
        "            max_sum = level_sum\n",
        "        level+=1\n",
        "    return max_level\n",
        "\n",
        "\n",
        "root = [1,7,0,7,-8,None, None]\n",
        "\n",
        "t = BinaryTree()\n",
        "for i in root:\n",
        "    t.insert(i)\n",
        "\n",
        "maximum_level_sum_bt(t.root)\n"
      ]
    },
    {
      "cell_type": "code",
      "execution_count": null,
      "metadata": {},
      "outputs": [],
      "source": []
    }
  ],
  "metadata": {
    "colab": {
      "provenance": []
    },
    "kernelspec": {
      "display_name": "Python 3",
      "name": "python3"
    },
    "language_info": {
      "codemirror_mode": {
        "name": "ipython",
        "version": 3
      },
      "file_extension": ".py",
      "mimetype": "text/x-python",
      "name": "python",
      "nbconvert_exporter": "python",
      "pygments_lexer": "ipython3",
      "version": "3.12.2"
    }
  },
  "nbformat": 4,
  "nbformat_minor": 0
}

{
 "cells": [
  {
   "cell_type": "code",
   "execution_count": 1,
   "metadata": {},
   "outputs": [],
   "source": [
    "class TreeNode:\n",
    "    def __init__(self, val):\n",
    "        self.val = val\n",
    "        self.left = None\n",
    "        self.right = None\n",
    "\n",
    "# Create a sample binary tree:\n",
    "#       1\n",
    "#      / \\\n",
    "#     2   3\n",
    "#    / \\\n",
    "#   4   5\n",
    "root = TreeNode(1)\n",
    "root.left = TreeNode(2)\n",
    "root.right = TreeNode(3)\n",
    "root.left.left = TreeNode(4)\n",
    "root.left.right = TreeNode(5)\n"
   ]
  },
  {
   "cell_type": "code",
   "execution_count": 27,
   "metadata": {},
   "outputs": [
    {
     "name": "stdout",
     "output_type": "stream",
     "text": [
      "[4, 2, 5, 1, 3]\n"
     ]
    }
   ],
   "source": [
    "def inorder(node, res=[]):\n",
    "    if not node:\n",
    "        return res\n",
    "    inorder(node.left, res)\n",
    "    res.append(node.val)\n",
    "    inorder(node.right, res)\n",
    "    return res\n",
    "\n",
    "print(inorder(root, []))\n",
    "            "
   ]
  },
  {
   "cell_type": "markdown",
   "metadata": {},
   "source": [
    "Given the root of a binary tree, determine if it is a valid binary search tree (BST).\n",
    "\n",
    "A valid BST is defined as follows:\n",
    "\n",
    "The left \n",
    "subtree\n",
    " of a node contains only nodes with keys less than the node's key.\n",
    "The right subtree of a node contains only nodes with keys greater than the node's key.\n",
    "Both the left and right subtrees must also be binary search trees."
   ]
  },
  {
   "cell_type": "code",
   "execution_count": 3,
   "metadata": {},
   "outputs": [
    {
     "name": "stdout",
     "output_type": "stream",
     "text": [
      "False\n"
     ]
    }
   ],
   "source": [
    "def isValidBST(root) -> bool:\n",
    "    \"\"\"\n",
    "    Determines if a binary tree is a valid Binary Search Tree (BST).\n",
    "\n",
    "    Args:\n",
    "        root: The root node of the binary tree.\n",
    "\n",
    "    Returns:\n",
    "        True if the tree is a valid BST, False otherwise.\n",
    "    \"\"\"\n",
    "\n",
    "    def helper(node, lower=float('-inf'), upper=float('inf')):\n",
    "        \"\"\"\n",
    "        Recursive helper function to check BST validity.\n",
    "\n",
    "        Args:\n",
    "            node: The current node being examined.\n",
    "            lower: The lower bound for the current node's allowed value.\n",
    "            upper: The upper bound for the current node's allowed value.\n",
    "\n",
    "        Returns:\n",
    "            True if the subtree rooted at 'node' is a valid BST, False otherwise.\n",
    "        \"\"\"\n",
    "\n",
    "        if not node:\n",
    "            # An empty subtree is always a valid BST\n",
    "            return True\n",
    "\n",
    "        val = node.val\n",
    "        if val <= lower or val >= upper:\n",
    "            # Current node's value violates BST property\n",
    "            return False\n",
    "\n",
    "        # Recursively check the right subtree (values must be greater than 'val')\n",
    "        if not helper(node.right, val, upper):\n",
    "            return False\n",
    "\n",
    "        # Recursively check the left subtree (values must be less than 'val')\n",
    "        if not helper(node.left, lower, val):\n",
    "            return False\n",
    "\n",
    "        # If we reach here, all conditions are met for a valid BST subtree\n",
    "        return True\n",
    "\n",
    "    # Start the validation process from the root of the tree\n",
    "    return helper(root)\n",
    "\n",
    "# Example usage (assuming you have a 'root' node of a binary tree defined)\n",
    "print(isValidBST(root)) \n"
   ]
  },
  {
   "cell_type": "code",
   "execution_count": 15,
   "metadata": {},
   "outputs": [
    {
     "data": {
      "text/plain": [
       "True"
      ]
     },
     "execution_count": 15,
     "metadata": {},
     "output_type": "execute_result"
    }
   ],
   "source": [
    "def leafSimilar(root1, root2) -> bool:    \n",
    "    def traverse(node, res):\n",
    "            if not node:\n",
    "                return                             \n",
    "            if node.left is None and node.right is None:\n",
    "                res.append(node.val)\n",
    "            traverse(node.left, res)\n",
    "            traverse(node.right, res)\n",
    "            # print(res)\n",
    "        \n",
    "    res1 = []\n",
    "    res2 = []\n",
    "    traverse(root1, res1)\n",
    "    traverse(root2, res2)\n",
    "    return res1 == res2\n",
    "\"\"\" 26ms\n",
    "def dfs(node):\n",
    "            if not node: return\n",
    "            if not node.left and not node.right: yield node.val\n",
    "            yield from dfs(node.left)\n",
    "            yield from dfs(node.right)\n",
    "\n",
    "        return list(dfs(root1)) == list(dfs(root2))\n",
    "\"\"\"\n",
    "leafSimilar(root, root)\n",
    "                \n",
    "                "
   ]
  },
  {
   "cell_type": "markdown",
   "metadata": {},
   "source": [
    "```python\n",
    "Given a binary tree root, a node X in the tree is named good if in the path from root to X there are no nodes with a value greater than X.\n",
    "\n",
    "Return the number of good nodes in the binary tree.\n",
    "Input: root = [3,1,4,3,null,1,5]\n",
    "Output: 4\n",
    "Explanation: Nodes in blue are good.\n",
    "Root Node (3) is always a good node.\n",
    "Node 4 -> (3,4) is the maximum value in the path starting from the root.\n",
    "Node 5 -> (3,4,5) is the maximum value in the path\n",
    "Node 3 -> (3,1,3) is the maximum value in the path.\n",
    "\n",
    "Example 3:\n",
    "\n",
    "Input: root = [1]\n",
    "Output: 1\n",
    "Explanation: Root is considered as good."
   ]
  },
  {
   "cell_type": "code",
   "execution_count": null,
   "metadata": {},
   "outputs": [],
   "source": [
    "def goodNodes(self, root: TreeNode) -> int:\n",
    "    if root:\n",
    "        lpath = [root.val]\n",
    "        rpath = [root.val]\n",
    "    \n",
    "    def findnode(node, path):\n",
    "        if not node:\n",
    "            return\n",
    "        if node.val >= max(path):\n",
    "            path.append(node.val)\n",
    "        else:\n",
    "            findnode(node.left, path)\n",
    "            \n",
    "            findnode(node.right, path)\n",
    "        \n",
    "            \n",
    "            \n",
    "        \n",
    "    return len(findnode(root, lpath)) + len(findnode(root, rpath))"
   ]
  },
  {
   "cell_type": "code",
   "execution_count": 4,
   "metadata": {},
   "outputs": [],
   "source": [
    "# Create a sample binary tree:\n",
    "#       1\n",
    "#      / \\\n",
    "#     2   3\n",
    "#    /     \n",
    "#   4       \n",
    "root = TreeNode(1)\n",
    "root.left = TreeNode(2)\n",
    "root.right = TreeNode(3)\n",
    "root.left.left = TreeNode(4)\n",
    "# root.right.right = TreeNode(5)\n"
   ]
  },
  {
   "cell_type": "markdown",
   "metadata": {},
   "source": [
    "```python\n",
    "Given the root of a binary tree, imagine yourself standing on the right side of it, return the values of the nodes you can see ordered from top to bottom.\n",
    "\n",
    "Input: root = [1,2,3,null,5,null,4]\n",
    "Output: [1,3,4]\n",
    "Example 2:\n",
    "\n",
    "Input: root = [1,null,3]\n",
    "Output: [1,3]"
   ]
  },
  {
   "cell_type": "code",
   "execution_count": 5,
   "metadata": {},
   "outputs": [
    {
     "data": {
      "text/plain": [
       "[1, 3, 2, 4]"
      ]
     },
     "execution_count": 5,
     "metadata": {},
     "output_type": "execute_result"
    }
   ],
   "source": [
    "from collections import deque\n",
    "def rightSideView(root):\n",
    "    res = []\n",
    "    \n",
    "    def dfs(node, level):\n",
    "        if not node:\n",
    "            return\n",
    "         # this is to prevent left node value getting stored in the result (a root node has two children left/right)\n",
    "        if len(res) == level:\n",
    "            res.append(node.val)\n",
    "        dfs(node.right, level+1)\n",
    "        dfs(node.left, level+1)\n",
    "    dfs(root, 0)\n",
    "    return res\n",
    "\n",
    "# USING BFS\n",
    "def rightSideView2(root):\n",
    "    if not root:\n",
    "        return []\n",
    "\n",
    "    result = []\n",
    "    queue = deque([root])\n",
    "\n",
    "    while queue:\n",
    "        level_length = len(queue)\n",
    "        for i in range(level_length):\n",
    "            node = queue.popleft()\n",
    "            if i == level_length - 1:  # rightmost element at each level\n",
    "                result.append(node.val)\n",
    "            if node.left:\n",
    "                queue.append(node.left)\n",
    "            if node.right:\n",
    "                queue.append(node.right)\n",
    "\n",
    "    return result\n",
    "\n",
    "rightSideView2(root)"
   ]
  },
  {
   "cell_type": "code",
   "execution_count": 2,
   "metadata": {},
   "outputs": [
    {
     "data": {
      "text/plain": [
       "(3, [1, 2])"
      ]
     },
     "execution_count": 2,
     "metadata": {},
     "output_type": "execute_result"
    }
   ],
   "source": [
    "c = [1,2,3]\n",
    "c.pop"
   ]
  },
  {
   "cell_type": "markdown",
   "metadata": {},
   "source": [
    "[Question?](https://leetcode.com/problems/maximum-level-sum-of-a-binary-tree/description/?envType=study-plan-v2&envId=leetcode-75)\n",
    "```python\n",
    "Given the root of a binary tree, the level of its root is 1, the level of its children is 2, and so on.\n",
    "Return the smallest level x such that the sum of all the values of nodes at level x is maximal.\n",
    "\n",
    "Input: root = [1,7,0,7,-8,null,null]\n",
    "Output: 2 Explanation:  Level 1 sum = 1. Level 2 sum = 7 + 0 = 7. Level 3 sum = 7 + -8 = -1.\n",
    "So we return the level with the maximum sum which is level 2.\n",
    "```"
   ]
  },
  {
   "cell_type": "code",
   "execution_count": 68,
   "metadata": {},
   "outputs": [],
   "source": [
    "# Create a sample binary tree:\n",
    "#       1\n",
    "#      / \\\n",
    "#     -1   0\n",
    "#    / \\    \n",
    "#   7   8    \n",
    "root = TreeNode(1)\n",
    "root.left = TreeNode(-1)\n",
    "root.right = TreeNode(0)\n",
    "root.left.left = TreeNode(7)\n",
    "root.left.right = TreeNode(8)"
   ]
  },
  {
   "cell_type": "code",
   "execution_count": 71,
   "metadata": {},
   "outputs": [
    {
     "data": {
      "text/plain": [
       "3"
      ]
     },
     "execution_count": 71,
     "metadata": {},
     "output_type": "execute_result"
    }
   ],
   "source": [
    "def maxLevelSum(root) -> int:\n",
    "    \"\"\"this function checks all the levels of a binary tree and returns the smallest level with max value\n",
    "\n",
    "    Args:\n",
    "        root: TreeNode\n",
    "    Returns:\n",
    "        int: level\n",
    "    \"\"\"\n",
    "    if not root:\n",
    "        return 0\n",
    "\n",
    "    queue = deque([root])\n",
    "    level = 1\n",
    "    min_level = 1\n",
    "    max_sum = float(\"-inf\")\n",
    "    \n",
    "    while queue:\n",
    "        level_sum = 0\n",
    "        level_size = len(queue)\n",
    "        \n",
    "        for _ in range(level_size):\n",
    "            node = queue.popleft()\n",
    "            level_sum += node.val\n",
    "            \n",
    "            if node.left:\n",
    "                queue.append(node.left)\n",
    "            if node.right:\n",
    "                queue.append(node.right)\n",
    "        \n",
    "        if level_sum > max_sum:\n",
    "            min_level = level\n",
    "            max_sum = level_sum\n",
    "        \n",
    "        level += 1\n",
    "\n",
    "    return min_level \n",
    "\n",
    "maxLevelSum(root)"
   ]
  },
  {
   "cell_type": "code",
   "execution_count": 6,
   "metadata": {},
   "outputs": [
    {
     "data": {
      "text/plain": [
       "-inf"
      ]
     },
     "execution_count": 6,
     "metadata": {},
     "output_type": "execute_result"
    }
   ],
   "source": [
    "float(\"-inf\")"
   ]
  },
  {
   "cell_type": "code",
   "execution_count": null,
   "metadata": {},
   "outputs": [],
   "source": []
  }
 ],
 "metadata": {
  "kernelspec": {
   "display_name": "base",
   "language": "python",
   "name": "python3"
  },
  "language_info": {
   "codemirror_mode": {
    "name": "ipython",
    "version": 3
   },
   "file_extension": ".py",
   "mimetype": "text/x-python",
   "name": "python",
   "nbconvert_exporter": "python",
   "pygments_lexer": "ipython3",
   "version": "3.11.4"
  }
 },
 "nbformat": 4,
 "nbformat_minor": 2
}

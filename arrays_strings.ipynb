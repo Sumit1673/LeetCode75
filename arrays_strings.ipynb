{
 "cells": [
  {
   "cell_type": "markdown",
   "metadata": {},
   "source": [
    "**Table of contents**<a id='toc0_'></a>    \n",
    "- [ARRAYS](#toc1_1_)    \n",
    "- [STRINGS](#toc1_2_)    \n",
    "  - [Merge strings alternatively](#toc1_2_1_)    \n",
    "  - [Greatest common divisor of strings](#toc1_2_2_)    \n",
    "  - [KIDS With greatest number of candies](#toc1_2_3_)    \n",
    "  - [Reverse a string without slicing](#toc1_2_4_)    \n",
    "  - [PALINDROME](#toc1_2_5_)    \n",
    "  - [CAN PLACE FLOWERS ](#toc1_2_6_)    \n",
    "  - [Reverse Vowels of a String](#toc1_2_7_)    \n",
    "  - [Reverse words in a string](#toc1_2_8_)    \n",
    "\n",
    "<!-- vscode-jupyter-toc-config\n",
    "\tnumbering=false\n",
    "\tanchor=true\n",
    "\tflat=false\n",
    "\tminLevel=1\n",
    "\tmaxLevel=6\n",
    "\t/vscode-jupyter-toc-config -->\n",
    "<!-- THIS CELL WILL BE REPLACED ON TOC UPDATE. DO NOT WRITE YOUR TEXT IN THIS CELL -->"
   ]
  },
  {
   "cell_type": "markdown",
   "metadata": {},
   "source": [
    "## <a id='toc1_1_'></a>[ARRAYS](#toc0_)"
   ]
  },
  {
   "cell_type": "code",
   "execution_count": 1,
   "metadata": {},
   "outputs": [],
   "source": [
    "class ResizableArrayList:\n",
    "    def __init__(self, size, datatype=None) -> None:\n",
    "        self.arr = [None]*size\n",
    "        self.new = None\n",
    "        self.arr_idx = 0\n",
    "    \n",
    "    def get_count_ofelements(self):\n",
    "        none_count = self.arr.count(None)\n",
    "        return len(self.arr) - none_count\n",
    "    \n",
    "    def add_elements(self, data):\n",
    "        if None in self.arr:            \n",
    "            self.arr[self.arr_idx] = data\n",
    "            self.arr_idx += 1\n",
    "            \n",
    "        else:\n",
    "            self.__resize_array()\n",
    "            self.arr[self.arr_idx] = data\n",
    "            return \n",
    "    \n",
    "    \n",
    "    def __repr__(self) -> str:\n",
    "        return f\"ResizableArrayList{self.arr}\"\n",
    "    \n",
    "    def __check_index(self, index):\n",
    "        if index >= len(self.arr):\n",
    "            return True\n",
    "        return False\n",
    "       \n",
    "    \n",
    "    def __getitem__(self, index):\n",
    "        if self.__check_index():\n",
    "            return self.arr[index] \n",
    "    \n",
    "    def __setitem__(self, index, data):\n",
    "        if index >= len(self.arr):\n",
    "            raise IndexError(\"Index out of range\")\n",
    "        if None in self.arr:          \n",
    "            self.arr[index] = data\n",
    "            \n",
    "        else:\n",
    "            self.__resize_array()\n",
    "            self.arr[index] = data\n",
    "        return \n",
    "    \n",
    "    def __resize_array(self):\n",
    "        # create an array double in size\n",
    "        self.new_arr = [None]*(2*len(self.arr))\n",
    "        # copy all the elements \n",
    "        for i, val in enumerate(self.arr):\n",
    "            self.new_arr[i] = val\n",
    "        self.arr = self.new_arr\n",
    "        \n",
    "        "
   ]
  },
  {
   "cell_type": "code",
   "execution_count": 4,
   "metadata": {},
   "outputs": [
    {
     "data": {
      "text/plain": [
       "ResizableArrayList[None, None, None, None, None, None, None, None, 0, None]"
      ]
     },
     "execution_count": 4,
     "metadata": {},
     "output_type": "execute_result"
    }
   ],
   "source": [
    "array = ResizableArrayList(10)\n",
    "array[8] = 0\n",
    "array"
   ]
  },
  {
   "cell_type": "markdown",
   "metadata": {},
   "source": [
    "### Product of Array Except Self\n",
    "```python\n",
    "Given an integer array nums, return an array answer such that answer[i] is equal to the product of all the elements of nums except nums[i].\n",
    "\n",
    "The product of any prefix or suffix of nums is guaranteed to fit in a 32-bit integer.\n",
    "\n",
    "You must write an algorithm that runs in O(n) time and without using the division operation.\n",
    "\n",
    " \n",
    "\n",
    "Example 1:\n",
    "\n",
    "Input: nums = [1,2,3,4]\n",
    "Output: [24,12,8,6]\n",
    "```"
   ]
  },
  {
   "cell_type": "code",
   "execution_count": 18,
   "metadata": {},
   "outputs": [
    {
     "name": "stdout",
     "output_type": "stream",
     "text": [
      "[24, 12, 8, 6]\n"
     ]
    }
   ],
   "source": [
    "def product_except_self(nums):\n",
    "    n = len(nums)\n",
    "    left_products = [1] * n\n",
    "    right_products = [1] * n\n",
    "    result = [0] * n\n",
    "    \n",
    "    # Calculate the product of elements to the left of each element\n",
    "    left_product = 1\n",
    "    for i in range(n):\n",
    "        left_products[i] = left_product\n",
    "        left_product *= nums[i]\n",
    "    \n",
    "    # Calculate the product of elements to the right of each element\n",
    "    right_product = 1\n",
    "    for i in range(n - 1, -1, -1):\n",
    "        right_products[i] = right_product\n",
    "        right_product *= nums[i]\n",
    "    \n",
    "    # Calculate the final result by multiplying left and right products\n",
    "    for i in range(n):\n",
    "        result[i] = left_products[i] * right_products[i]\n",
    "    \n",
    "    return result\n",
    "\n",
    "# Example usage\n",
    "nums = [1, 2, 3, 4]\n",
    "result = product_except_self(nums)\n",
    "print(result)  # Output: [24, 12, 8, 6]\n"
   ]
  },
  {
   "cell_type": "markdown",
   "metadata": {},
   "source": [
    "## <a id='toc1_2_'></a>[STRINGS](#toc0_)"
   ]
  },
  {
   "cell_type": "markdown",
   "metadata": {},
   "source": [
    "### <a id='toc1_2_1_'></a>[Merge strings alternatively](#toc0_)\n",
    "```python\n",
    "You are given two strings word1 and word2. Merge the strings by adding letters in alternating order, starting with word1. If a string is longer than the other, append the additional letters onto the end of the merged string.\n",
    "\n",
    "Return the merged string.\n",
    "\n",
    " \n",
    "\n",
    "Example 1:\n",
    "\n",
    "Input: word1 = \"abc\", word2 = \"pqr\"\n",
    "Output: \"apbqcr\"\n",
    "Explanation: The merged string will be merged as so:\n",
    "word1:  a   b   c\n",
    "word2:    p   q   r\n",
    "merged: a p b q c r\n",
    "Constraints:\n",
    "\n",
    "1 <= word1.length, word2.length <= 100\n",
    "word1 and word2 consist of lowercase English letters.\n",
    "```"
   ]
  },
  {
   "cell_type": "code",
   "execution_count": 29,
   "metadata": {},
   "outputs": [],
   "source": [
    "def mergeAlternately(word1: str, word2: str) -> str:\n",
    "\n",
    "    # TODO: type checking and checking for constraints if any\n",
    "    new_sen = \"\"\n",
    "    for i in range(min(len(word1), len(word2))):\n",
    "        new_sen += word1[i] + word2[i]     \n",
    "    \n",
    "    new_sen+=word1[i+1:] + word2[i+1:]\n",
    "    return new_sen"
   ]
  },
  {
   "cell_type": "code",
   "execution_count": 31,
   "metadata": {},
   "outputs": [
    {
     "data": {
      "text/plain": [
       "'apbqrs'"
      ]
     },
     "execution_count": 31,
     "metadata": {},
     "output_type": "execute_result"
    }
   ],
   "source": [
    "mergeAlternately(\"ab\", \"pqrs\")"
   ]
  },
  {
   "cell_type": "markdown",
   "metadata": {},
   "source": [
    "### <a id='toc1_2_2_'></a>[Greatest common divisor of strings](#toc0_)\n",
    "\n",
    "For two strings s and t, we say \"t divides s\" if and only if s = t + ... + t (i.e., t is concatenated with itself one or more times).\n",
    "\n",
    "Given two strings str1 and str2, return the largest string x such that x divides both str1 and str2.\n",
    "\n",
    "Example 1:\n",
    "\n",
    "Input: str1 = \"ABCABC\", str2 = \"ABC\"\n",
    "Output: \"ABC\"\n",
    "\n",
    "Example 2:\n",
    "\n",
    "Input: str1 = \"ABABAB\", str2 = \"ABAB\"\n",
    "Output: \"AB\"\n"
   ]
  },
  {
   "cell_type": "code",
   "execution_count": 69,
   "metadata": {},
   "outputs": [
    {
     "name": "stdout",
     "output_type": "stream",
     "text": [
      "ABABAB\n"
     ]
    }
   ],
   "source": [
    "def gcdOfStrings(str1, str2):\n",
    "    def gcd(a, b):\n",
    "        \"\"\"Calculation of GCD using Euclidean Algo\n",
    "        \"\"\"\n",
    "        while b:\n",
    "            # when b becomes 0 then a is completly divisble by b\n",
    "            # and we are left GCD i.e stored in a\n",
    "            a, b = b, a % b\n",
    "        return a\n",
    "    # concatenate the two strings in both orders (str1 + str2 and\n",
    "    # str2 + str1). If these concatenated strings are not equal,\n",
    "    # then there is no common divisor string,\n",
    "    if str1 + str2 != str2 + str1:\n",
    "        return \"\"\n",
    "    return str1[:gcd(len(str1), len(str2))]\n",
    "\n",
    "# Example usage\n",
    "str1 = \"ABABABABABAB\"\n",
    "str2 = \"ABABAB\"\n",
    "result = gcdOfStrings(str1, str2)\n",
    "print(result)  # Output: \"ABC\"\n"
   ]
  },
  {
   "cell_type": "markdown",
   "metadata": {},
   "source": [
    "### <a id='toc1_2_3_'></a>[KIDS With greatest number of candies](#toc0_)\n",
    "\n",
    "[Leetcode](https://leetcode.com/problems/kids-with-the-greatest-number-of-candies/?envType=study-plan-v2&envId=leetcode-75)\n",
    "There are n kids with candies. You are given an integer array candies, where each candies[i] represents the number of candies the ith kid has, and an integer extraCandies, denoting the number of extra candies that you have.\n",
    "\n",
    "Return a boolean array result of length n, where result[i] is true if, after giving the ith kid all the extraCandies, they will have the greatest number of candies among all the kids, or false otherwise.\n",
    "\n",
    "Note that multiple kids can have the greatest number of candies.\n",
    "\n",
    " \n",
    "\n",
    "Example 1:\n",
    "```python\n",
    "Input: candies = [2,3,5,1,3], extraCandies = 3\n",
    "Output: [true,true,true,false,true] \n",
    "```"
   ]
  },
  {
   "cell_type": "code",
   "execution_count": 5,
   "metadata": {},
   "outputs": [
    {
     "data": {
      "text/plain": [
       "[True, True, True, False, True]"
      ]
     },
     "execution_count": 5,
     "metadata": {},
     "output_type": "execute_result"
    }
   ],
   "source": [
    "def kidsWithCandies(candies, extraCandies):\n",
    "    max_can = max(candies)\n",
    "    new_candy_count = list(map(lambda x:(x+extraCandies)>=max_can, candies))\n",
    "    # print(new_candy_count)\n",
    "    return new_candy_count\n",
    "    \n",
    "kidsWithCandies([2,3,5,1,3], 3)"
   ]
  },
  {
   "cell_type": "markdown",
   "metadata": {},
   "source": [
    "### <a id='toc1_2_4_'></a>[Reverse a string without slicing](#toc0_)\n",
    "ABC = CBA"
   ]
  },
  {
   "cell_type": "code",
   "execution_count": 1,
   "metadata": {},
   "outputs": [
    {
     "name": "stdout",
     "output_type": "stream",
     "text": [
      "si yks eht\n"
     ]
    }
   ],
   "source": [
    "def reverse_string(input_str):\n",
    "    reversed_str = \"\"\n",
    "    for char in input_str:\n",
    "        reversed_str = char + reversed_str\n",
    "    return reversed_str\n",
    "\n",
    "# Example usage\n",
    "original_str = \"the sky is\"\n",
    "reversed_str = reverse_string(original_str)\n",
    "print(reversed_str)  # Outputs: \"!dlroW ,olleH\""
   ]
  },
  {
   "cell_type": "markdown",
   "metadata": {},
   "source": [
    "### <a id='toc1_2_5_'></a>[PALINDROME](#toc0_)"
   ]
  },
  {
   "cell_type": "code",
   "execution_count": 6,
   "metadata": {},
   "outputs": [
    {
     "name": "stdout",
     "output_type": "stream",
     "text": [
      "True\n"
     ]
    }
   ],
   "source": [
    "def palindrome(str1, str2):\n",
    "    if len(str1) != len(str2):\n",
    "        return False\n",
    "    \n",
    "    for i in range(len(str1)//2):\n",
    "        if str1[i] == str2[len(str2)-1 -i]:\n",
    "            return True\n",
    "        \n",
    "    return False\n",
    "\n",
    "# Example usage\n",
    "str1, str2 = \"sumit\", \"timus\"\n",
    "reversed_str = palindrome(str1, str2)\n",
    "print(reversed_str)"
   ]
  },
  {
   "cell_type": "markdown",
   "metadata": {},
   "source": [
    "### <a id='toc1_2_6_'></a>[CAN PLACE FLOWERS](https://leetcode.com/problems/can-place-flowers/?envType=study-plan-v2&envId=leetcode-75)  [&#8593;](#toc0_)\n",
    "\n",
    "You have a long flowerbed in which some of the plots are planted, and some are not. However, flowers cannot be planted in adjacent plots.\n",
    "\n",
    "Given an integer array flowerbed containing 0's and 1's, where 0 means empty and 1 means not empty, and an integer n, return true if n new flowers can be planted in the flowerbed without violating the no-adjacent-flowers rule and false otherwise.\n",
    "\n",
    " \n",
    "\n",
    "Example 1:\n",
    "```python\n",
    "Input: flowerbed = [1,0,0,0,1], n = 1\n",
    "Output: true\n",
    "```"
   ]
  },
  {
   "cell_type": "code",
   "execution_count": 16,
   "metadata": {},
   "outputs": [
    {
     "name": "stdout",
     "output_type": "stream",
     "text": [
      "False\n"
     ]
    }
   ],
   "source": [
    "from typing import *\n",
    "\n",
    "def canPlaceFlowers(flowerbed: List[int], n: int) -> bool:\n",
    "    count = 0\n",
    "    i = 0\n",
    "\n",
    "    while i < len(flowerbed):\n",
    "        if flowerbed[i] == 0:\n",
    "            if i == 0 or flowerbed[i - 1] == 0:\n",
    "                if i == len(flowerbed) - 1 or flowerbed[i + 1] == 0:\n",
    "                    flowerbed[i] = 1\n",
    "                    n-=1\n",
    "                    if n ==0:\n",
    "                        return True\n",
    "        i += 1\n",
    "\n",
    "    return False\n",
    "         \n",
    "            \n",
    "flowerbed = [1, 0, 0, 0, 1]\n",
    "n = 2\n",
    "result = canPlaceFlowers(flowerbed, n)\n",
    "print(result)       "
   ]
  },
  {
   "cell_type": "markdown",
   "metadata": {},
   "source": [
    "### <a id='toc1_2_7_'></a>[Reverse Vowels of a String](#toc0_)\n",
    "\n",
    "Given a string s, reverse only all the vowels in the string and return it.\n",
    "\n",
    "The vowels are 'a', 'e', 'i', 'o', and 'u', and they can appear in both lower and upper cases, more than once. \n",
    "\n",
    "Example 1:\n",
    "```python\n",
    "Input: s = \"hello\"\n",
    "Output: \"holle\"\n",
    "```\n"
   ]
  },
  {
   "cell_type": "code",
   "execution_count": 36,
   "metadata": {},
   "outputs": [
    {
     "data": {
      "text/plain": [
       "'leotcede'"
      ]
     },
     "execution_count": 36,
     "metadata": {},
     "output_type": "execute_result"
    }
   ],
   "source": [
    "def replace(str_list, start, end):\n",
    "    str_list[start], str_list[end] = str_list[end], str_list[start]\n",
    "    return str_list\n",
    "\n",
    "def reverseVowels(s: str) -> str:\n",
    "    if len(s) ==1:\n",
    "        return s\n",
    "    s = list(s)\n",
    "    vowel = \"aeiouAEIOU\"\n",
    "    start, end = 0, len(s)-1\n",
    "    \n",
    "    while start < end:\n",
    "        if s[start] in vowel and s[end] in vowel:\n",
    "            s = replace(s, start, end)\n",
    "            start += 1\n",
    "            end -= 1\n",
    "        elif s[start] not in vowel and s[end] in vowel:\n",
    "            start += 1\n",
    "            \n",
    "        elif s[start] in vowel and s[end] not in vowel:\n",
    "            end -= 1\n",
    "        else:            \n",
    "            start += 1\n",
    "            end -= 1\n",
    "        \n",
    "    return \"\".join(s)\n",
    "            \n",
    "reverseVowels(\"leetcode\")"
   ]
  },
  {
   "cell_type": "markdown",
   "metadata": {},
   "source": [
    "### <a id='toc1_2_8_'></a>[Reverse words in a string](#toc0_)\n",
    "\n",
    "Remove whitespaces if any\n",
    "\n",
    "Example 1:\n",
    "```python\n",
    "Input: s = \"the sky is blue\"\n",
    "Output: \"blue is sky the\"\n",
    "```"
   ]
  },
  {
   "cell_type": "code",
   "execution_count": 2,
   "metadata": {},
   "outputs": [
    {
     "name": "stdout",
     "output_type": "stream",
     "text": [
      "world hello\n"
     ]
    }
   ],
   "source": [
    "def reverseWords(s: str) -> str:\n",
    "    res = []\n",
    "    temp = \"\"\n",
    "    for c in s:\n",
    "        if c != \" \":\n",
    "            temp += c # add letters when no space\n",
    "        elif temp != \"\": # checks if temp is filled\n",
    "            res.append(temp)\n",
    "            temp = \"\"\n",
    "    if temp != \"\": # if anything is left to add to the res\n",
    "        res.append(temp)\n",
    "    return \" \".join(res[::-1])\n",
    "        \n",
    "    \n",
    "    # s = s.split()\n",
    "    # print(\"s = \", s)\n",
    "    # reversed_word = \"\"\n",
    "    # for word in s:\n",
    "    #     if word != \"\":\n",
    "    #         reversed_word = word +\" \"+ reversed_word\n",
    "    # return ''.join(reversed_word)\n",
    "    \n",
    "# Example usage\n",
    "original_word = \"  hello world  \"\n",
    "reversed_word = reverseWords(original_word)\n",
    "print(reversed_word)  # Outputs: \"!dlroW ,olleH\""
   ]
  },
  {
   "cell_type": "markdown",
   "metadata": {},
   "source": [
    "### [Product of Array Except Self](https://www.youtube.com/watch?v=bNvIQI2wAjk&ab_channel=NeetCode)\n",
    "\n",
    "Given an integer array nums, return an array answer such that answer[i] is equal to the product of all the elements of nums except nums[i].\n",
    "\n",
    "The product of any prefix or suffix of nums is guaranteed to fit in a 32-bit integer.\n",
    "\n",
    "You must write an algorithm that runs in O(n) time and without using the division operation.\n",
    "\n",
    "Example 1:\n",
    "```python\n",
    "Input: nums = [1,2,3,4]\n",
    "\n",
    "Output: [24,12,8,6]\n",
    "```"
   ]
  },
  {
   "cell_type": "code",
   "execution_count": 36,
   "metadata": {},
   "outputs": [
    {
     "data": {
      "text/plain": [
       "[24, 12, 8, 6]"
      ]
     },
     "execution_count": 36,
     "metadata": {},
     "output_type": "execute_result"
    }
   ],
   "source": [
    "def productExceptSelf( nums: List[int]) -> List[int]:\n",
    "    length=len(nums)\n",
    "    sol=[1]*length\n",
    "    pre = 1\n",
    "    post = 1\n",
    "    \n",
    "    # first we store all the prefix value in the result\n",
    "    for i in range(length):\n",
    "        sol[i] = pre\n",
    "        # this prefix value is for the next iteration because \n",
    "        # we sol[i] is calculated with the current index i value\n",
    "        pre *= nums[i] \n",
    "        \n",
    "    # since prefix value were already present in the result\n",
    "    # we will multiply the post value with the result to get the\n",
    "    # prodyct of all the elements before and after index i excluding i itself\n",
    "    for i in range(length-1, -1, -1):\n",
    "        # multiplying the prefix value with the post value\n",
    "        sol[i] *= post\n",
    "        post *= nums[i]\n",
    "    \n",
    "    return sol\n",
    "\n",
    "productExceptSelf([1,2,3,4])"
   ]
  },
  {
   "cell_type": "markdown",
   "metadata": {},
   "source": [
    "### Increasing Triplet Subsequence\n",
    "\n",
    "```python\n",
    "Given an integer array nums, return true if there exists a triple of indices (i, j, k) such that i < j < k and nums[i] < nums[j] < nums[k]. If no such indices exists, return false.\n",
    "\n",
    "\n",
    "Example 1:\n",
    "\n",
    "Input: nums = [1,2,3,4,5]\n",
    "Output: true\n",
    "Explanation: Any triplet where i < j < k is valid.\n",
    "```"
   ]
  },
  {
   "cell_type": "code",
   "execution_count": 7,
   "metadata": {},
   "outputs": [
    {
     "data": {
      "text/plain": [
       "True"
      ]
     },
     "execution_count": 7,
     "metadata": {},
     "output_type": "execute_result"
    }
   ],
   "source": [
    "def increasingTriplet(nums) -> bool:\n",
    "    first_min = float('inf')\n",
    "    second_min = float('inf')\n",
    "\n",
    "    for num in nums:\n",
    "        if num <= first_min:\n",
    "            first_min = num\n",
    "        elif num <= second_min:\n",
    "            second_min = num\n",
    "        else:\n",
    "            return True\n",
    "\n",
    "    return False\n",
    "\n",
    "increasingTriplet([20,100,10,12,5,13])\n",
    "        \n",
    "        \n",
    "        "
   ]
  },
  {
   "cell_type": "markdown",
   "metadata": {},
   "source": [
    "### String Compression\n",
    "\n",
    "```python\n",
    "Given an array of characters chars, compress it using the following algorithm:\n",
    "\n",
    "Begin with an empty string s. For each group of consecutive repeating characters in chars:\n",
    "\n",
    "If the group's length is 1, append the character to s.\n",
    "Otherwise, append the character followed by the group's length.\n",
    "The compressed string s should not be returned separately, but instead, be stored in the input character array chars. Note that group lengths that are 10 or longer will be split into multiple characters in chars.\n",
    "\n",
    "After you are done modifying the input array, return the new length of the array.\n",
    "\n",
    "You must write an algorithm that uses only constant extra space.\n",
    "\n",
    " \n",
    "\n",
    "Example 1:\n",
    "\n",
    "Input: chars = [\"a\",\"a\",\"b\",\"b\",\"c\",\"c\",\"c\"]\n",
    "Output: Return 6, and the first 6 characters of the input array should be: [\"a\",\"2\",\"b\",\"2\",\"c\",\"3\"]\n",
    "Explanation: The groups are \"aa\", \"bb\", and \"ccc\". This compresses to \"a2b2c3\".\n",
    "\n",
    "\n",
    "\n",
    "\n",
    "```"
   ]
  },
  {
   "cell_type": "code",
   "execution_count": 71,
   "metadata": {},
   "outputs": [
    {
     "name": "stdout",
     "output_type": "stream",
     "text": [
      "['a', '2', 'b', '2', 'c', '3']\n"
     ]
    }
   ],
   "source": [
    "# chars = [\"a\",\"a\",\"b\",\"b\",\"b\",\"b\",\"b\",\"b\",\"b\",\"b\",\"b\",\"b\",\"b\"]\n",
    "chars = [\"a\",\"a\",\"b\",\"b\",\"c\",\"c\",\"c\"]\n",
    "seq= {}\n",
    "for i in chars:\n",
    "    if i in seq:\n",
    "        seq[i] += 1\n",
    "    else:\n",
    "        seq[i] = 1\n",
    "    \n",
    "out =[]\n",
    "\n",
    "for i,v in seq.items():\n",
    "    # if v ==1:\n",
    "    #     out += i\n",
    "    # else:    \n",
    "    out.append(i)\n",
    "    if v == 1:\n",
    "        continue\n",
    "    out.append(str(v))\n",
    "print(out)\n",
    "    "
   ]
  },
  {
   "cell_type": "code",
   "execution_count": 72,
   "metadata": {},
   "outputs": [
    {
     "data": {
      "text/plain": [
       "(4, ['a', 'b', '1', '1', 'b', 'b', 'b', 'b', 'b', 'b', 'b', 'b'])"
      ]
     },
     "execution_count": 72,
     "metadata": {},
     "output_type": "execute_result"
    }
   ],
   "source": [
    "def compress(chars):\n",
    "    length = len(chars)\n",
    "\n",
    "    # make it a bit faster\n",
    "    if length < 2:\n",
    "        return length\n",
    "\n",
    "    # the start position of the contiguous group of characters we are currently reading.\n",
    "    anchor = 0\n",
    "\n",
    "    # position to Write Next\n",
    "    # we start with 0 then increase it whenever we write to the array\n",
    "    write = 0\n",
    "\n",
    "    # we go through each caharcter till we fiand a pos where the next is not equal to it\n",
    "    # then we check if it has appeared more than once using the anchor and r(read) pointers\n",
    "    # 1. iterate till we find a diffrent char\n",
    "    # 2. record the no. of times the current char was repeated\n",
    "    for pos, char in enumerate(chars):\n",
    "\n",
    "        # check if we have reached the end or a different char\n",
    "        # check if we are end or the next char != the current\n",
    "        if (pos + 1) == length or char != chars[pos+1]:\n",
    "            chars[write] = char\n",
    "            write += 1\n",
    "\n",
    "            # check if char has been repeated\n",
    "            # have been duplicated if the read pointer is ahead of the anchor pointer\n",
    "            if pos > anchor:\n",
    "                # check no. of times char has been repeated\n",
    "                repeated_times = pos - anchor + 1\n",
    "\n",
    "                # write the number\n",
    "                for num in str(repeated_times):\n",
    "                    chars[write] = num\n",
    "                    write += 1\n",
    "\n",
    "            # move the anchor to the next char in the iteration\n",
    "            anchor = pos + 1\n",
    "\n",
    "    return write, chars\n",
    "\n",
    "chars = chars = [\"a\",\"b\",\"b\",\"b\",\"b\",\"b\",\"b\",\"b\",\"b\",\"b\",\"b\",\"b\"]\n",
    "compress(chars)"
   ]
  },
  {
   "cell_type": "code",
   "execution_count": 1,
   "metadata": {},
   "outputs": [
    {
     "ename": "IndexError",
     "evalue": "list index out of range",
     "output_type": "error",
     "traceback": [
      "\u001b[0;31m---------------------------------------------------------------------------\u001b[0m",
      "\u001b[0;31mIndexError\u001b[0m                                Traceback (most recent call last)",
      "Cell \u001b[0;32mIn[1], line 9\u001b[0m\n\u001b[1;32m      7\u001b[0m     res_dict \u001b[39m=\u001b[39m {}\n\u001b[1;32m      8\u001b[0m     \u001b[39mfor\u001b[39;00m j \u001b[39min\u001b[39;00m \u001b[39mrange\u001b[39m(\u001b[39mlen\u001b[39m(cols)):\n\u001b[0;32m----> 9\u001b[0m         res_dict[cols[j]] \u001b[39m=\u001b[39m records[j][i]\n\u001b[1;32m     10\u001b[0m     res\u001b[39m.\u001b[39mappend(res_dict)\n\u001b[1;32m     11\u001b[0m \u001b[39mprint\u001b[39m(res)\n",
      "\u001b[0;31mIndexError\u001b[0m: list index out of range"
     ]
    }
   ],
   "source": [
    "table = ([\"x\", \"y\", \"z\"], [[1,2,3],[3,4,5],[6,7,8], [1,2,3],[3,4,5],[6,7,8]])\n",
    "cols = table[0]\n",
    "records = table[1]\n",
    "\n",
    "res = []\n",
    "for i in range(len(records)):\n",
    "    res_dict = {}\n",
    "    for j in range(len(cols)):\n",
    "        res_dict[cols[j]] = records[j][i]\n",
    "    res.append(res_dict)\n",
    "print(res)"
   ]
  },
  {
   "cell_type": "code",
   "execution_count": null,
   "metadata": {},
   "outputs": [],
   "source": []
  }
 ],
 "metadata": {
  "kernelspec": {
   "display_name": "Python 3",
   "language": "python",
   "name": "python3"
  },
  "language_info": {
   "codemirror_mode": {
    "name": "ipython",
    "version": 3
   },
   "file_extension": ".py",
   "mimetype": "text/x-python",
   "name": "python",
   "nbconvert_exporter": "python",
   "pygments_lexer": "ipython3",
   "version": "3.11.4"
  },
  "orig_nbformat": 4
 },
 "nbformat": 4,
 "nbformat_minor": 2
}

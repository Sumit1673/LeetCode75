{
 "cells": [
  {
   "cell_type": "code",
   "execution_count": 1,
   "metadata": {},
   "outputs": [
    {
     "name": "stdout",
     "output_type": "stream",
     "text": [
      "[[1], [1, 1], [1, 2, 1], [1, 3, 3, 1], [1, 4, 6, 4, 1]]\n"
     ]
    }
   ],
   "source": [
    "from typing import *\n",
    "\n",
    "\n",
    "def generate(numRows: int) -> List[List[int]]:\n",
    "    res = [[1]]\n",
    "    for _ in range(numRows-1):\n",
    "        temp = [0] + res[-1] + [0]\n",
    "        res.append(list(map(lambda j: temp[j] + temp[j+1], range(len(res[-1])+1))))\n",
    "        # for j in range(len(res[-1]) + 1):\n",
    "        #     row.append(temp[j] + temp[j+1])\n",
    "        # res.append(row)\n",
    "            \n",
    "    return res\n",
    "print(generate(5))"
   ]
  },
  {
   "cell_type": "code",
   "execution_count": 12,
   "metadata": {},
   "outputs": [
    {
     "data": {
      "text/plain": [
       "2"
      ]
     },
     "execution_count": 12,
     "metadata": {},
     "output_type": "execute_result"
    }
   ],
   "source": [
    "def minimumDifference(nums: List[int], k: int) -> int:\n",
    "    # Time complexity = nlogn => n -for loop , nlogn = sorting\n",
    "    # SLiding window\n",
    "    nums.sort()\n",
    "    l, r = 0, k-1 # because the array is 0 indexed and len of the window is k, so 0 to k-1\n",
    "    res = float(\"inf\")\n",
    "    \n",
    "    while r < len(nums): # boundary condition for the window\n",
    "        res = min(res, nums[r] - nums[l])\n",
    "        l,r = l+1, r+1\n",
    "    return res\n",
    "        \n",
    "    \n",
    "nums = [9,4,1,7]\n",
    "k = 3\n",
    "minimumDifference(nums, 2)"
   ]
  },
  {
   "cell_type": "markdown",
   "metadata": {},
   "source": [
    "### FIND CENTER OF STAR GRAPH\n",
    "```python\n",
    "There is an undirected star graph consisting of n nodes labeled from 1 to n.\n",
    "A star graph is a graph where there is one center node and exactly n - 1 edges that connect the center node with every other node.\n",
    "\n",
    "You are given a 2D integer array edges where each edges[i] = [ui, vi] indicates that there is an edge between the nodes ui and vi. Return the center of the given star graph\n",
    "\n",
    "HINT: Since it is mentioned that it is a STAR graph, that means centre node will be common to all the edges. So, we can just check the first two edges and return the common node.\n",
    "```"
   ]
  },
  {
   "cell_type": "code",
   "execution_count": 22,
   "metadata": {},
   "outputs": [
    {
     "data": {
      "text/plain": [
       "2"
      ]
     },
     "execution_count": 22,
     "metadata": {},
     "output_type": "execute_result"
    }
   ],
   "source": [
    "def findCenter(edges: List[List[int]]) -> int:\n",
    "    # FOR STAR GRAPH\n",
    "    \n",
    "    if edges[0][0] == edges[0][1] or edges[0][0] == edges[1][1]:\n",
    "        return edges[0][0]\n",
    "    else:\n",
    "        return edges[0][1]\n",
    "    \n",
    "    # BELOW SOLUTIONS IS FOR NON-START GRAPH\n",
    "    # centre = {}\n",
    "    # for i in range(len(edges)):\n",
    "    #     for j in range(i+1, len(edges)):\n",
    "    #         c = list(set(edges[i]) & set(edges[j]))[0]\n",
    "    #         if c in centre:\n",
    "    #             centre[c] += 1\n",
    "    #         else:\n",
    "    #             centre[c] = 1\n",
    "    \n",
    "    # return max(centre, key=centre.get)\n",
    "    # 2nd method\n",
    "    # l, r = 0, 1\n",
    "    # centre = {}\n",
    "    # while r < len(edges):\n",
    "    #     c = list(set(edges[l]) & set(edges[r]))[0]\n",
    "    #     if c in centre:\n",
    "    #         centre[c] += 1\n",
    "    #     else:\n",
    "    #         centre[c] = 1\n",
    "    #     l, r = l+1, r+1\n",
    "    # return max(centre, key=centre.get)\n",
    "    \n",
    "    #3rd method\n",
    "    # l, r = 0, 1\n",
    "    # centre = set()\n",
    "    # while r < len(edges):\n",
    "    #     centre.add(list(set(edges[l]) & set(edges[r]))[0])\n",
    "    #     l, r = l+1, r+1\n",
    "        \n",
    "    \n",
    "    return list(centre)[0]\n",
    " \n",
    "    \n",
    "edges = [[1,2],[2,3],[4,2]]\n",
    "findCenter(edges)"
   ]
  },
  {
   "cell_type": "markdown",
   "metadata": {},
   "source": [
    "#### Check if Array Is Sorted and Rotated\n",
    "\n",
    "```python\n",
    "Given an array nums, return true if the array was originally sorted in non-decreasing order,\n",
    "then rotated some number of positions (including zero). Otherwise, return false.\n",
    "\n",
    "There may be duplicates in the original array.\n",
    "\n",
    "Note: An array A rotated by x positions results in an array B of the same length such that A[i] == B[(i+x) % A.length], where % is the modulo operation.\n",
    "\n",
    "Example 1:\n",
    "\n",
    "Input: nums = [3,4,5,1,2]\n",
    "Output: true\n",
    "Explanation: [1,2,3,4,5] is the original sorted array.\n",
    "You can rotate the array by x = 3 positions to begin on the the element of value 3: [3,4,5,1,2].\n",
    "Example 2:\n",
    "\n",
    "Input: nums = [2,1,3,4]\n",
    "Output: false\n",
    "Explanation: There is no sorted array once rotated that can make nums.\n",
    "\n",
    "```"
   ]
  },
  {
   "cell_type": "code",
   "execution_count": 26,
   "metadata": {},
   "outputs": [
    {
     "data": {
      "text/plain": [
       "True"
      ]
     },
     "execution_count": 26,
     "metadata": {},
     "output_type": "execute_result"
    }
   ],
   "source": [
    "A = [1,2,3,4,5]\n",
    "b = [3,4,5,1,2]\n",
    "A[0] == b[(0+3) % len(A)]"
   ]
  },
  {
   "cell_type": "code",
   "execution_count": 43,
   "metadata": {},
   "outputs": [
    {
     "name": "stdout",
     "output_type": "stream",
     "text": [
      "[3, 4, 5, 1, 2]\n",
      "[4, 5, 1, 2, 3]\n",
      "[5, 1, 2, 3, 4]\n",
      "[1, 2, 3, 4, 5]\n"
     ]
    },
    {
     "data": {
      "text/plain": [
       "True"
      ]
     },
     "execution_count": 43,
     "metadata": {},
     "output_type": "execute_result"
    }
   ],
   "source": [
    "def sorted_rotated(nums: List[int]) -> bool:\n",
    "    count  = 0\n",
    "    # if array in ascending order --> already sorted return True\n",
    "    # also it will give us the position from where the array was rotated\n",
    "    for i in range(0, len(nums)-1):\n",
    "        if nums[i] > nums[i + 1]:\n",
    "            count+=1\n",
    "    # now we know the array is rotated\n",
    "    # after finding the break point, we need to make sure that it is roated\n",
    "    # and we do that by comparing the last element of the given array with the\n",
    "    # the first element.\n",
    "    # Ex: [3,4,5,1,2], after 5 its started dec i.e. this is the point from where the array is rotated\n",
    "    # and to make it sure that if we rotate this array again and it will be sorted, just compare last and\n",
    "    # the first element. Last element should be less than the first. https://www.youtube.com/watch?v=e22ns5G0qKY&ab_channel=CodersCamp\n",
    "    \n",
    "    if count > 1 or (count == 1 and nums[0] < nums[len(nums)-1]):\n",
    "        return False\n",
    "    \n",
    "    return True\n",
    "nums = [3,4,5,1,2]\n",
    "sorted_rotated(nums)\n"
   ]
  },
  {
   "cell_type": "code",
   "execution_count": 54,
   "metadata": {},
   "outputs": [
    {
     "data": {
      "text/plain": [
       "3"
      ]
     },
     "execution_count": 54,
     "metadata": {},
     "output_type": "execute_result"
    }
   ],
   "source": [
    "from collections import defaultdict\n",
    "from typing import List\n",
    "\n",
    "def repeatedNTimes(nums: List[int]) -> int:\n",
    "    count = defaultdict(int)\n",
    "    \n",
    "    for num in nums:\n",
    "        count[num] += 1\n",
    "\n",
    "    return max(count, key=count.get)\n",
    "\n",
    "    \"\"\"\n",
    "    set1 = set()\n",
    "    for i in nums :\n",
    "        if i in set1 :\n",
    "            return i\n",
    "        else :\n",
    "            set1.add(i)\n",
    "    \"\"\"\n",
    "\n",
    "repeatedNTimes(nums)"
   ]
  },
  {
   "cell_type": "markdown",
   "metadata": {},
   "source": [
    "```python\n",
    "Given two strings first and second, consider occurrences in some text of the form \"first second third\", where second comes immediately after first, and third comes immediately after second.\n",
    "\n",
    "Return an array of all the words third for each occurrence of \"first second third\".\n",
    "\n",
    " Example 1:\n",
    "\n",
    "Input: text = \"alice is a good girl she is a good student\", first = \"a\", second = \"good\"\n",
    "Output: [\"girl\",\"student\"]\n",
    "Example 2:\n",
    "\n",
    "Input: text = \"we will we will rock you\", first = \"we\", second = \"will\"\n",
    "Output: [\"we\",\"rock\"]\n",
    " \n",
    "```\n"
   ]
  },
  {
   "cell_type": "code",
   "execution_count": 60,
   "metadata": {},
   "outputs": [
    {
     "data": {
      "text/plain": [
       "['we', 'rock']"
      ]
     },
     "execution_count": 60,
     "metadata": {},
     "output_type": "execute_result"
    }
   ],
   "source": [
    "def findOcurrences(text: str, first: str, second: str) -> List[str]:\n",
    "        text = text.split()\n",
    "        l,r = 0, 2\n",
    "        res= []\n",
    "        while r < len(text):\n",
    "            if text[l:r] == [first, second]:\n",
    "                res.append(text[r])\n",
    "            l,r = l+1, r+1\n",
    "        return res\n",
    "\n",
    "text = \"we will we will rock you\"\n",
    "first = \"we\"\n",
    "second = \"will\"\n",
    "findOcurrences(text, first, second)\n"
   ]
  },
  {
   "cell_type": "code",
   "execution_count": 67,
   "metadata": {},
   "outputs": [],
   "source": [
    "def moveZeroes(nums: List[int]) -> None:\n",
    "    \"\"\"\n",
    "    Do not return anything, modify nums in-place instead.\n",
    "    \"\"\"\n",
    "    slow = 0\n",
    "    for fast in range(len(nums)):\n",
    "        # swap if a non zero element is found at fast location\n",
    "        if nums[fast] != 0 and nums[slow] == 0:\n",
    "            nums[slow], nums[fast] = nums[fast], nums[slow]\n",
    "\n",
    "        # if the new element at slow is non-zero we dont want it to be swapped\n",
    "        # so we increment it tomaintain the order\n",
    "        if nums[slow] != 0:\n",
    "            slow += 1\n",
    "moveZeroes([0,1,0,3,12])\n",
    "    "
   ]
  },
  {
   "cell_type": "code",
   "execution_count": 80,
   "metadata": {},
   "outputs": [
    {
     "name": "stdout",
     "output_type": "stream",
     "text": [
      "3\n"
     ]
    }
   ],
   "source": [
    "def count_ways_to_remove_digit(s, t):\n",
    "    count = 0\n",
    "    n, m = len(s), len(t)\n",
    "    i, j = 0, 0\n",
    "\n",
    "    while i < n and j < m:\n",
    "        if s[i].isdigit() or t[j].isdigit():\n",
    "            if s[i].isdigit() and t[j].isdigit():\n",
    "                # Option 1: Remove digit from s and compare\n",
    "                count += int(s[:i] + s[i+1:] < t)\n",
    "                # Option 2: Remove digit from t and compare\n",
    "                count += int(s < t[:j] + t[j+1:])\n",
    "            elif s[i].isdigit():\n",
    "                # Option 1: Remove digit from s and compare\n",
    "                count += int(s[:i] + s[i+1:] < t)\n",
    "                if s[i] == '0':\n",
    "                    break  # Avoid leading zeros in s\n",
    "            elif t[j].isdigit():\n",
    "                # Option 2: Remove digit from t and compare\n",
    "                count += int(s < t[:j] + t[j+1:])\n",
    "                if t[j] == '0':\n",
    "                    break  # Avoid leading zeros in t\n",
    "            i += 1\n",
    "            j += 1\n",
    "        else:\n",
    "            # Both characters are letters, compare them\n",
    "            if s[i] < t[j]:\n",
    "                return count\n",
    "            elif s[i] > t[j]:\n",
    "                return count\n",
    "            i += 1\n",
    "            j += 1\n",
    "\n",
    "    # If we reached the end of one string, compare the lengths\n",
    "    if i == n and j < m and not t[j].isdigit():\n",
    "        return count \n",
    "    elif i < n and j == m and not s[i].isdigit():\n",
    "        return count\n",
    "\n",
    "    return count\n",
    "\n",
    "# Example usage:\n",
    "s = \"ab12c\"\n",
    "t = \"ab24z\"\n",
    "result = count_ways_to_remove_digit(s, t)\n",
    "print(result)  # Output: 4\n"
   ]
  },
  {
   "cell_type": "code",
   "execution_count": 78,
   "metadata": {},
   "outputs": [
    {
     "name": "stdout",
     "output_type": "stream",
     "text": [
      "1\n"
     ]
    }
   ],
   "source": [
    "def count_ways_to_remove_digit(s, t):\n",
    "    # Initialize a variable to keep track of the count of valid removals\n",
    "    count = 0\n",
    "    \n",
    "    # Iterate through both strings simultaneously\n",
    "    for i in range(min(len(s), len(t))):\n",
    "        # If the characters at the current position are different\n",
    "        if s[i] != t[i]:\n",
    "            # If s[i] is a digit and it's greater than t[i]\n",
    "            if s[i].isdigit() and s[i] > t[i]:\n",
    "                count += 1\n",
    "                break  # No need to continue checking\n",
    "            # If t[i] is a digit and it's greater than s[i]\n",
    "            elif t[i].isdigit() and t[i] > s[i]:\n",
    "                count += 1\n",
    "                break  # No need to continue checking\n",
    "    \n",
    "    # If both strings are identical up to this point and one of them is longer\n",
    "    # We can remove a digit from the longer string\n",
    "    if count == 0 and len(s) != len(t):\n",
    "        count += 1\n",
    "    \n",
    "    return count\n",
    "\n",
    "s = \"ab12c\"\n",
    "t = \"ab24z\"\n",
    "result = count_ways_to_remove_digit(s, t)\n",
    "print(result)  # Output: 4\n"
   ]
  },
  {
   "cell_type": "code",
   "execution_count": 84,
   "metadata": {},
   "outputs": [
    {
     "data": {
      "text/plain": [
       "3"
      ]
     },
     "execution_count": 84,
     "metadata": {},
     "output_type": "execute_result"
    }
   ],
   "source": [
    "def solution(s, t):\n",
    "    counter = 0\n",
    "    len_s, len_t = len(s), len(t)\n",
    "    \n",
    "    for I in range(len_s):\n",
    "        if s[I].isdigit():\n",
    "            temp = s[:I] + s[I+1:]  # Remove the digit from s\n",
    "            if temp < t:\n",
    "                counter += 1\n",
    "        elif len_s <= I : \n",
    "            break  # Break the loop if a non-digit character in s has a higher ASCII value than the corresponding character in t\n",
    "\n",
    "    for I in range(len_t):\n",
    "        if t[I].isdigit():\n",
    "            temp = t[:I] + t[I+1:]  # Remove the digit from t\n",
    "            if s < temp:\n",
    "                counter += 1\n",
    "        elif len_t <= I : \n",
    "            break  # Break the loop if a non-digit character in s has a higher ASCII value than the corresponding character in t\n",
    "\n",
    "    return counter\n",
    "# Example usage:\n",
    "s = \"ab12c\"\n",
    "t = \"ab24z\"\n",
    "solution(s,t)"
   ]
  },
  {
   "cell_type": "markdown",
   "metadata": {},
   "source": [
    "### Numpy Aray sum\n",
    "```python\n",
    "Given an integer array nums, handle multiple queries of the following type:\n",
    "\n",
    "Calculate the sum of the elements of nums between indices left and right inclusive where left <= right.\n",
    "\n",
    "Solution:\n",
    "In the constructor, cumulative_sums is an array where each element represents the cumulative sum of the elements up to that index in the nums list.\n",
    "\n",
    "The sumRange method simply calculates the difference between the cumulative sums at the right + 1 and left indices to get the sum of the range between left and right."
   ]
  },
  {
   "cell_type": "code",
   "execution_count": 88,
   "metadata": {},
   "outputs": [
    {
     "name": "stdout",
     "output_type": "stream",
     "text": [
      "18\n"
     ]
    }
   ],
   "source": [
    "class NumArray:\n",
    "\n",
    "    def __init__(self, nums: List[int]):\n",
    "        self.cumulative_sums = [0] * (len(nums) + 1)\n",
    "        for i in range(len(nums)):\n",
    "            self.cumulative_sums[i + 1] = self.cumulative_sums[i] + nums[i]\n",
    "\n",
    "    def sumRange(self, left: int, right: int) -> int:\n",
    "        return self.cumulative_sums[right + 1] - self.cumulative_sums[left]\n",
    "\n",
    "print(NumArray([1,2,3,4,5,6,7,8]).sumRange(2,5))"
   ]
  },
  {
   "cell_type": "markdown",
   "metadata": {},
   "source": [
    "```python\n",
    "Example 1:\n",
    "Input: nums = [2,1,3,3], k = 2\n",
    "Output: [3,3]\n",
    "\n",
    "Example 2:\n",
    "Input: nums = [-1,-2,3,4], k = 3\n",
    "Output: [-1,3,4]\n",
    "\n",
    "Example 3:\n",
    "Input: nums = [3,4,3,3], k = 2\n",
    "Output: [3,4]\n",
    "\n",
    "```"
   ]
  },
  {
   "cell_type": "code",
   "execution_count": 109,
   "metadata": {},
   "outputs": [],
   "source": [
    "def maxSubsequence(nums: List[int], k: int) -> List[int]:\n",
    "    val_and_index = sorted([(num, i) for i, num in enumerate(nums)])\n",
    "    \n",
    "    return [num for num, i in sorted(val_and_index[-k :], key=lambda x: x[1])]\n",
    "    \n",
    "maxSubsequence([-1,-2,3,4], k = 3)"
   ]
  },
  {
   "cell_type": "code",
   "execution_count": 108,
   "metadata": {},
   "outputs": [
    {
     "data": {
      "text/plain": [
       "[-1, 3, 4]"
      ]
     },
     "execution_count": 108,
     "metadata": {},
     "output_type": "execute_result"
    }
   ],
   "source": [
    "import heapq\n",
    "def maxSubsequence(nums: List[int], k: int) -> List[int]:\n",
    "    # heap = []\n",
    "    # for n in nums:\n",
    "    #     heapq.heappush(heap, n)\n",
    "    #     if len(heap) > k:\n",
    "    #         heapq.heappop(heap)\n",
    "    # cnt = Counter(heap)\n",
    "    # res = []\n",
    "    # for n in nums:\n",
    "    #     if cnt[n] > 0:\n",
    "    #         cnt[n] -= 1\n",
    "    #         res.append(n)\n",
    "    # return res\n",
    "    # def maxSubsequence(self, nums, k):\n",
    "    while len(nums) > k:\n",
    "        nums.remove(min(nums))\n",
    "    return nums\n",
    "maxSubsequence([-1,-2,3,4], k = 3)"
   ]
  },
  {
   "cell_type": "code",
   "execution_count": 15,
   "metadata": {},
   "outputs": [
    {
     "name": "stdout",
     "output_type": "stream",
     "text": [
      "Number of elements equal to the arithmetic mean of their neighbors: 15\n"
     ]
    }
   ],
   "source": [
    "def count_arithmetic_mean_equals_neighbours(arr):\n",
    "    count = 0\n",
    "    n = len(arr)\n",
    "\n",
    "    if n < 3:\n",
    "        return count\n",
    "    arr = [0] + arr + [0]\n",
    "    for i in range(1, n+1):\n",
    "        # if i-1 < 0:\n",
    "        #    if arr[i] == (arr[i + 1]) / 2:\n",
    "        #        count += 1\n",
    "        # elif i+1 >= n:\n",
    "        #     if arr[i] == (arr[i -1]) / 2:\n",
    "        #        count += 1\n",
    "        if arr[i] == (arr[i - 1] + arr[i + 1]) / 2:\n",
    "            count += 1\n",
    "\n",
    "    return count\n",
    "\n",
    "# Example usage:\n",
    "# arr = [2,4,6,6,3]\n",
    "arr = [0]*15\n",
    "result = count_arithmetic_mean_equals_neighbours(arr)\n",
    "print(\"Number of elements equal to the arithmetic mean of their neighbors:\", result)\n"
   ]
  },
  {
   "cell_type": "code",
   "execution_count": 71,
   "metadata": {},
   "outputs": [
    {
     "data": {
      "text/plain": [
       "['true', 'true', 'v2', 'false', 'v2', 'Not installed']"
      ]
     },
     "execution_count": 71,
     "metadata": {},
     "output_type": "execute_result"
    }
   ],
   "source": [
    "class LibraryInstaller:\n",
    "    def __init__(self):\n",
    "        self.lib_and_version = {}\n",
    "    \n",
    "    def install(self, name, new_version) -> bool:\n",
    "        \"\"\"\n",
    "        Install the provided version of library if it is newer than the existing installed version and returns true else false\n",
    "        \"\"\"\n",
    "        if name and new_version:\n",
    "            installed_version = self.lib_and_version.get(name)\n",
    "            \n",
    "            # if not install install it\n",
    "            if installed_version is None:\n",
    "                self.lib_and_version[name] = new_version\n",
    "                return True\n",
    "                \n",
    "            if self.compare_version(new_version, installed_version):\n",
    "                self.lib_and_version[name] = new_version\n",
    "                return True\n",
    "            else:\n",
    "                return False\n",
    "            \n",
    "    def latest(self, name)-> str:\n",
    "        \"\"\"\n",
    "        return the latest version of the specified library; if it does exists returns \"Not installed\"\n",
    "        \"\"\"        \n",
    "        return self.lib_and_version.get(name, \"Not installed\")\n",
    "        \n",
    "    @staticmethod\n",
    "    def compare_version(version1, version2):\n",
    "        version1 = version1[1:]\n",
    "        version2 = version2[1:]\n",
    "        parts1 = version1.split('.')\n",
    "        parts2 = version2.split('.')\n",
    "        \n",
    "        for i in range(max(len(parts1), len(parts2))):\n",
    "            \n",
    "            part1 = int(parts1[i]) if i < len(parts1) else 0\n",
    "            part2 = int(parts2[i]) if i < len(parts2) else 0\n",
    "            \n",
    "            if part1 < part2:\n",
    "                return 0\n",
    "            elif part1 > part2:\n",
    "                return 1\n",
    "        return 0\n",
    "\n",
    "# Do not change anything below this line!\n",
    "\n",
    "def solution(queries):\n",
    "    installer = LibraryInstaller()\n",
    "    answer = []\n",
    "    \n",
    "    for i in range(len(queries)):\n",
    "        arguments = queries[i].split(' ')\n",
    "        if arguments[0] == 'install':\n",
    "            if installer.install(arguments[1], arguments[2]):\n",
    "                answer.append('true')\n",
    "            else:\n",
    "                answer.append('false')\n",
    "        else:\n",
    "            answer.append(installer.latest(arguments[1]))\n",
    "\n",
    "    return answer\n",
    "\n",
    "queries = [\"install selenium v1.2.12\", \n",
    " \"install selenium v2\", \n",
    " \"latest selenium\", \n",
    " \"install selenium v1.5\", \n",
    " \"latest selenium\", \n",
    " \"latest meteor\"]\n",
    "\n",
    "solution(queries)"
   ]
  },
  {
   "cell_type": "code",
   "execution_count": 66,
   "metadata": {},
   "outputs": [
    {
     "data": {
      "text/plain": [
       "-1"
      ]
     },
     "execution_count": 66,
     "metadata": {},
     "output_type": "execute_result"
    }
   ],
   "source": [
    "def versionCompare(v1, v2):\n",
    "     \n",
    "    # This will split both the versions by '.'\n",
    "    \n",
    "    arr1 = v1.split(\".\")\n",
    "    arr2 = v2.split(\".\")\n",
    "    n = len(arr1)\n",
    "    m = len(arr2)\n",
    "     \n",
    "    # converts to integer from string\n",
    "    arr1 = [int(i) for i in arr1]\n",
    "    arr2 = [int(i) for i in arr2]\n",
    "  \n",
    "    # compares which list is bigger and fills\n",
    "    # smaller list with zero (for unequal delimiters)\n",
    "    if n>m:\n",
    "      for i in range(m, n):\n",
    "         arr2.append(0)\n",
    "    elif m>n:\n",
    "      for i in range(n, m):\n",
    "         arr1.append(0)\n",
    "     \n",
    "    # returns 1 if version 1 is bigger and -1 if\n",
    "    # version 2 is bigger and 0 if equal\n",
    "    for i in range(len(arr1)):\n",
    "      if arr1[i]>arr2[i]:\n",
    "         return 1\n",
    "      elif arr2[i]>arr1[i]:\n",
    "         return -1\n",
    "    return 0\n",
    "\n",
    "versionCompare(\"1.5\", \"2\")"
   ]
  },
  {
   "cell_type": "code",
   "execution_count": 147,
   "metadata": {},
   "outputs": [
    {
     "name": "stdout",
     "output_type": "stream",
     "text": [
      "['127.0.49.1', '128.99.58.55', '8.88.888.88', '77.255.255.254', '7.7.257.25', '26.56.4.23', '127.98.0.1', '128.96.107.55', '128.68.4.11', '127.65.64.1', '127.0.64.1', '127.0.0.1', '128.57.107.76', '128.57.907.70', '67.128.4.11', '7.7.7.8', '127.0.0.1', '128.99.107.55', '128.128.4.11', '74.0.65.76', '15.128.4.65', '0.0.0.0']\n"
     ]
    }
   ],
   "source": [
    "from pathlib import Path\n",
    "import re\n",
    "start_directory = Path(\"./root/\")\n",
    "ip_pattern = r'\\b(?:\\d{1,3}\\.){3}\\d{1,3}\\b'\n",
    "ips = []\n",
    "# Use the rglob() method to recursively list all files with specified extensions in the directory and its subdirectories\n",
    "for file_path in start_directory.rglob('*'):\n",
    "    if file_path.is_file() and file_path.suffix in ['.txt', '.inp', '.out']:\n",
    "        with open(file_path, 'r') as file:\n",
    "            # print(file_path)\n",
    "            content = file.read()\n",
    "            # print(content)\n",
    "            ips += re.findall(ip_pattern, content)\n",
    "    \n",
    "print(ips)\n",
    "\n"
   ]
  },
  {
   "cell_type": "code",
   "execution_count": 148,
   "metadata": {},
   "outputs": [
    {
     "data": {
      "text/plain": [
       "['0.0.0.0',\n",
       " '127.0.0.1',\n",
       " '127.0.0.1',\n",
       " '127.0.49.1',\n",
       " '127.0.64.1',\n",
       " '127.65.64.1',\n",
       " '127.98.0.1',\n",
       " '128.128.4.11',\n",
       " '128.57.107.76',\n",
       " '128.57.907.70',\n",
       " '128.68.4.11',\n",
       " '128.96.107.55',\n",
       " '128.99.107.55',\n",
       " '128.99.58.55',\n",
       " '15.128.4.65',\n",
       " '26.56.4.23',\n",
       " '67.128.4.11',\n",
       " '7.7.257.25',\n",
       " '7.7.7.8',\n",
       " '74.0.65.76',\n",
       " '77.255.255.254',\n",
       " '8.88.888.88']"
      ]
     },
     "execution_count": 148,
     "metadata": {},
     "output_type": "execute_result"
    }
   ],
   "source": [
    "sorted_data = sorted(ips)\n",
    "# sorted_data.sort(key=lambda x: x[0])\n",
    "sorted_data"
   ]
  },
  {
   "cell_type": "code",
   "execution_count": 1,
   "metadata": {},
   "outputs": [
    {
     "data": {
      "text/plain": [
       "False"
      ]
     },
     "execution_count": 1,
     "metadata": {},
     "output_type": "execute_result"
    }
   ],
   "source": [
    "def isSubsequence(s: str, t: str) -> bool:\n",
    "    "
   ]
  },
  {
   "cell_type": "code",
   "execution_count": null,
   "metadata": {},
   "outputs": [],
   "source": []
  }
 ],
 "metadata": {
  "kernelspec": {
   "display_name": "base",
   "language": "python",
   "name": "python3"
  },
  "language_info": {
   "codemirror_mode": {
    "name": "ipython",
    "version": 3
   },
   "file_extension": ".py",
   "mimetype": "text/x-python",
   "name": "python",
   "nbconvert_exporter": "python",
   "pygments_lexer": "ipython3",
   "version": "3.11.4"
  },
  "orig_nbformat": 4
 },
 "nbformat": 4,
 "nbformat_minor": 2
}

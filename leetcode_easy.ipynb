{
 "cells": [
  {
   "cell_type": "code",
   "execution_count": 1,
   "metadata": {},
   "outputs": [
    {
     "name": "stdout",
     "output_type": "stream",
     "text": [
      "[[1], [1, 1], [1, 2, 1], [1, 3, 3, 1], [1, 4, 6, 4, 1]]\n"
     ]
    }
   ],
   "source": [
    "from typing import *\n",
    "\n",
    "\n",
    "def generate(numRows: int) -> List[List[int]]:\n",
    "    res = [[1]]\n",
    "    for _ in range(numRows-1):\n",
    "        temp = [0] + res[-1] + [0]\n",
    "        res.append(list(map(lambda j: temp[j] + temp[j+1], range(len(res[-1])+1))))\n",
    "        # for j in range(len(res[-1]) + 1):\n",
    "        #     row.append(temp[j] + temp[j+1])\n",
    "        # res.append(row)\n",
    "            \n",
    "    return res\n",
    "print(generate(5))"
   ]
  },
  {
   "cell_type": "code",
   "execution_count": 12,
   "metadata": {},
   "outputs": [
    {
     "data": {
      "text/plain": [
       "2"
      ]
     },
     "execution_count": 12,
     "metadata": {},
     "output_type": "execute_result"
    }
   ],
   "source": [
    "def minimumDifference(nums: List[int], k: int) -> int:\n",
    "    # Time complexity = nlogn => n -for loop , nlogn = sorting\n",
    "    # SLiding window\n",
    "    nums.sort()\n",
    "    l, r = 0, k-1 # because the array is 0 indexed and len of the window is k, so 0 to k-1\n",
    "    res = float(\"inf\")\n",
    "    \n",
    "    while r < len(nums): # boundary condition for the window\n",
    "        res = min(res, nums[r] - nums[l])\n",
    "        l,r = l+1, r+1\n",
    "    return res\n",
    "        \n",
    "    \n",
    "nums = [9,4,1,7]\n",
    "k = 3\n",
    "minimumDifference(nums, 2)"
   ]
  },
  {
   "cell_type": "markdown",
   "metadata": {},
   "source": [
    "### FIND CENTER OF STAR GRAPH\n",
    "```python\n",
    "There is an undirected star graph consisting of n nodes labeled from 1 to n.\n",
    "A star graph is a graph where there is one center node and exactly n - 1 edges that connect the center node with every other node.\n",
    "\n",
    "You are given a 2D integer array edges where each edges[i] = [ui, vi] indicates that there is an edge between the nodes ui and vi. Return the center of the given star graph\n",
    "\n",
    "HINT: Since it is mentioned that it is a STAR graph, that means centre node will be common to all the edges. So, we can just check the first two edges and return the common node.\n",
    "```"
   ]
  },
  {
   "cell_type": "code",
   "execution_count": 22,
   "metadata": {},
   "outputs": [
    {
     "data": {
      "text/plain": [
       "2"
      ]
     },
     "execution_count": 22,
     "metadata": {},
     "output_type": "execute_result"
    }
   ],
   "source": [
    "def findCenter(edges: List[List[int]]) -> int:\n",
    "    # FOR STAR GRAPH\n",
    "    \n",
    "    if edges[0][0] == edges[0][1] or edges[0][0] == edges[1][1]:\n",
    "        return edges[0][0]\n",
    "    else:\n",
    "        return edges[0][1]\n",
    "    \n",
    "    # BELOW SOLUTIONS IS FOR NON-START GRAPH\n",
    "    # centre = {}\n",
    "    # for i in range(len(edges)):\n",
    "    #     for j in range(i+1, len(edges)):\n",
    "    #         c = list(set(edges[i]) & set(edges[j]))[0]\n",
    "    #         if c in centre:\n",
    "    #             centre[c] += 1\n",
    "    #         else:\n",
    "    #             centre[c] = 1\n",
    "    \n",
    "    # return max(centre, key=centre.get)\n",
    "    # 2nd method\n",
    "    # l, r = 0, 1\n",
    "    # centre = {}\n",
    "    # while r < len(edges):\n",
    "    #     c = list(set(edges[l]) & set(edges[r]))[0]\n",
    "    #     if c in centre:\n",
    "    #         centre[c] += 1\n",
    "    #     else:\n",
    "    #         centre[c] = 1\n",
    "    #     l, r = l+1, r+1\n",
    "    # return max(centre, key=centre.get)\n",
    "    \n",
    "    #3rd method\n",
    "    # l, r = 0, 1\n",
    "    # centre = set()\n",
    "    # while r < len(edges):\n",
    "    #     centre.add(list(set(edges[l]) & set(edges[r]))[0])\n",
    "    #     l, r = l+1, r+1\n",
    "        \n",
    "    \n",
    "    return list(centre)[0]\n",
    " \n",
    "    \n",
    "edges = [[1,2],[2,3],[4,2]]\n",
    "findCenter(edges)"
   ]
  },
  {
   "cell_type": "markdown",
   "metadata": {},
   "source": [
    "#### Check if Array Is Sorted and Rotated\n",
    "\n",
    "```python\n",
    "Given an array nums, return true if the array was originally sorted in non-decreasing order,\n",
    "then rotated some number of positions (including zero). Otherwise, return false.\n",
    "\n",
    "There may be duplicates in the original array.\n",
    "\n",
    "Note: An array A rotated by x positions results in an array B of the same length such that A[i] == B[(i+x) % A.length], where % is the modulo operation.\n",
    "\n",
    "Example 1:\n",
    "\n",
    "Input: nums = [3,4,5,1,2]\n",
    "Output: true\n",
    "Explanation: [1,2,3,4,5] is the original sorted array.\n",
    "You can rotate the array by x = 3 positions to begin on the the element of value 3: [3,4,5,1,2].\n",
    "Example 2:\n",
    "\n",
    "Input: nums = [2,1,3,4]\n",
    "Output: false\n",
    "Explanation: There is no sorted array once rotated that can make nums.\n",
    "\n",
    "```"
   ]
  },
  {
   "cell_type": "code",
   "execution_count": 26,
   "metadata": {},
   "outputs": [
    {
     "data": {
      "text/plain": [
       "True"
      ]
     },
     "execution_count": 26,
     "metadata": {},
     "output_type": "execute_result"
    }
   ],
   "source": [
    "A = [1,2,3,4,5]\n",
    "b = [3,4,5,1,2]\n",
    "A[0] == b[(0+3) % len(A)]"
   ]
  },
  {
   "cell_type": "code",
   "execution_count": 43,
   "metadata": {},
   "outputs": [
    {
     "name": "stdout",
     "output_type": "stream",
     "text": [
      "[3, 4, 5, 1, 2]\n",
      "[4, 5, 1, 2, 3]\n",
      "[5, 1, 2, 3, 4]\n",
      "[1, 2, 3, 4, 5]\n"
     ]
    },
    {
     "data": {
      "text/plain": [
       "True"
      ]
     },
     "execution_count": 43,
     "metadata": {},
     "output_type": "execute_result"
    }
   ],
   "source": [
    "def sorted_rotated(nums: List[int]) -> bool:\n",
    "    count  = 0\n",
    "    # if array in ascending order --> already sorted return True\n",
    "    # also it will give us the position from where the array was rotated\n",
    "    for i in range(0, len(nums)-1):\n",
    "        if nums[i] > nums[i + 1]:\n",
    "            count+=1\n",
    "    # now we know the array is rotated\n",
    "    # after finding the break point, we need to make sure that it is roated\n",
    "    # and we do that by comparing the last element of the given array with the\n",
    "    # the first element.\n",
    "    # Ex: [3,4,5,1,2], after 5 its started dec i.e. this is the point from where the array is rotated\n",
    "    # and to make it sure that if we rotate this array again and it will be sorted, just compare last and\n",
    "    # the first element. Last element should be less than the first. https://www.youtube.com/watch?v=e22ns5G0qKY&ab_channel=CodersCamp\n",
    "    \n",
    "    if count > 1 or (count == 1 and nums[0] < nums[len(nums)-1]):\n",
    "        return False\n",
    "    \n",
    "    return True\n",
    "nums = [3,4,5,1,2]\n",
    "sorted_rotated(nums)\n"
   ]
  },
  {
   "cell_type": "code",
   "execution_count": 54,
   "metadata": {},
   "outputs": [
    {
     "data": {
      "text/plain": [
       "3"
      ]
     },
     "execution_count": 54,
     "metadata": {},
     "output_type": "execute_result"
    }
   ],
   "source": [
    "from collections import defaultdict\n",
    "from typing import List\n",
    "\n",
    "def repeatedNTimes(nums: List[int]) -> int:\n",
    "    count = defaultdict(int)\n",
    "    \n",
    "    for num in nums:\n",
    "        count[num] += 1\n",
    "\n",
    "    return max(count, key=count.get)\n",
    "\n",
    "    \"\"\"\n",
    "    set1 = set()\n",
    "    for i in nums :\n",
    "        if i in set1 :\n",
    "            return i\n",
    "        else :\n",
    "            set1.add(i)\n",
    "    \"\"\"\n",
    "\n",
    "repeatedNTimes(nums)"
   ]
  },
  {
   "cell_type": "code",
   "execution_count": 60,
   "metadata": {},
   "outputs": [
    {
     "data": {
      "text/plain": [
       "['we', 'rock']"
      ]
     },
     "execution_count": 60,
     "metadata": {},
     "output_type": "execute_result"
    }
   ],
   "source": [
    "def findOcurrences(text: str, first: str, second: str) -> List[str]:\n",
    "        text = text.split()\n",
    "        l,r = 0, 2\n",
    "        res= []\n",
    "        while r < len(text):\n",
    "            if text[l:r] == [first, second]:\n",
    "                res.append(text[r])\n",
    "            l,r = l+1, r+1\n",
    "        return res\n",
    "\n",
    "text = \"we will we will rock you\"\n",
    "first = \"we\"\n",
    "second = \"will\"\n",
    "findOcurrences(text, first, second)\n"
   ]
  },
  {
   "cell_type": "code",
   "execution_count": 67,
   "metadata": {},
   "outputs": [],
   "source": [
    "def moveZeroes(nums: List[int]) -> None:\n",
    "    \"\"\"\n",
    "    Do not return anything, modify nums in-place instead.\n",
    "    \"\"\"\n",
    "    slow = 0\n",
    "    for fast in range(len(nums)):\n",
    "        # swap if a non zero element is found at fast location\n",
    "        if nums[fast] != 0 and nums[slow] == 0:\n",
    "            nums[slow], nums[fast] = nums[fast], nums[slow]\n",
    "\n",
    "        # if the new element at slow is non-zero we dont want it to be swapped\n",
    "        # so we increment it tomaintain the order\n",
    "        if nums[slow] != 0:\n",
    "            slow += 1\n",
    "moveZeroes([0,1,0,3,12])\n",
    "    "
   ]
  },
  {
   "cell_type": "code",
   "execution_count": null,
   "metadata": {},
   "outputs": [],
   "source": []
  }
 ],
 "metadata": {
  "kernelspec": {
   "display_name": "base",
   "language": "python",
   "name": "python3"
  },
  "language_info": {
   "codemirror_mode": {
    "name": "ipython",
    "version": 3
   },
   "file_extension": ".py",
   "mimetype": "text/x-python",
   "name": "python",
   "nbconvert_exporter": "python",
   "pygments_lexer": "ipython3",
   "version": "3.11.4"
  },
  "orig_nbformat": 4
 },
 "nbformat": 4,
 "nbformat_minor": 2
}
